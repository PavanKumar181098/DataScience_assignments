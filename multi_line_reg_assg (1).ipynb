{
  "nbformat": 4,
  "nbformat_minor": 0,
  "metadata": {
    "colab": {
      "name": "multi_line_reg_assg.ipynb",
      "provenance": [],
      "collapsed_sections": []
    },
    "kernelspec": {
      "name": "python3",
      "display_name": "Python 3"
    },
    "language_info": {
      "name": "python"
    }
  },
  "cells": [
    {
      "cell_type": "code",
      "execution_count": null,
      "metadata": {
        "id": "PFCeQOL_4gv7"
      },
      "outputs": [],
      "source": [
        "import pandas as pd\n",
        "import matplotlib.pyplot as plt\n",
        "import seaborn as sns\n",
        "from statsmodels.graphics.regressionplots import influence_plot\n",
        "import statsmodels.formula.api as smf\n",
        "import numpy as np"
      ]
    },
    {
      "cell_type": "code",
      "source": [
        "data=pd.read_csv(\"/content/50_Startups.csv\")"
      ],
      "metadata": {
        "id": "IHMSy-cU4oMD"
      },
      "execution_count": null,
      "outputs": []
    },
    {
      "cell_type": "code",
      "source": [
        "data.head()"
      ],
      "metadata": {
        "colab": {
          "base_uri": "https://localhost:8080/",
          "height": 206
        },
        "id": "y58WgJYu5Hx9",
        "outputId": "7ac6715a-d003-424c-8cf8-c2f7c962f2a7"
      },
      "execution_count": null,
      "outputs": [
        {
          "output_type": "execute_result",
          "data": {
            "text/plain": [
              "   R&D Spend  Administration  Marketing Spend       State     Profit\n",
              "0  165349.20       136897.80        471784.10    New York  192261.83\n",
              "1  162597.70       151377.59        443898.53  California  191792.06\n",
              "2  153441.51       101145.55        407934.54     Florida  191050.39\n",
              "3  144372.41       118671.85        383199.62    New York  182901.99\n",
              "4  142107.34        91391.77        366168.42     Florida  166187.94"
            ],
            "text/html": [
              "\n",
              "  <div id=\"df-474b19c2-3aba-49f8-a63d-1bd4e3d95390\">\n",
              "    <div class=\"colab-df-container\">\n",
              "      <div>\n",
              "<style scoped>\n",
              "    .dataframe tbody tr th:only-of-type {\n",
              "        vertical-align: middle;\n",
              "    }\n",
              "\n",
              "    .dataframe tbody tr th {\n",
              "        vertical-align: top;\n",
              "    }\n",
              "\n",
              "    .dataframe thead th {\n",
              "        text-align: right;\n",
              "    }\n",
              "</style>\n",
              "<table border=\"1\" class=\"dataframe\">\n",
              "  <thead>\n",
              "    <tr style=\"text-align: right;\">\n",
              "      <th></th>\n",
              "      <th>R&amp;D Spend</th>\n",
              "      <th>Administration</th>\n",
              "      <th>Marketing Spend</th>\n",
              "      <th>State</th>\n",
              "      <th>Profit</th>\n",
              "    </tr>\n",
              "  </thead>\n",
              "  <tbody>\n",
              "    <tr>\n",
              "      <th>0</th>\n",
              "      <td>165349.20</td>\n",
              "      <td>136897.80</td>\n",
              "      <td>471784.10</td>\n",
              "      <td>New York</td>\n",
              "      <td>192261.83</td>\n",
              "    </tr>\n",
              "    <tr>\n",
              "      <th>1</th>\n",
              "      <td>162597.70</td>\n",
              "      <td>151377.59</td>\n",
              "      <td>443898.53</td>\n",
              "      <td>California</td>\n",
              "      <td>191792.06</td>\n",
              "    </tr>\n",
              "    <tr>\n",
              "      <th>2</th>\n",
              "      <td>153441.51</td>\n",
              "      <td>101145.55</td>\n",
              "      <td>407934.54</td>\n",
              "      <td>Florida</td>\n",
              "      <td>191050.39</td>\n",
              "    </tr>\n",
              "    <tr>\n",
              "      <th>3</th>\n",
              "      <td>144372.41</td>\n",
              "      <td>118671.85</td>\n",
              "      <td>383199.62</td>\n",
              "      <td>New York</td>\n",
              "      <td>182901.99</td>\n",
              "    </tr>\n",
              "    <tr>\n",
              "      <th>4</th>\n",
              "      <td>142107.34</td>\n",
              "      <td>91391.77</td>\n",
              "      <td>366168.42</td>\n",
              "      <td>Florida</td>\n",
              "      <td>166187.94</td>\n",
              "    </tr>\n",
              "  </tbody>\n",
              "</table>\n",
              "</div>\n",
              "      <button class=\"colab-df-convert\" onclick=\"convertToInteractive('df-474b19c2-3aba-49f8-a63d-1bd4e3d95390')\"\n",
              "              title=\"Convert this dataframe to an interactive table.\"\n",
              "              style=\"display:none;\">\n",
              "        \n",
              "  <svg xmlns=\"http://www.w3.org/2000/svg\" height=\"24px\"viewBox=\"0 0 24 24\"\n",
              "       width=\"24px\">\n",
              "    <path d=\"M0 0h24v24H0V0z\" fill=\"none\"/>\n",
              "    <path d=\"M18.56 5.44l.94 2.06.94-2.06 2.06-.94-2.06-.94-.94-2.06-.94 2.06-2.06.94zm-11 1L8.5 8.5l.94-2.06 2.06-.94-2.06-.94L8.5 2.5l-.94 2.06-2.06.94zm10 10l.94 2.06.94-2.06 2.06-.94-2.06-.94-.94-2.06-.94 2.06-2.06.94z\"/><path d=\"M17.41 7.96l-1.37-1.37c-.4-.4-.92-.59-1.43-.59-.52 0-1.04.2-1.43.59L10.3 9.45l-7.72 7.72c-.78.78-.78 2.05 0 2.83L4 21.41c.39.39.9.59 1.41.59.51 0 1.02-.2 1.41-.59l7.78-7.78 2.81-2.81c.8-.78.8-2.07 0-2.86zM5.41 20L4 18.59l7.72-7.72 1.47 1.35L5.41 20z\"/>\n",
              "  </svg>\n",
              "      </button>\n",
              "      \n",
              "  <style>\n",
              "    .colab-df-container {\n",
              "      display:flex;\n",
              "      flex-wrap:wrap;\n",
              "      gap: 12px;\n",
              "    }\n",
              "\n",
              "    .colab-df-convert {\n",
              "      background-color: #E8F0FE;\n",
              "      border: none;\n",
              "      border-radius: 50%;\n",
              "      cursor: pointer;\n",
              "      display: none;\n",
              "      fill: #1967D2;\n",
              "      height: 32px;\n",
              "      padding: 0 0 0 0;\n",
              "      width: 32px;\n",
              "    }\n",
              "\n",
              "    .colab-df-convert:hover {\n",
              "      background-color: #E2EBFA;\n",
              "      box-shadow: 0px 1px 2px rgba(60, 64, 67, 0.3), 0px 1px 3px 1px rgba(60, 64, 67, 0.15);\n",
              "      fill: #174EA6;\n",
              "    }\n",
              "\n",
              "    [theme=dark] .colab-df-convert {\n",
              "      background-color: #3B4455;\n",
              "      fill: #D2E3FC;\n",
              "    }\n",
              "\n",
              "    [theme=dark] .colab-df-convert:hover {\n",
              "      background-color: #434B5C;\n",
              "      box-shadow: 0px 1px 3px 1px rgba(0, 0, 0, 0.15);\n",
              "      filter: drop-shadow(0px 1px 2px rgba(0, 0, 0, 0.3));\n",
              "      fill: #FFFFFF;\n",
              "    }\n",
              "  </style>\n",
              "\n",
              "      <script>\n",
              "        const buttonEl =\n",
              "          document.querySelector('#df-474b19c2-3aba-49f8-a63d-1bd4e3d95390 button.colab-df-convert');\n",
              "        buttonEl.style.display =\n",
              "          google.colab.kernel.accessAllowed ? 'block' : 'none';\n",
              "\n",
              "        async function convertToInteractive(key) {\n",
              "          const element = document.querySelector('#df-474b19c2-3aba-49f8-a63d-1bd4e3d95390');\n",
              "          const dataTable =\n",
              "            await google.colab.kernel.invokeFunction('convertToInteractive',\n",
              "                                                     [key], {});\n",
              "          if (!dataTable) return;\n",
              "\n",
              "          const docLinkHtml = 'Like what you see? Visit the ' +\n",
              "            '<a target=\"_blank\" href=https://colab.research.google.com/notebooks/data_table.ipynb>data table notebook</a>'\n",
              "            + ' to learn more about interactive tables.';\n",
              "          element.innerHTML = '';\n",
              "          dataTable['output_type'] = 'display_data';\n",
              "          await google.colab.output.renderOutput(dataTable, element);\n",
              "          const docLink = document.createElement('div');\n",
              "          docLink.innerHTML = docLinkHtml;\n",
              "          element.appendChild(docLink);\n",
              "        }\n",
              "      </script>\n",
              "    </div>\n",
              "  </div>\n",
              "  "
            ]
          },
          "metadata": {},
          "execution_count": 7
        }
      ]
    },
    {
      "cell_type": "code",
      "source": [
        "data.info()"
      ],
      "metadata": {
        "colab": {
          "base_uri": "https://localhost:8080/"
        },
        "id": "fYszBzS25Txn",
        "outputId": "4a61facd-c4fd-41eb-d133-1337dcdfa03a"
      },
      "execution_count": null,
      "outputs": [
        {
          "output_type": "stream",
          "name": "stdout",
          "text": [
            "<class 'pandas.core.frame.DataFrame'>\n",
            "RangeIndex: 50 entries, 0 to 49\n",
            "Data columns (total 5 columns):\n",
            " #   Column           Non-Null Count  Dtype  \n",
            "---  ------           --------------  -----  \n",
            " 0   R&D Spend        50 non-null     float64\n",
            " 1   Administration   50 non-null     float64\n",
            " 2   Marketing Spend  50 non-null     float64\n",
            " 3   State            50 non-null     object \n",
            " 4   Profit           50 non-null     float64\n",
            "dtypes: float64(4), object(1)\n",
            "memory usage: 2.1+ KB\n"
          ]
        }
      ]
    },
    {
      "cell_type": "code",
      "source": [
        "data.isna().sum() #no null values"
      ],
      "metadata": {
        "colab": {
          "base_uri": "https://localhost:8080/"
        },
        "id": "P1bTadpe5X7a",
        "outputId": "db06f421-e1b1-4369-e053-b0dcda28cc62"
      },
      "execution_count": null,
      "outputs": [
        {
          "output_type": "execute_result",
          "data": {
            "text/plain": [
              "R&D Spend          0\n",
              "Administration     0\n",
              "Marketing Spend    0\n",
              "State              0\n",
              "Profit             0\n",
              "dtype: int64"
            ]
          },
          "metadata": {},
          "execution_count": 9
        }
      ]
    },
    {
      "cell_type": "code",
      "source": [
        "data.corr()"
      ],
      "metadata": {
        "colab": {
          "base_uri": "https://localhost:8080/",
          "height": 175
        },
        "id": "GGqYWWzp5dmY",
        "outputId": "b11b97a8-f910-4d12-83cc-ad393b007ba0"
      },
      "execution_count": null,
      "outputs": [
        {
          "output_type": "execute_result",
          "data": {
            "text/plain": [
              "                 R&D Spend  Administration  Marketing Spend    Profit\n",
              "R&D Spend         1.000000        0.241955         0.724248  0.972900\n",
              "Administration    0.241955        1.000000        -0.032154  0.200717\n",
              "Marketing Spend   0.724248       -0.032154         1.000000  0.747766\n",
              "Profit            0.972900        0.200717         0.747766  1.000000"
            ],
            "text/html": [
              "\n",
              "  <div id=\"df-e21c0f3a-7d1e-45df-8333-b84c1b82b4bc\">\n",
              "    <div class=\"colab-df-container\">\n",
              "      <div>\n",
              "<style scoped>\n",
              "    .dataframe tbody tr th:only-of-type {\n",
              "        vertical-align: middle;\n",
              "    }\n",
              "\n",
              "    .dataframe tbody tr th {\n",
              "        vertical-align: top;\n",
              "    }\n",
              "\n",
              "    .dataframe thead th {\n",
              "        text-align: right;\n",
              "    }\n",
              "</style>\n",
              "<table border=\"1\" class=\"dataframe\">\n",
              "  <thead>\n",
              "    <tr style=\"text-align: right;\">\n",
              "      <th></th>\n",
              "      <th>R&amp;D Spend</th>\n",
              "      <th>Administration</th>\n",
              "      <th>Marketing Spend</th>\n",
              "      <th>Profit</th>\n",
              "    </tr>\n",
              "  </thead>\n",
              "  <tbody>\n",
              "    <tr>\n",
              "      <th>R&amp;D Spend</th>\n",
              "      <td>1.000000</td>\n",
              "      <td>0.241955</td>\n",
              "      <td>0.724248</td>\n",
              "      <td>0.972900</td>\n",
              "    </tr>\n",
              "    <tr>\n",
              "      <th>Administration</th>\n",
              "      <td>0.241955</td>\n",
              "      <td>1.000000</td>\n",
              "      <td>-0.032154</td>\n",
              "      <td>0.200717</td>\n",
              "    </tr>\n",
              "    <tr>\n",
              "      <th>Marketing Spend</th>\n",
              "      <td>0.724248</td>\n",
              "      <td>-0.032154</td>\n",
              "      <td>1.000000</td>\n",
              "      <td>0.747766</td>\n",
              "    </tr>\n",
              "    <tr>\n",
              "      <th>Profit</th>\n",
              "      <td>0.972900</td>\n",
              "      <td>0.200717</td>\n",
              "      <td>0.747766</td>\n",
              "      <td>1.000000</td>\n",
              "    </tr>\n",
              "  </tbody>\n",
              "</table>\n",
              "</div>\n",
              "      <button class=\"colab-df-convert\" onclick=\"convertToInteractive('df-e21c0f3a-7d1e-45df-8333-b84c1b82b4bc')\"\n",
              "              title=\"Convert this dataframe to an interactive table.\"\n",
              "              style=\"display:none;\">\n",
              "        \n",
              "  <svg xmlns=\"http://www.w3.org/2000/svg\" height=\"24px\"viewBox=\"0 0 24 24\"\n",
              "       width=\"24px\">\n",
              "    <path d=\"M0 0h24v24H0V0z\" fill=\"none\"/>\n",
              "    <path d=\"M18.56 5.44l.94 2.06.94-2.06 2.06-.94-2.06-.94-.94-2.06-.94 2.06-2.06.94zm-11 1L8.5 8.5l.94-2.06 2.06-.94-2.06-.94L8.5 2.5l-.94 2.06-2.06.94zm10 10l.94 2.06.94-2.06 2.06-.94-2.06-.94-.94-2.06-.94 2.06-2.06.94z\"/><path d=\"M17.41 7.96l-1.37-1.37c-.4-.4-.92-.59-1.43-.59-.52 0-1.04.2-1.43.59L10.3 9.45l-7.72 7.72c-.78.78-.78 2.05 0 2.83L4 21.41c.39.39.9.59 1.41.59.51 0 1.02-.2 1.41-.59l7.78-7.78 2.81-2.81c.8-.78.8-2.07 0-2.86zM5.41 20L4 18.59l7.72-7.72 1.47 1.35L5.41 20z\"/>\n",
              "  </svg>\n",
              "      </button>\n",
              "      \n",
              "  <style>\n",
              "    .colab-df-container {\n",
              "      display:flex;\n",
              "      flex-wrap:wrap;\n",
              "      gap: 12px;\n",
              "    }\n",
              "\n",
              "    .colab-df-convert {\n",
              "      background-color: #E8F0FE;\n",
              "      border: none;\n",
              "      border-radius: 50%;\n",
              "      cursor: pointer;\n",
              "      display: none;\n",
              "      fill: #1967D2;\n",
              "      height: 32px;\n",
              "      padding: 0 0 0 0;\n",
              "      width: 32px;\n",
              "    }\n",
              "\n",
              "    .colab-df-convert:hover {\n",
              "      background-color: #E2EBFA;\n",
              "      box-shadow: 0px 1px 2px rgba(60, 64, 67, 0.3), 0px 1px 3px 1px rgba(60, 64, 67, 0.15);\n",
              "      fill: #174EA6;\n",
              "    }\n",
              "\n",
              "    [theme=dark] .colab-df-convert {\n",
              "      background-color: #3B4455;\n",
              "      fill: #D2E3FC;\n",
              "    }\n",
              "\n",
              "    [theme=dark] .colab-df-convert:hover {\n",
              "      background-color: #434B5C;\n",
              "      box-shadow: 0px 1px 3px 1px rgba(0, 0, 0, 0.15);\n",
              "      filter: drop-shadow(0px 1px 2px rgba(0, 0, 0, 0.3));\n",
              "      fill: #FFFFFF;\n",
              "    }\n",
              "  </style>\n",
              "\n",
              "      <script>\n",
              "        const buttonEl =\n",
              "          document.querySelector('#df-e21c0f3a-7d1e-45df-8333-b84c1b82b4bc button.colab-df-convert');\n",
              "        buttonEl.style.display =\n",
              "          google.colab.kernel.accessAllowed ? 'block' : 'none';\n",
              "\n",
              "        async function convertToInteractive(key) {\n",
              "          const element = document.querySelector('#df-e21c0f3a-7d1e-45df-8333-b84c1b82b4bc');\n",
              "          const dataTable =\n",
              "            await google.colab.kernel.invokeFunction('convertToInteractive',\n",
              "                                                     [key], {});\n",
              "          if (!dataTable) return;\n",
              "\n",
              "          const docLinkHtml = 'Like what you see? Visit the ' +\n",
              "            '<a target=\"_blank\" href=https://colab.research.google.com/notebooks/data_table.ipynb>data table notebook</a>'\n",
              "            + ' to learn more about interactive tables.';\n",
              "          element.innerHTML = '';\n",
              "          dataTable['output_type'] = 'display_data';\n",
              "          await google.colab.output.renderOutput(dataTable, element);\n",
              "          const docLink = document.createElement('div');\n",
              "          docLink.innerHTML = docLinkHtml;\n",
              "          element.appendChild(docLink);\n",
              "        }\n",
              "      </script>\n",
              "    </div>\n",
              "  </div>\n",
              "  "
            ]
          },
          "metadata": {},
          "execution_count": 10
        }
      ]
    },
    {
      "cell_type": "code",
      "source": [
        "data.duplicated()"
      ],
      "metadata": {
        "colab": {
          "base_uri": "https://localhost:8080/"
        },
        "id": "VoSgHZn28nEM",
        "outputId": "8e2f6a34-7646-4307-80ee-786deb302c10"
      },
      "execution_count": null,
      "outputs": [
        {
          "output_type": "execute_result",
          "data": {
            "text/plain": [
              "0     False\n",
              "1     False\n",
              "2     False\n",
              "3     False\n",
              "4     False\n",
              "5     False\n",
              "6     False\n",
              "7     False\n",
              "8     False\n",
              "9     False\n",
              "10    False\n",
              "11    False\n",
              "12    False\n",
              "13    False\n",
              "14    False\n",
              "15    False\n",
              "16    False\n",
              "17    False\n",
              "18    False\n",
              "19    False\n",
              "20    False\n",
              "21    False\n",
              "22    False\n",
              "23    False\n",
              "24    False\n",
              "25    False\n",
              "26    False\n",
              "27    False\n",
              "28    False\n",
              "29    False\n",
              "30    False\n",
              "31    False\n",
              "32    False\n",
              "33    False\n",
              "34    False\n",
              "35    False\n",
              "36    False\n",
              "37    False\n",
              "38    False\n",
              "39    False\n",
              "40    False\n",
              "41    False\n",
              "42    False\n",
              "43    False\n",
              "44    False\n",
              "45    False\n",
              "46    False\n",
              "47    False\n",
              "48    False\n",
              "49    False\n",
              "dtype: bool"
            ]
          },
          "metadata": {},
          "execution_count": 11
        }
      ]
    },
    {
      "cell_type": "code",
      "source": [
        "data.duplicated().sum()"
      ],
      "metadata": {
        "colab": {
          "base_uri": "https://localhost:8080/"
        },
        "id": "f8R9065d8sHz",
        "outputId": "85c043dd-6f32-4cbe-cf89-05e10780c635"
      },
      "execution_count": null,
      "outputs": [
        {
          "output_type": "execute_result",
          "data": {
            "text/plain": [
              "0"
            ]
          },
          "metadata": {},
          "execution_count": 12
        }
      ]
    },
    {
      "cell_type": "code",
      "source": [
        "data_RDSpend=data['R&D Spend']\n",
        "plt.boxplot(data_RDSpend)"
      ],
      "metadata": {
        "colab": {
          "base_uri": "https://localhost:8080/",
          "height": 404
        },
        "id": "W-fzlSWV8vG2",
        "outputId": "1977e2ec-33a6-4186-ae7e-a89574b24e76"
      },
      "execution_count": null,
      "outputs": [
        {
          "output_type": "execute_result",
          "data": {
            "text/plain": [
              "{'boxes': [<matplotlib.lines.Line2D at 0x7f80a6ba9550>],\n",
              " 'caps': [<matplotlib.lines.Line2D at 0x7f80a6bb8f90>,\n",
              "  <matplotlib.lines.Line2D at 0x7f80a6bc0510>],\n",
              " 'fliers': [<matplotlib.lines.Line2D at 0x7f80a6bc0fd0>],\n",
              " 'means': [],\n",
              " 'medians': [<matplotlib.lines.Line2D at 0x7f80a6bc0a90>],\n",
              " 'whiskers': [<matplotlib.lines.Line2D at 0x7f80a6bb8510>,\n",
              "  <matplotlib.lines.Line2D at 0x7f80a6bb8a50>]}"
            ]
          },
          "metadata": {},
          "execution_count": 13
        },
        {
          "output_type": "display_data",
          "data": {
            "text/plain": [
              "<Figure size 432x288 with 1 Axes>"
            ],
            "image/png": "[encoded data removed]"
          },
          "metadata": {
            "needs_background": "light"
          }
        }
      ]
    },
    {
      "cell_type": "code",
      "source": [
        "data_Admin=data['Administration']\n",
        "plt.boxplot(data_Admin)"
      ],
      "metadata": {
        "colab": {
          "base_uri": "https://localhost:8080/",
          "height": 404
        },
        "id": "t1TneD8P8-k-",
        "outputId": "89297b5f-a8ff-4314-b7b3-0d5de25ddc94"
      },
      "execution_count": null,
      "outputs": [
        {
          "output_type": "execute_result",
          "data": {
            "text/plain": [
              "{'boxes': [<matplotlib.lines.Line2D at 0x7f80a668db90>],\n",
              " 'caps': [<matplotlib.lines.Line2D at 0x7f80a6695b90>,\n",
              "  <matplotlib.lines.Line2D at 0x7f80a669c110>],\n",
              " 'fliers': [<matplotlib.lines.Line2D at 0x7f80a669cbd0>],\n",
              " 'means': [],\n",
              " 'medians': [<matplotlib.lines.Line2D at 0x7f80a669c690>],\n",
              " 'whiskers': [<matplotlib.lines.Line2D at 0x7f80a6695110>,\n",
              "  <matplotlib.lines.Line2D at 0x7f80a6695650>]}"
            ]
          },
          "metadata": {},
          "execution_count": 14
        },
        {
          "output_type": "display_data",
          "data": {
            "text/plain": [
              "<Figure size 432x288 with 1 Axes>"
            ],
            "image/png": "[encoded data removed]"
          },
          "metadata": {
            "needs_background": "light"
          }
        }
      ]
    },
    {
      "cell_type": "code",
      "source": [
        "data_market=data['Marketing Spend']\n",
        "plt.boxplot(data_market)"
      ],
      "metadata": {
        "colab": {
          "base_uri": "https://localhost:8080/",
          "height": 404
        },
        "id": "OV1Gea7N9cwp",
        "outputId": "520be4a2-0c50-4d5c-d2b0-01bc8e82b6ec"
      },
      "execution_count": null,
      "outputs": [
        {
          "output_type": "execute_result",
          "data": {
            "text/plain": [
              "{'boxes': [<matplotlib.lines.Line2D at 0x7f80a6609190>],\n",
              " 'caps': [<matplotlib.lines.Line2D at 0x7f80a6611190>,\n",
              "  <matplotlib.lines.Line2D at 0x7f80a66116d0>],\n",
              " 'fliers': [<matplotlib.lines.Line2D at 0x7f80a661a1d0>],\n",
              " 'means': [],\n",
              " 'medians': [<matplotlib.lines.Line2D at 0x7f80a6611c50>],\n",
              " 'whiskers': [<matplotlib.lines.Line2D at 0x7f80a66096d0>,\n",
              "  <matplotlib.lines.Line2D at 0x7f80a6609c10>]}"
            ]
          },
          "metadata": {},
          "execution_count": 15
        },
        {
          "output_type": "display_data",
          "data": {
            "text/plain": [
              "<Figure size 432x288 with 1 Axes>"
            ],
            "image/png": "[encoded data removed]"
          },
          "metadata": {
            "needs_background": "light"
          }
        }
      ]
    },
    {
      "cell_type": "code",
      "source": [
        "data['State'].value_counts().plot.bar()"
      ],
      "metadata": {
        "colab": {
          "base_uri": "https://localhost:8080/",
          "height": 320
        },
        "id": "KYxYNQ-P9tQ5",
        "outputId": "d658fc17-b610-4d6b-e80d-7b826f7855c2"
      },
      "execution_count": null,
      "outputs": [
        {
          "output_type": "execute_result",
          "data": {
            "text/plain": [
              "<matplotlib.axes._subplots.AxesSubplot at 0x7f80a6588b10>"
            ]
          },
          "metadata": {},
          "execution_count": 16
        },
        {
          "output_type": "display_data",
          "data": {
            "text/plain": [
              "<Figure size 432x288 with 1 Axes>"
            ],
            "image/png": "[encoded data removed]"
          },
          "metadata": {
            "needs_background": "light"
          }
        }
      ]
    },
    {
      "cell_type": "code",
      "source": [
        "#cagegorical data\n",
        "obj_column=data[['State']]"
      ],
      "metadata": {
        "id": "BVbmwWOg95yU"
      },
      "execution_count": null,
      "outputs": []
    },
    {
      "cell_type": "code",
      "source": [
        "obj_column.isnull().sum()"
      ],
      "metadata": {
        "colab": {
          "base_uri": "https://localhost:8080/"
        },
        "id": "MFnBaGyy-eNb",
        "outputId": "6d7f4018-4143-40cd-bf75-4c1b2b63fca3"
      },
      "execution_count": null,
      "outputs": [
        {
          "output_type": "execute_result",
          "data": {
            "text/plain": [
              "State    0\n",
              "dtype: int64"
            ]
          },
          "metadata": {},
          "execution_count": 18
        }
      ]
    },
    {
      "cell_type": "code",
      "source": [
        "obj_column"
      ],
      "metadata": {
        "colab": {
          "base_uri": "https://localhost:8080/",
          "height": 1000
        },
        "id": "YIivwzJi-hEe",
        "outputId": "ff934265-3750-4575-e126-18a4f56f0b8e"
      },
      "execution_count": null,
      "outputs": [
        {
          "output_type": "execute_result",
          "data": {
            "text/plain": [
              "         State\n",
              "0     New York\n",
              "1   California\n",
              "2      Florida\n",
              "3     New York\n",
              "4      Florida\n",
              "5     New York\n",
              "6   California\n",
              "7      Florida\n",
              "8     New York\n",
              "9   California\n",
              "10     Florida\n",
              "11  California\n",
              "12     Florida\n",
              "13  California\n",
              "14     Florida\n",
              "15    New York\n",
              "16  California\n",
              "17    New York\n",
              "18     Florida\n",
              "19    New York\n",
              "20  California\n",
              "21    New York\n",
              "22     Florida\n",
              "23     Florida\n",
              "24    New York\n",
              "25  California\n",
              "26     Florida\n",
              "27    New York\n",
              "28     Florida\n",
              "29    New York\n",
              "30     Florida\n",
              "31    New York\n",
              "32  California\n",
              "33     Florida\n",
              "34  California\n",
              "35    New York\n",
              "36     Florida\n",
              "37  California\n",
              "38    New York\n",
              "39  California\n",
              "40  California\n",
              "41     Florida\n",
              "42  California\n",
              "43    New York\n",
              "44  California\n",
              "45    New York\n",
              "46     Florida\n",
              "47  California\n",
              "48    New York\n",
              "49  California"
            ],
            "text/html": [
              "\n",
              "  <div id=\"df-2259dfa7-6a0e-4d1e-bbfa-41f2a2ca3e08\">\n",
              "    <div class=\"colab-df-container\">\n",
              "      <div>\n",
              "<style scoped>\n",
              "    .dataframe tbody tr th:only-of-type {\n",
              "        vertical-align: middle;\n",
              "    }\n",
              "\n",
              "    .dataframe tbody tr th {\n",
              "        vertical-align: top;\n",
              "    }\n",
              "\n",
              "    .dataframe thead th {\n",
              "        text-align: right;\n",
              "    }\n",
              "</style>\n",
              "<table border=\"1\" class=\"dataframe\">\n",
              "  <thead>\n",
              "    <tr style=\"text-align: right;\">\n",
              "      <th></th>\n",
              "      <th>State</th>\n",
              "    </tr>\n",
              "  </thead>\n",
              "  <tbody>\n",
              "    <tr>\n",
              "      <th>0</th>\n",
              "      <td>New York</td>\n",
              "    </tr>\n",
              "    <tr>\n",
              "      <th>1</th>\n",
              "      <td>California</td>\n",
              "    </tr>\n",
              "    <tr>\n",
              "      <th>2</th>\n",
              "      <td>Florida</td>\n",
              "    </tr>\n",
              "    <tr>\n",
              "      <th>3</th>\n",
              "      <td>New York</td>\n",
              "    </tr>\n",
              "    <tr>\n",
              "      <th>4</th>\n",
              "      <td>Florida</td>\n",
              "    </tr>\n",
              "    <tr>\n",
              "      <th>5</th>\n",
              "      <td>New York</td>\n",
              "    </tr>\n",
              "    <tr>\n",
              "      <th>6</th>\n",
              "      <td>California</td>\n",
              "    </tr>\n",
              "    <tr>\n",
              "      <th>7</th>\n",
              "      <td>Florida</td>\n",
              "    </tr>\n",
              "    <tr>\n",
              "      <th>8</th>\n",
              "      <td>New York</td>\n",
              "    </tr>\n",
              "    <tr>\n",
              "      <th>9</th>\n",
              "      <td>California</td>\n",
              "    </tr>\n",
              "    <tr>\n",
              "      <th>10</th>\n",
              "      <td>Florida</td>\n",
              "    </tr>\n",
              "    <tr>\n",
              "      <th>11</th>\n",
              "      <td>California</td>\n",
              "    </tr>\n",
              "    <tr>\n",
              "      <th>12</th>\n",
              "      <td>Florida</td>\n",
              "    </tr>\n",
              "    <tr>\n",
              "      <th>13</th>\n",
              "      <td>California</td>\n",
              "    </tr>\n",
              "    <tr>\n",
              "      <th>14</th>\n",
              "      <td>Florida</td>\n",
              "    </tr>\n",
              "    <tr>\n",
              "      <th>15</th>\n",
              "      <td>New York</td>\n",
              "    </tr>\n",
              "    <tr>\n",
              "      <th>16</th>\n",
              "      <td>California</td>\n",
              "    </tr>\n",
              "    <tr>\n",
              "      <th>17</th>\n",
              "      <td>New York</td>\n",
              "    </tr>\n",
              "    <tr>\n",
              "      <th>18</th>\n",
              "      <td>Florida</td>\n",
              "    </tr>\n",
              "    <tr>\n",
              "      <th>19</th>\n",
              "      <td>New York</td>\n",
              "    </tr>\n",
              "    <tr>\n",
              "      <th>20</th>\n",
              "      <td>California</td>\n",
              "    </tr>\n",
              "    <tr>\n",
              "      <th>21</th>\n",
              "      <td>New York</td>\n",
              "    </tr>\n",
              "    <tr>\n",
              "      <th>22</th>\n",
              "      <td>Florida</td>\n",
              "    </tr>\n",
              "    <tr>\n",
              "      <th>23</th>\n",
              "      <td>Florida</td>\n",
              "    </tr>\n",
              "    <tr>\n",
              "      <th>24</th>\n",
              "      <td>New York</td>\n",
              "    </tr>\n",
              "    <tr>\n",
              "      <th>25</th>\n",
              "      <td>California</td>\n",
              "    </tr>\n",
              "    <tr>\n",
              "      <th>26</th>\n",
              "      <td>Florida</td>\n",
              "    </tr>\n",
              "    <tr>\n",
              "      <th>27</th>\n",
              "      <td>New York</td>\n",
              "    </tr>\n",
              "    <tr>\n",
              "      <th>28</th>\n",
              "      <td>Florida</td>\n",
              "    </tr>\n",
              "    <tr>\n",
              "      <th>29</th>\n",
              "      <td>New York</td>\n",
              "    </tr>\n",
              "    <tr>\n",
              "      <th>30</th>\n",
              "      <td>Florida</td>\n",
              "    </tr>\n",
              "    <tr>\n",
              "      <th>31</th>\n",
              "      <td>New York</td>\n",
              "    </tr>\n",
              "    <tr>\n",
              "      <th>32</th>\n",
              "      <td>California</td>\n",
              "    </tr>\n",
              "    <tr>\n",
              "      <th>33</th>\n",
              "      <td>Florida</td>\n",
              "    </tr>\n",
              "    <tr>\n",
              "      <th>34</th>\n",
              "      <td>California</td>\n",
              "    </tr>\n",
              "    <tr>\n",
              "      <th>35</th>\n",
              "      <td>New York</td>\n",
              "    </tr>\n",
              "    <tr>\n",
              "      <th>36</th>\n",
              "      <td>Florida</td>\n",
              "    </tr>\n",
              "    <tr>\n",
              "      <th>37</th>\n",
              "      <td>California</td>\n",
              "    </tr>\n",
              "    <tr>\n",
              "      <th>38</th>\n",
              "      <td>New York</td>\n",
              "    </tr>\n",
              "    <tr>\n",
              "      <th>39</th>\n",
              "      <td>California</td>\n",
              "    </tr>\n",
              "    <tr>\n",
              "      <th>40</th>\n",
              "      <td>California</td>\n",
              "    </tr>\n",
              "    <tr>\n",
              "      <th>41</th>\n",
              "      <td>Florida</td>\n",
              "    </tr>\n",
              "    <tr>\n",
              "      <th>42</th>\n",
              "      <td>California</td>\n",
              "    </tr>\n",
              "    <tr>\n",
              "      <th>43</th>\n",
              "      <td>New York</td>\n",
              "    </tr>\n",
              "    <tr>\n",
              "      <th>44</th>\n",
              "      <td>California</td>\n",
              "    </tr>\n",
              "    <tr>\n",
              "      <th>45</th>\n",
              "      <td>New York</td>\n",
              "    </tr>\n",
              "    <tr>\n",
              "      <th>46</th>\n",
              "      <td>Florida</td>\n",
              "    </tr>\n",
              "    <tr>\n",
              "      <th>47</th>\n",
              "      <td>California</td>\n",
              "    </tr>\n",
              "    <tr>\n",
              "      <th>48</th>\n",
              "      <td>New York</td>\n",
              "    </tr>\n",
              "    <tr>\n",
              "      <th>49</th>\n",
              "      <td>California</td>\n",
              "    </tr>\n",
              "  </tbody>\n",
              "</table>\n",
              "</div>\n",
              "      <button class=\"colab-df-convert\" onclick=\"convertToInteractive('df-2259dfa7-6a0e-4d1e-bbfa-41f2a2ca3e08')\"\n",
              "              title=\"Convert this dataframe to an interactive table.\"\n",
              "              style=\"display:none;\">\n",
              "        \n",
              "  <svg xmlns=\"http://www.w3.org/2000/svg\" height=\"24px\"viewBox=\"0 0 24 24\"\n",
              "       width=\"24px\">\n",
              "    <path d=\"M0 0h24v24H0V0z\" fill=\"none\"/>\n",
              "    <path d=\"M18.56 5.44l.94 2.06.94-2.06 2.06-.94-2.06-.94-.94-2.06-.94 2.06-2.06.94zm-11 1L8.5 8.5l.94-2.06 2.06-.94-2.06-.94L8.5 2.5l-.94 2.06-2.06.94zm10 10l.94 2.06.94-2.06 2.06-.94-2.06-.94-.94-2.06-.94 2.06-2.06.94z\"/><path d=\"M17.41 7.96l-1.37-1.37c-.4-.4-.92-.59-1.43-.59-.52 0-1.04.2-1.43.59L10.3 9.45l-7.72 7.72c-.78.78-.78 2.05 0 2.83L4 21.41c.39.39.9.59 1.41.59.51 0 1.02-.2 1.41-.59l7.78-7.78 2.81-2.81c.8-.78.8-2.07 0-2.86zM5.41 20L4 18.59l7.72-7.72 1.47 1.35L5.41 20z\"/>\n",
              "  </svg>\n",
              "      </button>\n",
              "      \n",
              "  <style>\n",
              "    .colab-df-container {\n",
              "      display:flex;\n",
              "      flex-wrap:wrap;\n",
              "      gap: 12px;\n",
              "    }\n",
              "\n",
              "    .colab-df-convert {\n",
              "      background-color: #E8F0FE;\n",
              "      border: none;\n",
              "      border-radius: 50%;\n",
              "      cursor: pointer;\n",
              "      display: none;\n",
              "      fill: #1967D2;\n",
              "      height: 32px;\n",
              "      padding: 0 0 0 0;\n",
              "      width: 32px;\n",
              "    }\n",
              "\n",
              "    .colab-df-convert:hover {\n",
              "      background-color: #E2EBFA;\n",
              "      box-shadow: 0px 1px 2px rgba(60, 64, 67, 0.3), 0px 1px 3px 1px rgba(60, 64, 67, 0.15);\n",
              "      fill: #174EA6;\n",
              "    }\n",
              "\n",
              "    [theme=dark] .colab-df-convert {\n",
              "      background-color: #3B4455;\n",
              "      fill: #D2E3FC;\n",
              "    }\n",
              "\n",
              "    [theme=dark] .colab-df-convert:hover {\n",
              "      background-color: #434B5C;\n",
              "      box-shadow: 0px 1px 3px 1px rgba(0, 0, 0, 0.15);\n",
              "      filter: drop-shadow(0px 1px 2px rgba(0, 0, 0, 0.3));\n",
              "      fill: #FFFFFF;\n",
              "    }\n",
              "  </style>\n",
              "\n",
              "      <script>\n",
              "        const buttonEl =\n",
              "          document.querySelector('#df-2259dfa7-6a0e-4d1e-bbfa-41f2a2ca3e08 button.colab-df-convert');\n",
              "        buttonEl.style.display =\n",
              "          google.colab.kernel.accessAllowed ? 'block' : 'none';\n",
              "\n",
              "        async function convertToInteractive(key) {\n",
              "          const element = document.querySelector('#df-2259dfa7-6a0e-4d1e-bbfa-41f2a2ca3e08');\n",
              "          const dataTable =\n",
              "            await google.colab.kernel.invokeFunction('convertToInteractive',\n",
              "                                                     [key], {});\n",
              "          if (!dataTable) return;\n",
              "\n",
              "          const docLinkHtml = 'Like what you see? Visit the ' +\n",
              "            '<a target=\"_blank\" href=https://colab.research.google.com/notebooks/data_table.ipynb>data table notebook</a>'\n",
              "            + ' to learn more about interactive tables.';\n",
              "          element.innerHTML = '';\n",
              "          dataTable['output_type'] = 'display_data';\n",
              "          await google.colab.output.renderOutput(dataTable, element);\n",
              "          const docLink = document.createElement('div');\n",
              "          docLink.innerHTML = docLinkHtml;\n",
              "          element.appendChild(docLink);\n",
              "        }\n",
              "      </script>\n",
              "    </div>\n",
              "  </div>\n",
              "  "
            ]
          },
          "metadata": {},
          "execution_count": 19
        }
      ]
    },
    {
      "cell_type": "code",
      "source": [
        "obj_column.shape"
      ],
      "metadata": {
        "colab": {
          "base_uri": "https://localhost:8080/"
        },
        "id": "ccjI0REx-kor",
        "outputId": "38166e90-a3d6-477b-ca45-6bc89827993d"
      },
      "execution_count": null,
      "outputs": [
        {
          "output_type": "execute_result",
          "data": {
            "text/plain": [
              "(50, 1)"
            ]
          },
          "metadata": {},
          "execution_count": 20
        }
      ]
    },
    {
      "cell_type": "markdown",
      "source": [
        "Dummy Variables"
      ],
      "metadata": {
        "id": "mZcqAOsA_Gxu"
      }
    },
    {
      "cell_type": "code",
      "source": [
        "data_dummy=pd.get_dummies(data,columns=['State'])"
      ],
      "metadata": {
        "id": "ChxX8cxe-3TU"
      },
      "execution_count": null,
      "outputs": []
    },
    {
      "cell_type": "code",
      "source": [
        "data_dummy"
      ],
      "metadata": {
        "colab": {
          "base_uri": "https://localhost:8080/",
          "height": 1000
        },
        "id": "XPP8N2J__Rkm",
        "outputId": "b5570ad0-ecd0-4d96-f883-dd4de1bd9c36"
      },
      "execution_count": null,
      "outputs": [
        {
          "output_type": "execute_result",
          "data": {
            "text/plain": [
              "    R&D Spend  Administration  Marketing Spend     Profit  State_California  \\\n",
              "0   165349.20       136897.80        471784.10  192261.83                 0   \n",
              "1   162597.70       151377.59        443898.53  191792.06                 1   \n",
              "2   153441.51       101145.55        407934.54  191050.39                 0   \n",
              "3   144372.41       118671.85        383199.62  182901.99                 0   \n",
              "4   142107.34        91391.77        366168.42  166187.94                 0   \n",
              "5   131876.90        99814.71        362861.36  156991.12                 0   \n",
              "6   134615.46       147198.87        127716.82  156122.51                 1   \n",
              "7   130298.13       145530.06        323876.68  155752.60                 0   \n",
              "8   120542.52       148718.95        311613.29  152211.77                 0   \n",
              "9   123334.88       108679.17        304981.62  149759.96                 1   \n",
              "10  101913.08       110594.11        229160.95  146121.95                 0   \n",
              "11  100671.96        91790.61        249744.55  144259.40                 1   \n",
              "12   93863.75       127320.38        249839.44  141585.52                 0   \n",
              "13   91992.39       135495.07        252664.93  134307.35                 1   \n",
              "14  119943.24       156547.42        256512.92  132602.65                 0   \n",
              "15  114523.61       122616.84        261776.23  129917.04                 0   \n",
              "16   78013.11       121597.55        264346.06  126992.93                 1   \n",
              "17   94657.16       145077.58        282574.31  125370.37                 0   \n",
              "18   91749.16       114175.79        294919.57  124266.90                 0   \n",
              "19   86419.70       153514.11             0.00  122776.86                 0   \n",
              "20   76253.86       113867.30        298664.47  118474.03                 1   \n",
              "21   78389.47       153773.43        299737.29  111313.02                 0   \n",
              "22   73994.56       122782.75        303319.26  110352.25                 0   \n",
              "23   67532.53       105751.03        304768.73  108733.99                 0   \n",
              "24   77044.01        99281.34        140574.81  108552.04                 0   \n",
              "25   64664.71       139553.16        137962.62  107404.34                 1   \n",
              "26   75328.87       144135.98        134050.07  105733.54                 0   \n",
              "27   72107.60       127864.55        353183.81  105008.31                 0   \n",
              "28   66051.52       182645.56        118148.20  103282.38                 0   \n",
              "29   65605.48       153032.06        107138.38  101004.64                 0   \n",
              "30   61994.48       115641.28         91131.24   99937.59                 0   \n",
              "31   61136.38       152701.92         88218.23   97483.56                 0   \n",
              "32   63408.86       129219.61         46085.25   97427.84                 1   \n",
              "33   55493.95       103057.49        214634.81   96778.92                 0   \n",
              "34   46426.07       157693.92        210797.67   96712.80                 1   \n",
              "35   46014.02        85047.44        205517.64   96479.51                 0   \n",
              "36   28663.76       127056.21        201126.82   90708.19                 0   \n",
              "37   44069.95        51283.14        197029.42   89949.14                 1   \n",
              "38   20229.59        65947.93        185265.10   81229.06                 0   \n",
              "39   38558.51        82982.09        174999.30   81005.76                 1   \n",
              "40   28754.33       118546.05        172795.67   78239.91                 1   \n",
              "41   27892.92        84710.77        164470.71   77798.83                 0   \n",
              "42   23640.93        96189.63        148001.11   71498.49                 1   \n",
              "43   15505.73       127382.30         35534.17   69758.98                 0   \n",
              "44   22177.74       154806.14         28334.72   65200.33                 1   \n",
              "45    1000.23       124153.04          1903.93   64926.08                 0   \n",
              "46    1315.46       115816.21        297114.46   49490.75                 0   \n",
              "47       0.00       135426.92             0.00   42559.73                 1   \n",
              "48     542.05        51743.15             0.00   35673.41                 0   \n",
              "49       0.00       116983.80         45173.06   14681.40                 1   \n",
              "\n",
              "    State_Florida  State_New York  \n",
              "0               0               1  \n",
              "1               0               0  \n",
              "2               1               0  \n",
              "3               0               1  \n",
              "4               1               0  \n",
              "5               0               1  \n",
              "6               0               0  \n",
              "7               1               0  \n",
              "8               0               1  \n",
              "9               0               0  \n",
              "10              1               0  \n",
              "11              0               0  \n",
              "12              1               0  \n",
              "13              0               0  \n",
              "14              1               0  \n",
              "15              0               1  \n",
              "16              0               0  \n",
              "17              0               1  \n",
              "18              1               0  \n",
              "19              0               1  \n",
              "20              0               0  \n",
              "21              0               1  \n",
              "22              1               0  \n",
              "23              1               0  \n",
              "24              0               1  \n",
              "25              0               0  \n",
              "26              1               0  \n",
              "27              0               1  \n",
              "28              1               0  \n",
              "29              0               1  \n",
              "30              1               0  \n",
              "31              0               1  \n",
              "32              0               0  \n",
              "33              1               0  \n",
              "34              0               0  \n",
              "35              0               1  \n",
              "36              1               0  \n",
              "37              0               0  \n",
              "38              0               1  \n",
              "39              0               0  \n",
              "40              0               0  \n",
              "41              1               0  \n",
              "42              0               0  \n",
              "43              0               1  \n",
              "44              0               0  \n",
              "45              0               1  \n",
              "46              1               0  \n",
              "47              0               0  \n",
              "48              0               1  \n",
              "49              0               0  "
            ],
            "text/html": [
              "\n",
              "  <div id=\"df-5c79c785-d7a7-4097-819e-96781091c1ec\">\n",
              "    <div class=\"colab-df-container\">\n",
              "      <div>\n",
              "<style scoped>\n",
              "    .dataframe tbody tr th:only-of-type {\n",
              "        vertical-align: middle;\n",
              "    }\n",
              "\n",
              "    .dataframe tbody tr th {\n",
              "        vertical-align: top;\n",
              "    }\n",
              "\n",
              "    .dataframe thead th {\n",
              "        text-align: right;\n",
              "    }\n",
              "</style>\n",
              "<table border=\"1\" class=\"dataframe\">\n",
              "  <thead>\n",
              "    <tr style=\"text-align: right;\">\n",
              "      <th></th>\n",
              "      <th>R&amp;D Spend</th>\n",
              "      <th>Administration</th>\n",
              "      <th>Marketing Spend</th>\n",
              "      <th>Profit</th>\n",
              "      <th>State_California</th>\n",
              "      <th>State_Florida</th>\n",
              "      <th>State_New York</th>\n",
              "    </tr>\n",
              "  </thead>\n",
              "  <tbody>\n",
              "    <tr>\n",
              "      <th>0</th>\n",
              "      <td>165349.20</td>\n",
              "      <td>136897.80</td>\n",
              "      <td>471784.10</td>\n",
              "      <td>192261.83</td>\n",
              "      <td>0</td>\n",
              "      <td>0</td>\n",
              "      <td>1</td>\n",
              "    </tr>\n",
              "    <tr>\n",
              "      <th>1</th>\n",
              "      <td>162597.70</td>\n",
              "      <td>151377.59</td>\n",
              "      <td>443898.53</td>\n",
              "      <td>191792.06</td>\n",
              "      <td>1</td>\n",
              "      <td>0</td>\n",
              "      <td>0</td>\n",
              "    </tr>\n",
              "    <tr>\n",
              "      <th>2</th>\n",
              "      <td>153441.51</td>\n",
              "      <td>101145.55</td>\n",
              "      <td>407934.54</td>\n",
              "      <td>191050.39</td>\n",
              "      <td>0</td>\n",
              "      <td>1</td>\n",
              "      <td>0</td>\n",
              "    </tr>\n",
              "    <tr>\n",
              "      <th>3</th>\n",
              "      <td>144372.41</td>\n",
              "      <td>118671.85</td>\n",
              "      <td>383199.62</td>\n",
              "      <td>182901.99</td>\n",
              "      <td>0</td>\n",
              "      <td>0</td>\n",
              "      <td>1</td>\n",
              "    </tr>\n",
              "    <tr>\n",
              "      <th>4</th>\n",
              "      <td>142107.34</td>\n",
              "      <td>91391.77</td>\n",
              "      <td>366168.42</td>\n",
              "      <td>166187.94</td>\n",
              "      <td>0</td>\n",
              "      <td>1</td>\n",
              "      <td>0</td>\n",
              "    </tr>\n",
              "    <tr>\n",
              "      <th>5</th>\n",
              "      <td>131876.90</td>\n",
              "      <td>99814.71</td>\n",
              "      <td>362861.36</td>\n",
              "      <td>156991.12</td>\n",
              "      <td>0</td>\n",
              "      <td>0</td>\n",
              "      <td>1</td>\n",
              "    </tr>\n",
              "    <tr>\n",
              "      <th>6</th>\n",
              "      <td>134615.46</td>\n",
              "      <td>147198.87</td>\n",
              "      <td>127716.82</td>\n",
              "      <td>156122.51</td>\n",
              "      <td>1</td>\n",
              "      <td>0</td>\n",
              "      <td>0</td>\n",
              "    </tr>\n",
              "    <tr>\n",
              "      <th>7</th>\n",
              "      <td>130298.13</td>\n",
              "      <td>145530.06</td>\n",
              "      <td>323876.68</td>\n",
              "      <td>155752.60</td>\n",
              "      <td>0</td>\n",
              "      <td>1</td>\n",
              "      <td>0</td>\n",
              "    </tr>\n",
              "    <tr>\n",
              "      <th>8</th>\n",
              "      <td>120542.52</td>\n",
              "      <td>148718.95</td>\n",
              "      <td>311613.29</td>\n",
              "      <td>152211.77</td>\n",
              "      <td>0</td>\n",
              "      <td>0</td>\n",
              "      <td>1</td>\n",
              "    </tr>\n",
              "    <tr>\n",
              "      <th>9</th>\n",
              "      <td>123334.88</td>\n",
              "      <td>108679.17</td>\n",
              "      <td>304981.62</td>\n",
              "      <td>149759.96</td>\n",
              "      <td>1</td>\n",
              "      <td>0</td>\n",
              "      <td>0</td>\n",
              "    </tr>\n",
              "    <tr>\n",
              "      <th>10</th>\n",
              "      <td>101913.08</td>\n",
              "      <td>110594.11</td>\n",
              "      <td>229160.95</td>\n",
              "      <td>146121.95</td>\n",
              "      <td>0</td>\n",
              "      <td>1</td>\n",
              "      <td>0</td>\n",
              "    </tr>\n",
              "    <tr>\n",
              "      <th>11</th>\n",
              "      <td>100671.96</td>\n",
              "      <td>91790.61</td>\n",
              "      <td>249744.55</td>\n",
              "      <td>144259.40</td>\n",
              "      <td>1</td>\n",
              "      <td>0</td>\n",
              "      <td>0</td>\n",
              "    </tr>\n",
              "    <tr>\n",
              "      <th>12</th>\n",
              "      <td>93863.75</td>\n",
              "      <td>127320.38</td>\n",
              "      <td>249839.44</td>\n",
              "      <td>141585.52</td>\n",
              "      <td>0</td>\n",
              "      <td>1</td>\n",
              "      <td>0</td>\n",
              "    </tr>\n",
              "    <tr>\n",
              "      <th>13</th>\n",
              "      <td>91992.39</td>\n",
              "      <td>135495.07</td>\n",
              "      <td>252664.93</td>\n",
              "      <td>134307.35</td>\n",
              "      <td>1</td>\n",
              "      <td>0</td>\n",
              "      <td>0</td>\n",
              "    </tr>\n",
              "    <tr>\n",
              "      <th>14</th>\n",
              "      <td>119943.24</td>\n",
              "      <td>156547.42</td>\n",
              "      <td>256512.92</td>\n",
              "      <td>132602.65</td>\n",
              "      <td>0</td>\n",
              "      <td>1</td>\n",
              "      <td>0</td>\n",
              "    </tr>\n",
              "    <tr>\n",
              "      <th>15</th>\n",
              "      <td>114523.61</td>\n",
              "      <td>122616.84</td>\n",
              "      <td>261776.23</td>\n",
              "      <td>129917.04</td>\n",
              "      <td>0</td>\n",
              "      <td>0</td>\n",
              "      <td>1</td>\n",
              "    </tr>\n",
              "    <tr>\n",
              "      <th>16</th>\n",
              "      <td>78013.11</td>\n",
              "      <td>121597.55</td>\n",
              "      <td>264346.06</td>\n",
              "      <td>126992.93</td>\n",
              "      <td>1</td>\n",
              "      <td>0</td>\n",
              "      <td>0</td>\n",
              "    </tr>\n",
              "    <tr>\n",
              "      <th>17</th>\n",
              "      <td>94657.16</td>\n",
              "      <td>145077.58</td>\n",
              "      <td>282574.31</td>\n",
              "      <td>125370.37</td>\n",
              "      <td>0</td>\n",
              "      <td>0</td>\n",
              "      <td>1</td>\n",
              "    </tr>\n",
              "    <tr>\n",
              "      <th>18</th>\n",
              "      <td>91749.16</td>\n",
              "      <td>114175.79</td>\n",
              "      <td>294919.57</td>\n",
              "      <td>124266.90</td>\n",
              "      <td>0</td>\n",
              "      <td>1</td>\n",
              "      <td>0</td>\n",
              "    </tr>\n",
              "    <tr>\n",
              "      <th>19</th>\n",
              "      <td>86419.70</td>\n",
              "      <td>153514.11</td>\n",
              "      <td>0.00</td>\n",
              "      <td>122776.86</td>\n",
              "      <td>0</td>\n",
              "      <td>0</td>\n",
              "      <td>1</td>\n",
              "    </tr>\n",
              "    <tr>\n",
              "      <th>20</th>\n",
              "      <td>76253.86</td>\n",
              "      <td>113867.30</td>\n",
              "      <td>298664.47</td>\n",
              "      <td>118474.03</td>\n",
              "      <td>1</td>\n",
              "      <td>0</td>\n",
              "      <td>0</td>\n",
              "    </tr>\n",
              "    <tr>\n",
              "      <th>21</th>\n",
              "      <td>78389.47</td>\n",
              "      <td>153773.43</td>\n",
              "      <td>299737.29</td>\n",
              "      <td>111313.02</td>\n",
              "      <td>0</td>\n",
              "      <td>0</td>\n",
              "      <td>1</td>\n",
              "    </tr>\n",
              "    <tr>\n",
              "      <th>22</th>\n",
              "      <td>73994.56</td>\n",
              "      <td>122782.75</td>\n",
              "      <td>303319.26</td>\n",
              "      <td>110352.25</td>\n",
              "      <td>0</td>\n",
              "      <td>1</td>\n",
              "      <td>0</td>\n",
              "    </tr>\n",
              "    <tr>\n",
              "      <th>23</th>\n",
              "      <td>67532.53</td>\n",
              "      <td>105751.03</td>\n",
              "      <td>304768.73</td>\n",
              "      <td>108733.99</td>\n",
              "      <td>0</td>\n",
              "      <td>1</td>\n",
              "      <td>0</td>\n",
              "    </tr>\n",
              "    <tr>\n",
              "      <th>24</th>\n",
              "      <td>77044.01</td>\n",
              "      <td>99281.34</td>\n",
              "      <td>140574.81</td>\n",
              "      <td>108552.04</td>\n",
              "      <td>0</td>\n",
              "      <td>0</td>\n",
              "      <td>1</td>\n",
              "    </tr>\n",
              "    <tr>\n",
              "      <th>25</th>\n",
              "      <td>64664.71</td>\n",
              "      <td>139553.16</td>\n",
              "      <td>137962.62</td>\n",
              "      <td>107404.34</td>\n",
              "      <td>1</td>\n",
              "      <td>0</td>\n",
              "      <td>0</td>\n",
              "    </tr>\n",
              "    <tr>\n",
              "      <th>26</th>\n",
              "      <td>75328.87</td>\n",
              "      <td>144135.98</td>\n",
              "      <td>134050.07</td>\n",
              "      <td>105733.54</td>\n",
              "      <td>0</td>\n",
              "      <td>1</td>\n",
              "      <td>0</td>\n",
              "    </tr>\n",
              "    <tr>\n",
              "      <th>27</th>\n",
              "      <td>72107.60</td>\n",
              "      <td>127864.55</td>\n",
              "      <td>353183.81</td>\n",
              "      <td>105008.31</td>\n",
              "      <td>0</td>\n",
              "      <td>0</td>\n",
              "      <td>1</td>\n",
              "    </tr>\n",
              "    <tr>\n",
              "      <th>28</th>\n",
              "      <td>66051.52</td>\n",
              "      <td>182645.56</td>\n",
              "      <td>118148.20</td>\n",
              "      <td>103282.38</td>\n",
              "      <td>0</td>\n",
              "      <td>1</td>\n",
              "      <td>0</td>\n",
              "    </tr>\n",
              "    <tr>\n",
              "      <th>29</th>\n",
              "      <td>65605.48</td>\n",
              "      <td>153032.06</td>\n",
              "      <td>107138.38</td>\n",
              "      <td>101004.64</td>\n",
              "      <td>0</td>\n",
              "      <td>0</td>\n",
              "      <td>1</td>\n",
              "    </tr>\n",
              "    <tr>\n",
              "      <th>30</th>\n",
              "      <td>61994.48</td>\n",
              "      <td>115641.28</td>\n",
              "      <td>91131.24</td>\n",
              "      <td>99937.59</td>\n",
              "      <td>0</td>\n",
              "      <td>1</td>\n",
              "      <td>0</td>\n",
              "    </tr>\n",
              "    <tr>\n",
              "      <th>31</th>\n",
              "      <td>61136.38</td>\n",
              "      <td>152701.92</td>\n",
              "      <td>88218.23</td>\n",
              "      <td>97483.56</td>\n",
              "      <td>0</td>\n",
              "      <td>0</td>\n",
              "      <td>1</td>\n",
              "    </tr>\n",
              "    <tr>\n",
              "      <th>32</th>\n",
              "      <td>63408.86</td>\n",
              "      <td>129219.61</td>\n",
              "      <td>46085.25</td>\n",
              "      <td>97427.84</td>\n",
              "      <td>1</td>\n",
              "      <td>0</td>\n",
              "      <td>0</td>\n",
              "    </tr>\n",
              "    <tr>\n",
              "      <th>33</th>\n",
              "      <td>55493.95</td>\n",
              "      <td>103057.49</td>\n",
              "      <td>214634.81</td>\n",
              "      <td>96778.92</td>\n",
              "      <td>0</td>\n",
              "      <td>1</td>\n",
              "      <td>0</td>\n",
              "    </tr>\n",
              "    <tr>\n",
              "      <th>34</th>\n",
              "      <td>46426.07</td>\n",
              "      <td>157693.92</td>\n",
              "      <td>210797.67</td>\n",
              "      <td>96712.80</td>\n",
              "      <td>1</td>\n",
              "      <td>0</td>\n",
              "      <td>0</td>\n",
              "    </tr>\n",
              "    <tr>\n",
              "      <th>35</th>\n",
              "      <td>46014.02</td>\n",
              "      <td>85047.44</td>\n",
              "      <td>205517.64</td>\n",
              "      <td>96479.51</td>\n",
              "      <td>0</td>\n",
              "      <td>0</td>\n",
              "      <td>1</td>\n",
              "    </tr>\n",
              "    <tr>\n",
              "      <th>36</th>\n",
              "      <td>28663.76</td>\n",
              "      <td>127056.21</td>\n",
              "      <td>201126.82</td>\n",
              "      <td>90708.19</td>\n",
              "      <td>0</td>\n",
              "      <td>1</td>\n",
              "      <td>0</td>\n",
              "    </tr>\n",
              "    <tr>\n",
              "      <th>37</th>\n",
              "      <td>44069.95</td>\n",
              "      <td>51283.14</td>\n",
              "      <td>197029.42</td>\n",
              "      <td>89949.14</td>\n",
              "      <td>1</td>\n",
              "      <td>0</td>\n",
              "      <td>0</td>\n",
              "    </tr>\n",
              "    <tr>\n",
              "      <th>38</th>\n",
              "      <td>20229.59</td>\n",
              "      <td>65947.93</td>\n",
              "      <td>185265.10</td>\n",
              "      <td>81229.06</td>\n",
              "      <td>0</td>\n",
              "      <td>0</td>\n",
              "      <td>1</td>\n",
              "    </tr>\n",
              "    <tr>\n",
              "      <th>39</th>\n",
              "      <td>38558.51</td>\n",
              "      <td>82982.09</td>\n",
              "      <td>174999.30</td>\n",
              "      <td>81005.76</td>\n",
              "      <td>1</td>\n",
              "      <td>0</td>\n",
              "      <td>0</td>\n",
              "    </tr>\n",
              "    <tr>\n",
              "      <th>40</th>\n",
              "      <td>28754.33</td>\n",
              "      <td>118546.05</td>\n",
              "      <td>172795.67</td>\n",
              "      <td>78239.91</td>\n",
              "      <td>1</td>\n",
              "      <td>0</td>\n",
              "      <td>0</td>\n",
              "    </tr>\n",
              "    <tr>\n",
              "      <th>41</th>\n",
              "      <td>27892.92</td>\n",
              "      <td>84710.77</td>\n",
              "      <td>164470.71</td>\n",
              "      <td>77798.83</td>\n",
              "      <td>0</td>\n",
              "      <td>1</td>\n",
              "      <td>0</td>\n",
              "    </tr>\n",
              "    <tr>\n",
              "      <th>42</th>\n",
              "      <td>23640.93</td>\n",
              "      <td>96189.63</td>\n",
              "      <td>148001.11</td>\n",
              "      <td>71498.49</td>\n",
              "      <td>1</td>\n",
              "      <td>0</td>\n",
              "      <td>0</td>\n",
              "    </tr>\n",
              "    <tr>\n",
              "      <th>43</th>\n",
              "      <td>15505.73</td>\n",
              "      <td>127382.30</td>\n",
              "      <td>35534.17</td>\n",
              "      <td>69758.98</td>\n",
              "      <td>0</td>\n",
              "      <td>0</td>\n",
              "      <td>1</td>\n",
              "    </tr>\n",
              "    <tr>\n",
              "      <th>44</th>\n",
              "      <td>22177.74</td>\n",
              "      <td>154806.14</td>\n",
              "      <td>28334.72</td>\n",
              "      <td>65200.33</td>\n",
              "      <td>1</td>\n",
              "      <td>0</td>\n",
              "      <td>0</td>\n",
              "    </tr>\n",
              "    <tr>\n",
              "      <th>45</th>\n",
              "      <td>1000.23</td>\n",
              "      <td>124153.04</td>\n",
              "      <td>1903.93</td>\n",
              "      <td>64926.08</td>\n",
              "      <td>0</td>\n",
              "      <td>0</td>\n",
              "      <td>1</td>\n",
              "    </tr>\n",
              "    <tr>\n",
              "      <th>46</th>\n",
              "      <td>1315.46</td>\n",
              "      <td>115816.21</td>\n",
              "      <td>297114.46</td>\n",
              "      <td>49490.75</td>\n",
              "      <td>0</td>\n",
              "      <td>1</td>\n",
              "      <td>0</td>\n",
              "    </tr>\n",
              "    <tr>\n",
              "      <th>47</th>\n",
              "      <td>0.00</td>\n",
              "      <td>135426.92</td>\n",
              "      <td>0.00</td>\n",
              "      <td>42559.73</td>\n",
              "      <td>1</td>\n",
              "      <td>0</td>\n",
              "      <td>0</td>\n",
              "    </tr>\n",
              "    <tr>\n",
              "      <th>48</th>\n",
              "      <td>542.05</td>\n",
              "      <td>51743.15</td>\n",
              "      <td>0.00</td>\n",
              "      <td>35673.41</td>\n",
              "      <td>0</td>\n",
              "      <td>0</td>\n",
              "      <td>1</td>\n",
              "    </tr>\n",
              "    <tr>\n",
              "      <th>49</th>\n",
              "      <td>0.00</td>\n",
              "      <td>116983.80</td>\n",
              "      <td>45173.06</td>\n",
              "      <td>14681.40</td>\n",
              "      <td>1</td>\n",
              "      <td>0</td>\n",
              "      <td>0</td>\n",
              "    </tr>\n",
              "  </tbody>\n",
              "</table>\n",
              "</div>\n",
              "      <button class=\"colab-df-convert\" onclick=\"convertToInteractive('df-5c79c785-d7a7-4097-819e-96781091c1ec')\"\n",
              "              title=\"Convert this dataframe to an interactive table.\"\n",
              "              style=\"display:none;\">\n",
              "        \n",
              "  <svg xmlns=\"http://www.w3.org/2000/svg\" height=\"24px\"viewBox=\"0 0 24 24\"\n",
              "       width=\"24px\">\n",
              "    <path d=\"M0 0h24v24H0V0z\" fill=\"none\"/>\n",
              "    <path d=\"M18.56 5.44l.94 2.06.94-2.06 2.06-.94-2.06-.94-.94-2.06-.94 2.06-2.06.94zm-11 1L8.5 8.5l.94-2.06 2.06-.94-2.06-.94L8.5 2.5l-.94 2.06-2.06.94zm10 10l.94 2.06.94-2.06 2.06-.94-2.06-.94-.94-2.06-.94 2.06-2.06.94z\"/><path d=\"M17.41 7.96l-1.37-1.37c-.4-.4-.92-.59-1.43-.59-.52 0-1.04.2-1.43.59L10.3 9.45l-7.72 7.72c-.78.78-.78 2.05 0 2.83L4 21.41c.39.39.9.59 1.41.59.51 0 1.02-.2 1.41-.59l7.78-7.78 2.81-2.81c.8-.78.8-2.07 0-2.86zM5.41 20L4 18.59l7.72-7.72 1.47 1.35L5.41 20z\"/>\n",
              "  </svg>\n",
              "      </button>\n",
              "      \n",
              "  <style>\n",
              "    .colab-df-container {\n",
              "      display:flex;\n",
              "      flex-wrap:wrap;\n",
              "      gap: 12px;\n",
              "    }\n",
              "\n",
              "    .colab-df-convert {\n",
              "      background-color: #E8F0FE;\n",
              "      border: none;\n",
              "      border-radius: 50%;\n",
              "      cursor: pointer;\n",
              "      display: none;\n",
              "      fill: #1967D2;\n",
              "      height: 32px;\n",
              "      padding: 0 0 0 0;\n",
              "      width: 32px;\n",
              "    }\n",
              "\n",
              "    .colab-df-convert:hover {\n",
              "      background-color: #E2EBFA;\n",
              "      box-shadow: 0px 1px 2px rgba(60, 64, 67, 0.3), 0px 1px 3px 1px rgba(60, 64, 67, 0.15);\n",
              "      fill: #174EA6;\n",
              "    }\n",
              "\n",
              "    [theme=dark] .colab-df-convert {\n",
              "      background-color: #3B4455;\n",
              "      fill: #D2E3FC;\n",
              "    }\n",
              "\n",
              "    [theme=dark] .colab-df-convert:hover {\n",
              "      background-color: #434B5C;\n",
              "      box-shadow: 0px 1px 3px 1px rgba(0, 0, 0, 0.15);\n",
              "      filter: drop-shadow(0px 1px 2px rgba(0, 0, 0, 0.3));\n",
              "      fill: #FFFFFF;\n",
              "    }\n",
              "  </style>\n",
              "\n",
              "      <script>\n",
              "        const buttonEl =\n",
              "          document.querySelector('#df-5c79c785-d7a7-4097-819e-96781091c1ec button.colab-df-convert');\n",
              "        buttonEl.style.display =\n",
              "          google.colab.kernel.accessAllowed ? 'block' : 'none';\n",
              "\n",
              "        async function convertToInteractive(key) {\n",
              "          const element = document.querySelector('#df-5c79c785-d7a7-4097-819e-96781091c1ec');\n",
              "          const dataTable =\n",
              "            await google.colab.kernel.invokeFunction('convertToInteractive',\n",
              "                                                     [key], {});\n",
              "          if (!dataTable) return;\n",
              "\n",
              "          const docLinkHtml = 'Like what you see? Visit the ' +\n",
              "            '<a target=\"_blank\" href=https://colab.research.google.com/notebooks/data_table.ipynb>data table notebook</a>'\n",
              "            + ' to learn more about interactive tables.';\n",
              "          element.innerHTML = '';\n",
              "          dataTable['output_type'] = 'display_data';\n",
              "          await google.colab.output.renderOutput(dataTable, element);\n",
              "          const docLink = document.createElement('div');\n",
              "          docLink.innerHTML = docLinkHtml;\n",
              "          element.appendChild(docLink);\n",
              "        }\n",
              "      </script>\n",
              "    </div>\n",
              "  </div>\n",
              "  "
            ]
          },
          "metadata": {},
          "execution_count": 22
        }
      ]
    },
    {
      "cell_type": "code",
      "source": [
        "data=data_dummy"
      ],
      "metadata": {
        "id": "Gm2mmggG_VAG"
      },
      "execution_count": null,
      "outputs": []
    },
    {
      "cell_type": "code",
      "source": [
        "from numpy import set_printoptions\n",
        "from sklearn.preprocessing import MinMaxScaler"
      ],
      "metadata": {
        "id": "Mc9gF-KRBV-k"
      },
      "execution_count": null,
      "outputs": []
    },
    {
      "cell_type": "code",
      "source": [
        "array=data.values\n",
        "scaler=MinMaxScaler(feature_range=(0,1))\n",
        "rescaledX1=scaler.fit_transform(array)\n",
        "#transformed data\n",
        "set_printoptions(precision=2)\n",
        "print(rescaledX1[:,:])"
      ],
      "metadata": {
        "colab": {
          "base_uri": "https://localhost:8080/"
        },
        "id": "bIQWpLeV_ZxP",
        "outputId": "1ee79e4c-6ccf-4ffb-fe8d-22878e0d84a8"
      },
      "execution_count": null,
      "outputs": [
        {
          "output_type": "stream",
          "name": "stdout",
          "text": [
            "[[1.   0.65 1.   1.   0.   0.   1.  ]\n",
            " [0.98 0.76 0.94 1.   1.   0.   0.  ]\n",
            " [0.93 0.38 0.86 0.99 0.   1.   0.  ]\n",
            " [0.87 0.51 0.81 0.95 0.   0.   1.  ]\n",
            " [0.86 0.31 0.78 0.85 0.   1.   0.  ]\n",
            " [0.8  0.37 0.77 0.8  0.   0.   1.  ]\n",
            " [0.81 0.73 0.27 0.8  1.   0.   0.  ]\n",
            " [0.79 0.72 0.69 0.79 0.   1.   0.  ]\n",
            " [0.73 0.74 0.66 0.77 0.   0.   1.  ]\n",
            " [0.75 0.44 0.65 0.76 1.   0.   0.  ]\n",
            " [0.62 0.45 0.49 0.74 0.   1.   0.  ]\n",
            " [0.61 0.31 0.53 0.73 1.   0.   0.  ]\n",
            " [0.57 0.58 0.53 0.71 0.   1.   0.  ]\n",
            " [0.56 0.64 0.54 0.67 1.   0.   0.  ]\n",
            " [0.73 0.8  0.54 0.66 0.   1.   0.  ]\n",
            " [0.69 0.54 0.55 0.65 0.   0.   1.  ]\n",
            " [0.47 0.54 0.56 0.63 1.   0.   0.  ]\n",
            " [0.57 0.71 0.6  0.62 0.   0.   1.  ]\n",
            " [0.55 0.48 0.63 0.62 0.   1.   0.  ]\n",
            " [0.52 0.78 0.   0.61 0.   0.   1.  ]\n",
            " [0.46 0.48 0.63 0.58 1.   0.   0.  ]\n",
            " [0.47 0.78 0.64 0.54 0.   0.   1.  ]\n",
            " [0.45 0.54 0.64 0.54 0.   1.   0.  ]\n",
            " [0.41 0.41 0.65 0.53 0.   1.   0.  ]\n",
            " [0.47 0.37 0.3  0.53 0.   0.   1.  ]\n",
            " [0.39 0.67 0.29 0.52 1.   0.   0.  ]\n",
            " [0.46 0.71 0.28 0.51 0.   1.   0.  ]\n",
            " [0.44 0.58 0.75 0.51 0.   0.   1.  ]\n",
            " [0.4  1.   0.25 0.5  0.   1.   0.  ]\n",
            " [0.4  0.77 0.23 0.49 0.   0.   1.  ]\n",
            " [0.37 0.49 0.19 0.48 0.   1.   0.  ]\n",
            " [0.37 0.77 0.19 0.47 0.   0.   1.  ]\n",
            " [0.38 0.59 0.1  0.47 1.   0.   0.  ]\n",
            " [0.34 0.39 0.45 0.46 0.   1.   0.  ]\n",
            " [0.28 0.81 0.45 0.46 1.   0.   0.  ]\n",
            " [0.28 0.26 0.44 0.46 0.   0.   1.  ]\n",
            " [0.17 0.58 0.43 0.43 0.   1.   0.  ]\n",
            " [0.27 0.   0.42 0.42 1.   0.   0.  ]\n",
            " [0.12 0.11 0.39 0.37 0.   0.   1.  ]\n",
            " [0.23 0.24 0.37 0.37 1.   0.   0.  ]\n",
            " [0.17 0.51 0.37 0.36 1.   0.   0.  ]\n",
            " [0.17 0.25 0.35 0.36 0.   1.   0.  ]\n",
            " [0.14 0.34 0.31 0.32 1.   0.   0.  ]\n",
            " [0.09 0.58 0.08 0.31 0.   0.   1.  ]\n",
            " [0.13 0.79 0.06 0.28 1.   0.   0.  ]\n",
            " [0.01 0.55 0.   0.28 0.   0.   1.  ]\n",
            " [0.01 0.49 0.63 0.2  0.   1.   0.  ]\n",
            " [0.   0.64 0.   0.16 1.   0.   0.  ]\n",
            " [0.   0.   0.   0.12 0.   0.   1.  ]\n",
            " [0.   0.5  0.1  0.   1.   0.   0.  ]]\n"
          ]
        }
      ]
    },
    {
      "cell_type": "code",
      "source": [
        "model=smf.ols(\"data['Profit']~data['R&D Spend']+data['Administration']+data['Marketing Spend']+data['State_California']+data['State_Florida']+data['State_New York']\", data=data).fit()"
      ],
      "metadata": {
        "id": "yqkXibpu5ipi"
      },
      "execution_count": null,
      "outputs": []
    },
    {
      "cell_type": "code",
      "source": [
        "model.params"
      ],
      "metadata": {
        "colab": {
          "base_uri": "https://localhost:8080/"
        },
        "id": "qtGb2SuU5_Gp",
        "outputId": "5a063a40-fc09-4423-a43c-60e45af1334e"
      },
      "execution_count": null,
      "outputs": [
        {
          "output_type": "execute_result",
          "data": {
            "text/plain": [
              "Intercept                   37633.233317\n",
              "data['R&D Spend']               0.806023\n",
              "data['Administration']         -0.027004\n",
              "data['Marketing Spend']         0.026980\n",
              "data['State_California']    12492.110514\n",
              "data['State_Florida']       12690.899307\n",
              "data['State_New York']      12450.223495\n",
              "dtype: float64"
            ]
          },
          "metadata": {},
          "execution_count": 27
        }
      ]
    },
    {
      "cell_type": "code",
      "source": [
        "print(model.tvalues,'\\n',model.pvalues)"
      ],
      "metadata": {
        "colab": {
          "base_uri": "https://localhost:8080/"
        },
        "id": "OA2mqxYdCGMS",
        "outputId": "3438a25f-c2a6-40b9-f69f-8c036b17d27d"
      },
      "execution_count": null,
      "outputs": [
        {
          "output_type": "stream",
          "name": "stdout",
          "text": [
            "Intercept                    7.417409\n",
            "data['R&D Spend']           17.368580\n",
            "data['Administration']      -0.517012\n",
            "data['Marketing Spend']      1.573889\n",
            "data['State_California']     5.099242\n",
            "data['State_Florida']        4.654306\n",
            "data['State_New York']       5.007401\n",
            "dtype: float64 \n",
            " Intercept                   2.807645e-09\n",
            "data['R&D Spend']           2.578772e-21\n",
            "data['Administration']      6.077373e-01\n",
            "data['Marketing Spend']     1.226769e-01\n",
            "data['State_California']    6.942555e-06\n",
            "data['State_Florida']       2.992503e-05\n",
            "data['State_New York']      9.409010e-06\n",
            "dtype: float64\n"
          ]
        }
      ]
    },
    {
      "cell_type": "code",
      "source": [
        "(model.rsquared,model.rsquared_adj)"
      ],
      "metadata": {
        "colab": {
          "base_uri": "https://localhost:8080/"
        },
        "id": "FfccV15eCYPr",
        "outputId": "7b923182-ef49-4836-ab35-4a07a2815426"
      },
      "execution_count": null,
      "outputs": [
        {
          "output_type": "execute_result",
          "data": {
            "text/plain": [
              "(0.9507524843355148, 0.945156175737278)"
            ]
          },
          "metadata": {},
          "execution_count": 29
        }
      ]
    },
    {
      "cell_type": "code",
      "source": [
        "model1=smf.ols(\"data['Profit']~data['R&D Spend']+data['Administration']+data['Marketing Spend']\", data=data).fit()"
      ],
      "metadata": {
        "id": "8FWvbnz2CiYi"
      },
      "execution_count": null,
      "outputs": []
    },
    {
      "cell_type": "code",
      "source": [
        "model1.params"
      ],
      "metadata": {
        "colab": {
          "base_uri": "https://localhost:8080/"
        },
        "id": "pCOFESOpDR2U",
        "outputId": "686e1331-9e97-4194-c036-706ad7ac0e81"
      },
      "execution_count": null,
      "outputs": [
        {
          "output_type": "execute_result",
          "data": {
            "text/plain": [
              "Intercept                  50122.192990\n",
              "data['R&D Spend']              0.805715\n",
              "data['Administration']        -0.026816\n",
              "data['Marketing Spend']        0.027228\n",
              "dtype: float64"
            ]
          },
          "metadata": {},
          "execution_count": 31
        }
      ]
    },
    {
      "cell_type": "code",
      "source": [
        "model2=smf.ols(\"data['Profit']~data['R&D Spend']+data['Administration']\", data=data).fit()\n"
      ],
      "metadata": {
        "id": "cF-e4LY2J7KT"
      },
      "execution_count": null,
      "outputs": []
    },
    {
      "cell_type": "code",
      "source": [
        "model2.params"
      ],
      "metadata": {
        "colab": {
          "base_uri": "https://localhost:8080/"
        },
        "id": "OqlLiRL6KCRR",
        "outputId": "72f7e14e-8aac-43e5-d340-8bbd5b461028"
      },
      "execution_count": null,
      "outputs": [
        {
          "output_type": "execute_result",
          "data": {
            "text/plain": [
              "Intercept                 54886.620628\n",
              "data['R&D Spend']             0.862118\n",
              "data['Administration']       -0.052995\n",
              "dtype: float64"
            ]
          },
          "metadata": {},
          "execution_count": 33
        }
      ]
    },
    {
      "cell_type": "code",
      "source": [
        "model2.pvalues"
      ],
      "metadata": {
        "colab": {
          "base_uri": "https://localhost:8080/"
        },
        "id": "cufC1louKD7Q",
        "outputId": "0e4b9cad-0b9c-4561-bdb8-c2005b5eb871"
      },
      "execution_count": null,
      "outputs": [
        {
          "output_type": "execute_result",
          "data": {
            "text/plain": [
              "Intercept                 5.695336e-12\n",
              "data['R&D Spend']         2.278348e-31\n",
              "data['Administration']    2.888932e-01\n",
              "dtype: float64"
            ]
          },
          "metadata": {},
          "execution_count": 34
        }
      ]
    },
    {
      "cell_type": "code",
      "source": [
        "model3=smf.ols(\"data['Profit']~data['R&D Spend']+data['Marketing Spend']\", data=data).fit()"
      ],
      "metadata": {
        "id": "COqKMqlxNFwp"
      },
      "execution_count": null,
      "outputs": []
    },
    {
      "cell_type": "code",
      "source": [
        "model3.rsquared"
      ],
      "metadata": {
        "colab": {
          "base_uri": "https://localhost:8080/"
        },
        "id": "iTieUxM1NS1Q",
        "outputId": "4ec1751f-af9e-4cbc-a825-c252cbdc2a74"
      },
      "execution_count": null,
      "outputs": [
        {
          "output_type": "execute_result",
          "data": {
            "text/plain": [
              "0.9504503015559763"
            ]
          },
          "metadata": {},
          "execution_count": 36
        }
      ]
    },
    {
      "cell_type": "code",
      "source": [
        "model1.rsquared"
      ],
      "metadata": {
        "colab": {
          "base_uri": "https://localhost:8080/"
        },
        "id": "vcK4xbNCNvjm",
        "outputId": "8c7f0678-a236-4584-ee64-b0d7e31c0a42"
      },
      "execution_count": null,
      "outputs": [
        {
          "output_type": "execute_result",
          "data": {
            "text/plain": [
              "0.9507459940683246"
            ]
          },
          "metadata": {},
          "execution_count": 37
        }
      ]
    },
    {
      "cell_type": "code",
      "source": [
        "model2.rsquared"
      ],
      "metadata": {
        "colab": {
          "base_uri": "https://localhost:8080/"
        },
        "id": "TVV27CvwNzDA",
        "outputId": "0e9e58d7-ac04-40c8-9ee1-07a2ea8b727b"
      },
      "execution_count": null,
      "outputs": [
        {
          "output_type": "execute_result",
          "data": {
            "text/plain": [
              "0.9478129385009173"
            ]
          },
          "metadata": {},
          "execution_count": 38
        }
      ]
    },
    {
      "cell_type": "code",
      "source": [
        "model.rsquared"
      ],
      "metadata": {
        "colab": {
          "base_uri": "https://localhost:8080/"
        },
        "id": "V3mvt1hNN4Th",
        "outputId": "ac7c36ab-070f-4746-85a5-ff0488d385f1"
      },
      "execution_count": null,
      "outputs": [
        {
          "output_type": "execute_result",
          "data": {
            "text/plain": [
              "0.9507524843355148"
            ]
          },
          "metadata": {},
          "execution_count": 39
        }
      ]
    },
    {
      "cell_type": "code",
      "source": [
        "print(model1.tvalues,'\\n',model1.pvalues)"
      ],
      "metadata": {
        "colab": {
          "base_uri": "https://localhost:8080/"
        },
        "id": "BjD-CnqIDk7w",
        "outputId": "d6f0e95d-e922-459f-c1b6-5903d6c7eaf8"
      },
      "execution_count": null,
      "outputs": [
        {
          "output_type": "stream",
          "name": "stdout",
          "text": [
            "Intercept                   7.626218\n",
            "data['R&D Spend']          17.846374\n",
            "data['Administration']     -0.525507\n",
            "data['Marketing Spend']     1.655077\n",
            "dtype: float64 \n",
            " Intercept                  1.057379e-09\n",
            "data['R&D Spend']          2.634968e-22\n",
            "data['Administration']     6.017551e-01\n",
            "data['Marketing Spend']    1.047168e-01\n",
            "dtype: float64\n"
          ]
        }
      ]
    },
    {
      "cell_type": "code",
      "source": [
        "(model1.rsquared, model1.rsquared_adj)"
      ],
      "metadata": {
        "colab": {
          "base_uri": "https://localhost:8080/"
        },
        "id": "QzyTNL6uDvqa",
        "outputId": "699ba1d5-e91b-4ff8-884f-93d3baac5b08"
      },
      "execution_count": null,
      "outputs": [
        {
          "output_type": "execute_result",
          "data": {
            "text/plain": [
              "(0.9507459940683246, 0.9475337762901719)"
            ]
          },
          "metadata": {},
          "execution_count": 41
        }
      ]
    },
    {
      "cell_type": "markdown",
      "source": [
        "Calculating VIF"
      ],
      "metadata": {
        "id": "WaVXzfAXENQm"
      }
    },
    {
      "cell_type": "code",
      "source": [
        "rsq_RDSpend=smf.ols(\"data['R&D Spend']~data['Administration']+data['Marketing Spend']\",data=data).fit().rsquared\n",
        "vif_RDSpend=1/(1-rsq_RDSpend)\n",
        "\n",
        "rsq_Admin=smf.ols(\"data['Administration']~data['R&D Spend']+data['Marketing Spend']\", data=data).fit().rsquared\n",
        "vif_Admin=1/(1-rsq_Admin)\n",
        "\n",
        "rsq_Market=smf.ols(\"data['Marketing Spend']~data['Administration']+data['R&D Spend']\", data=data).fit().rsquared\n",
        "vif_Market=1/(1-rsq_Market)\n",
        "d1={'Variables':['R&D Spend', 'Administration', 'Marketing Spend'], 'Rsquared':[rsq_RDSpend, rsq_Admin, rsq_Market], 'VIF':[vif_RDSpend, vif_Admin, vif_Market]}\n",
        "vif_frame=pd.DataFrame(d1)\n",
        "vif_frame"
      ],
      "metadata": {
        "colab": {
          "base_uri": "https://localhost:8080/",
          "height": 143
        },
        "id": "GI2BbBzeD8GO",
        "outputId": "d4f84554-79f4-445e-c8b7-3f84bd0db40f"
      },
      "execution_count": null,
      "outputs": [
        {
          "output_type": "execute_result",
          "data": {
            "text/plain": [
              "         Variables  Rsquared       VIF\n",
              "0        R&D Spend  0.594962  2.468903\n",
              "1   Administration  0.149002  1.175091\n",
              "2  Marketing Spend  0.570220  2.326773"
            ],
            "text/html": [
              "\n",
              "  <div id=\"df-79b3dcc7-3358-4c37-9eff-0da77512f97a\">\n",
              "    <div class=\"colab-df-container\">\n",
              "      <div>\n",
              "<style scoped>\n",
              "    .dataframe tbody tr th:only-of-type {\n",
              "        vertical-align: middle;\n",
              "    }\n",
              "\n",
              "    .dataframe tbody tr th {\n",
              "        vertical-align: top;\n",
              "    }\n",
              "\n",
              "    .dataframe thead th {\n",
              "        text-align: right;\n",
              "    }\n",
              "</style>\n",
              "<table border=\"1\" class=\"dataframe\">\n",
              "  <thead>\n",
              "    <tr style=\"text-align: right;\">\n",
              "      <th></th>\n",
              "      <th>Variables</th>\n",
              "      <th>Rsquared</th>\n",
              "      <th>VIF</th>\n",
              "    </tr>\n",
              "  </thead>\n",
              "  <tbody>\n",
              "    <tr>\n",
              "      <th>0</th>\n",
              "      <td>R&amp;D Spend</td>\n",
              "      <td>0.594962</td>\n",
              "      <td>2.468903</td>\n",
              "    </tr>\n",
              "    <tr>\n",
              "      <th>1</th>\n",
              "      <td>Administration</td>\n",
              "      <td>0.149002</td>\n",
              "      <td>1.175091</td>\n",
              "    </tr>\n",
              "    <tr>\n",
              "      <th>2</th>\n",
              "      <td>Marketing Spend</td>\n",
              "      <td>0.570220</td>\n",
              "      <td>2.326773</td>\n",
              "    </tr>\n",
              "  </tbody>\n",
              "</table>\n",
              "</div>\n",
              "      <button class=\"colab-df-convert\" onclick=\"convertToInteractive('df-79b3dcc7-3358-4c37-9eff-0da77512f97a')\"\n",
              "              title=\"Convert this dataframe to an interactive table.\"\n",
              "              style=\"display:none;\">\n",
              "        \n",
              "  <svg xmlns=\"http://www.w3.org/2000/svg\" height=\"24px\"viewBox=\"0 0 24 24\"\n",
              "       width=\"24px\">\n",
              "    <path d=\"M0 0h24v24H0V0z\" fill=\"none\"/>\n",
              "    <path d=\"M18.56 5.44l.94 2.06.94-2.06 2.06-.94-2.06-.94-.94-2.06-.94 2.06-2.06.94zm-11 1L8.5 8.5l.94-2.06 2.06-.94-2.06-.94L8.5 2.5l-.94 2.06-2.06.94zm10 10l.94 2.06.94-2.06 2.06-.94-2.06-.94-.94-2.06-.94 2.06-2.06.94z\"/><path d=\"M17.41 7.96l-1.37-1.37c-.4-.4-.92-.59-1.43-.59-.52 0-1.04.2-1.43.59L10.3 9.45l-7.72 7.72c-.78.78-.78 2.05 0 2.83L4 21.41c.39.39.9.59 1.41.59.51 0 1.02-.2 1.41-.59l7.78-7.78 2.81-2.81c.8-.78.8-2.07 0-2.86zM5.41 20L4 18.59l7.72-7.72 1.47 1.35L5.41 20z\"/>\n",
              "  </svg>\n",
              "      </button>\n",
              "      \n",
              "  <style>\n",
              "    .colab-df-container {\n",
              "      display:flex;\n",
              "      flex-wrap:wrap;\n",
              "      gap: 12px;\n",
              "    }\n",
              "\n",
              "    .colab-df-convert {\n",
              "      background-color: #E8F0FE;\n",
              "      border: none;\n",
              "      border-radius: 50%;\n",
              "      cursor: pointer;\n",
              "      display: none;\n",
              "      fill: #1967D2;\n",
              "      height: 32px;\n",
              "      padding: 0 0 0 0;\n",
              "      width: 32px;\n",
              "    }\n",
              "\n",
              "    .colab-df-convert:hover {\n",
              "      background-color: #E2EBFA;\n",
              "      box-shadow: 0px 1px 2px rgba(60, 64, 67, 0.3), 0px 1px 3px 1px rgba(60, 64, 67, 0.15);\n",
              "      fill: #174EA6;\n",
              "    }\n",
              "\n",
              "    [theme=dark] .colab-df-convert {\n",
              "      background-color: #3B4455;\n",
              "      fill: #D2E3FC;\n",
              "    }\n",
              "\n",
              "    [theme=dark] .colab-df-convert:hover {\n",
              "      background-color: #434B5C;\n",
              "      box-shadow: 0px 1px 3px 1px rgba(0, 0, 0, 0.15);\n",
              "      filter: drop-shadow(0px 1px 2px rgba(0, 0, 0, 0.3));\n",
              "      fill: #FFFFFF;\n",
              "    }\n",
              "  </style>\n",
              "\n",
              "      <script>\n",
              "        const buttonEl =\n",
              "          document.querySelector('#df-79b3dcc7-3358-4c37-9eff-0da77512f97a button.colab-df-convert');\n",
              "        buttonEl.style.display =\n",
              "          google.colab.kernel.accessAllowed ? 'block' : 'none';\n",
              "\n",
              "        async function convertToInteractive(key) {\n",
              "          const element = document.querySelector('#df-79b3dcc7-3358-4c37-9eff-0da77512f97a');\n",
              "          const dataTable =\n",
              "            await google.colab.kernel.invokeFunction('convertToInteractive',\n",
              "                                                     [key], {});\n",
              "          if (!dataTable) return;\n",
              "\n",
              "          const docLinkHtml = 'Like what you see? Visit the ' +\n",
              "            '<a target=\"_blank\" href=https://colab.research.google.com/notebooks/data_table.ipynb>data table notebook</a>'\n",
              "            + ' to learn more about interactive tables.';\n",
              "          element.innerHTML = '';\n",
              "          dataTable['output_type'] = 'display_data';\n",
              "          await google.colab.output.renderOutput(dataTable, element);\n",
              "          const docLink = document.createElement('div');\n",
              "          docLink.innerHTML = docLinkHtml;\n",
              "          element.appendChild(docLink);\n",
              "        }\n",
              "      </script>\n",
              "    </div>\n",
              "  </div>\n",
              "  "
            ]
          },
          "metadata": {},
          "execution_count": 42
        }
      ]
    },
    {
      "cell_type": "code",
      "source": [
        "# not possible to build vif for state variables as divide by zero error encountered\n",
        "rsq_state_cali=smf.ols(\"data['State_California']~data['R&D Spend']+data['Administration']+data['Marketing Spend']+data['State_Florida']+data['State_New York']\",data=data).fit().rsquared\n",
        "vif_state_cali=1/(1-rsq_state_cali)\n",
        "vif_state_cali"
      ],
      "metadata": {
        "colab": {
          "base_uri": "https://localhost:8080/"
        },
        "id": "rzYSWP8tCE01",
        "outputId": "e529dfb9-2c91-4406-e89a-b1297d2e6f4d"
      },
      "execution_count": null,
      "outputs": [
        {
          "output_type": "stream",
          "name": "stderr",
          "text": [
            "/usr/local/lib/python3.7/dist-packages/ipykernel_launcher.py:3: RuntimeWarning: divide by zero encountered in double_scalars\n",
            "  This is separate from the ipykernel package so we can avoid doing imports until\n"
          ]
        },
        {
          "output_type": "execute_result",
          "data": {
            "text/plain": [
              "inf"
            ]
          },
          "metadata": {},
          "execution_count": 43
        }
      ]
    },
    {
      "cell_type": "markdown",
      "source": [
        "Test for Normality of Residuals (Q-Q plot)"
      ],
      "metadata": {
        "id": "PWD6XCKqH9yP"
      }
    },
    {
      "cell_type": "code",
      "source": [
        "import statsmodels.api as sm\n",
        "qqplot=sm.qqplot(model.resid,line='q')\n",
        "plt.title(\"Normal Q-Q plot of residuals\")\n",
        "plt.show"
      ],
      "metadata": {
        "colab": {
          "base_uri": "https://localhost:8080/",
          "height": 312
        },
        "id": "NxtzuA_QH8fi",
        "outputId": "97839b74-02a0-4976-8729-a132a00697c7"
      },
      "execution_count": null,
      "outputs": [
        {
          "output_type": "execute_result",
          "data": {
            "text/plain": [
              "<function matplotlib.pyplot.show>"
            ]
          },
          "metadata": {},
          "execution_count": 44
        },
        {
          "output_type": "display_data",
          "data": {
            "text/plain": [
              "<Figure size 432x288 with 1 Axes>"
            ],
            "image/png": "[encoded data removed]"
          },
          "metadata": {
            "needs_background": "light"
          }
        }
      ]
    },
    {
      "cell_type": "markdown",
      "source": [
        "Q-Q plot outliers"
      ],
      "metadata": {
        "id": "ablqMuzkKnby"
      }
    },
    {
      "cell_type": "code",
      "source": [
        "list(np.where(model.resid>10))"
      ],
      "metadata": {
        "colab": {
          "base_uri": "https://localhost:8080/"
        },
        "id": "hGHXUCzDIPud",
        "outputId": "1dbbfd2e-a59f-4719-b2d7-c82288e6339c"
      },
      "execution_count": null,
      "outputs": [
        {
          "output_type": "execute_result",
          "data": {
            "text/plain": [
              "[array([ 1,  2,  3,  8, 10, 11, 12, 13, 16, 19, 20, 25, 28, 30, 34, 35, 36,\n",
              "        37, 38, 40, 41, 42, 43, 44, 45])]"
            ]
          },
          "metadata": {},
          "execution_count": 45
        }
      ]
    },
    {
      "cell_type": "markdown",
      "source": [
        "Cooks distance"
      ],
      "metadata": {
        "id": "wXOnhtEWLlF7"
      }
    },
    {
      "cell_type": "code",
      "source": [
        "model_influence_V=model.get_influence()\n",
        "(c_V,_)=model_influence_V.cooks_distance"
      ],
      "metadata": {
        "id": "9dl_NciiIrtO"
      },
      "execution_count": null,
      "outputs": []
    },
    {
      "cell_type": "code",
      "source": [
        "fig=plt.subplots(figsize=(20,7))\n",
        "plt.stem(np.arange(len(data)),np.round(c_V,3))\n",
        "plt.xlabel('Row index')\n",
        "plt.ylabel('Cooks Distance')"
      ],
      "metadata": {
        "colab": {
          "base_uri": "https://localhost:8080/",
          "height": 514
        },
        "id": "xOZ7lHcxK2Lz",
        "outputId": "92f0abe0-7166-4be8-b113-6dbd6110dfc9"
      },
      "execution_count": null,
      "outputs": [
        {
          "output_type": "stream",
          "name": "stderr",
          "text": [
            "/usr/local/lib/python3.7/dist-packages/ipykernel_launcher.py:2: UserWarning: In Matplotlib 3.3 individual lines on a stem plot will be added as a LineCollection instead of individual lines. This significantly improves the performance of a stem plot. To remove this warning and switch to the new behaviour, set the \"use_line_collection\" keyword argument to True.\n",
            "  \n"
          ]
        },
        {
          "output_type": "execute_result",
          "data": {
            "text/plain": [
              "Text(0, 0.5, 'Cooks Distance')"
            ]
          },
          "metadata": {},
          "execution_count": 47
        },
        {
          "output_type": "display_data",
          "data": {
            "text/plain": [
              "<Figure size 1440x504 with 1 Axes>"
            ],
            "image/png": "[encoded data removed]"
          },
          "metadata": {
            "needs_background": "light"
          }
        }
      ]
    },
    {
      "cell_type": "code",
      "source": [
        "(np.argmax(c_V),np.max(c_V))"
      ],
      "metadata": {
        "colab": {
          "base_uri": "https://localhost:8080/"
        },
        "id": "FXLL9gufLMYt",
        "outputId": "4a03bde6-220c-4602-df56-0cda94b60630"
      },
      "execution_count": null,
      "outputs": [
        {
          "output_type": "execute_result",
          "data": {
            "text/plain": [
              "(49, 0.22625094501509282)"
            ]
          },
          "metadata": {},
          "execution_count": 48
        }
      ]
    },
    {
      "cell_type": "markdown",
      "source": [
        "influencers"
      ],
      "metadata": {
        "id": "eE89f7ZHObeI"
      }
    },
    {
      "cell_type": "code",
      "source": [
        "from statsmodels.graphics.regressionplots import influence_plot\n",
        "influence_plot(model)\n",
        "plt.show()"
      ],
      "metadata": {
        "colab": {
          "base_uri": "https://localhost:8080/",
          "height": 306
        },
        "id": "azN65ZyBLtTQ",
        "outputId": "b70184c6-9651-484c-e04f-23d522886e18"
      },
      "execution_count": null,
      "outputs": [
        {
          "output_type": "display_data",
          "data": {
            "text/plain": [
              "<Figure size 432x288 with 1 Axes>"
            ],
            "image/png": "[encoded data removed]"
          },
          "metadata": {
            "needs_background": "light"
          }
        }
      ]
    },
    {
      "cell_type": "code",
      "source": [
        "k=data.shape[1]\n",
        "n=data.shape[0]\n",
        "levarage_cutoff=3*((k+1)/n)"
      ],
      "metadata": {
        "id": "SexcYoy7PXsE"
      },
      "execution_count": null,
      "outputs": []
    },
    {
      "cell_type": "code",
      "source": [
        "levarage_cutoff"
      ],
      "metadata": {
        "colab": {
          "base_uri": "https://localhost:8080/"
        },
        "id": "cMwLIiDTP90F",
        "outputId": "2661245d-9ca7-44fc-bde7-2961ab9f46e3"
      },
      "execution_count": null,
      "outputs": [
        {
          "output_type": "execute_result",
          "data": {
            "text/plain": [
              "0.48"
            ]
          },
          "metadata": {},
          "execution_count": 51
        }
      ]
    },
    {
      "cell_type": "code",
      "source": [
        "#hence no high leverage values present as seen in the above influence plot"
      ],
      "metadata": {
        "id": "iXI6AeQ7HsRd"
      },
      "execution_count": null,
      "outputs": []
    },
    {
      "cell_type": "code",
      "source": [
        "#choose the model params and the rsqured value and also state that there are no influencers and although 49 is a high outlier, its removal does not affect the final multiple linear regression model"
      ],
      "metadata": {
        "id": "Z19zhFNKQRIb"
      },
      "execution_count": null,
      "outputs": []
    },
    {
      "cell_type": "code",
      "source": [
        "toyota=pd.read_csv(\"/content/ToyotaCorolla.csv\", encoding='latin1')"
      ],
      "metadata": {
        "id": "PNcDyPTOVeB3"
      },
      "execution_count": null,
      "outputs": []
    },
    {
      "cell_type": "code",
      "source": [
        "toyota.isna().sum()"
      ],
      "metadata": {
        "colab": {
          "base_uri": "https://localhost:8080/"
        },
        "id": "o_YRpyl2fNKh",
        "outputId": "3bbe5e09-696a-4971-d9e3-f29723397b22"
      },
      "execution_count": null,
      "outputs": [
        {
          "output_type": "execute_result",
          "data": {
            "text/plain": [
              "Id                  0\n",
              "Model               0\n",
              "Price               0\n",
              "Age_08_04           0\n",
              "Mfg_Month           0\n",
              "Mfg_Year            0\n",
              "KM                  0\n",
              "Fuel_Type           0\n",
              "HP                  0\n",
              "Met_Color           0\n",
              "Color               0\n",
              "Automatic           0\n",
              "cc                  0\n",
              "Doors               0\n",
              "Cylinders           0\n",
              "Gears               0\n",
              "Quarterly_Tax       0\n",
              "Weight              0\n",
              "Mfr_Guarantee       0\n",
              "BOVAG_Guarantee     0\n",
              "Guarantee_Period    0\n",
              "ABS                 0\n",
              "Airbag_1            0\n",
              "Airbag_2            0\n",
              "Airco               0\n",
              "Automatic_airco     0\n",
              "Boardcomputer       0\n",
              "CD_Player           0\n",
              "Central_Lock        0\n",
              "Powered_Windows     0\n",
              "Power_Steering      0\n",
              "Radio               0\n",
              "Mistlamps           0\n",
              "Sport_Model         0\n",
              "Backseat_Divider    0\n",
              "Metallic_Rim        0\n",
              "Radio_cassette      0\n",
              "Tow_Bar             0\n",
              "dtype: int64"
            ]
          },
          "metadata": {},
          "execution_count": 55
        }
      ]
    },
    {
      "cell_type": "code",
      "source": [
        "toyota.duplicated().sum()"
      ],
      "metadata": {
        "colab": {
          "base_uri": "https://localhost:8080/"
        },
        "id": "GIi_h9-3hgRV",
        "outputId": "8f21e737-f00c-45f9-c169-d9caa09473a4"
      },
      "execution_count": null,
      "outputs": [
        {
          "output_type": "execute_result",
          "data": {
            "text/plain": [
              "0"
            ]
          },
          "metadata": {},
          "execution_count": 56
        }
      ]
    },
    {
      "cell_type": "code",
      "source": [
        "toyota.dtypes"
      ],
      "metadata": {
        "colab": {
          "base_uri": "https://localhost:8080/"
        },
        "id": "4ZSWCdjZh1JB",
        "outputId": "9a8d4a67-4d41-4211-c09b-1394ed7bcb36"
      },
      "execution_count": null,
      "outputs": [
        {
          "output_type": "execute_result",
          "data": {
            "text/plain": [
              "Id                   int64\n",
              "Model               object\n",
              "Price                int64\n",
              "Age_08_04            int64\n",
              "Mfg_Month            int64\n",
              "Mfg_Year             int64\n",
              "KM                   int64\n",
              "Fuel_Type           object\n",
              "HP                   int64\n",
              "Met_Color            int64\n",
              "Color               object\n",
              "Automatic            int64\n",
              "cc                   int64\n",
              "Doors                int64\n",
              "Cylinders            int64\n",
              "Gears                int64\n",
              "Quarterly_Tax        int64\n",
              "Weight               int64\n",
              "Mfr_Guarantee        int64\n",
              "BOVAG_Guarantee      int64\n",
              "Guarantee_Period     int64\n",
              "ABS                  int64\n",
              "Airbag_1             int64\n",
              "Airbag_2             int64\n",
              "Airco                int64\n",
              "Automatic_airco      int64\n",
              "Boardcomputer        int64\n",
              "CD_Player            int64\n",
              "Central_Lock         int64\n",
              "Powered_Windows      int64\n",
              "Power_Steering       int64\n",
              "Radio                int64\n",
              "Mistlamps            int64\n",
              "Sport_Model          int64\n",
              "Backseat_Divider     int64\n",
              "Metallic_Rim         int64\n",
              "Radio_cassette       int64\n",
              "Tow_Bar              int64\n",
              "dtype: object"
            ]
          },
          "metadata": {},
          "execution_count": 57
        }
      ]
    },
    {
      "cell_type": "code",
      "source": [
        "plt.boxplot(toyota['KM'])"
      ],
      "metadata": {
        "colab": {
          "base_uri": "https://localhost:8080/",
          "height": 404
        },
        "id": "R2EeQ5_bin7B",
        "outputId": "546a93ca-157c-4a44-fe8d-f9d295cb6684"
      },
      "execution_count": null,
      "outputs": [
        {
          "output_type": "execute_result",
          "data": {
            "text/plain": [
              "{'boxes': [<matplotlib.lines.Line2D at 0x7f80a141f550>],\n",
              " 'caps': [<matplotlib.lines.Line2D at 0x7f80a14a9990>,\n",
              "  <matplotlib.lines.Line2D at 0x7f80a13ef250>],\n",
              " 'fliers': [<matplotlib.lines.Line2D at 0x7f80a13ef510>],\n",
              " 'means': [],\n",
              " 'medians': [<matplotlib.lines.Line2D at 0x7f80a13ef6d0>],\n",
              " 'whiskers': [<matplotlib.lines.Line2D at 0x7f80a14a9850>,\n",
              "  <matplotlib.lines.Line2D at 0x7f80a14a95d0>]}"
            ]
          },
          "metadata": {},
          "execution_count": 58
        },
        {
          "output_type": "display_data",
          "data": {
            "text/plain": [
              "<Figure size 432x288 with 1 Axes>"
            ],
            "image/png": "[encoded data removed]"
          },
          "metadata": {
            "needs_background": "light"
          }
        }
      ]
    },
    {
      "cell_type": "code",
      "source": [
        "toyota.corr()"
      ],
      "metadata": {
        "colab": {
          "base_uri": "https://localhost:8080/",
          "height": 1000
        },
        "id": "guhQSVgojX8Z",
        "outputId": "0885033f-22b4-4a2b-905f-04e5d9ded0c0"
      },
      "execution_count": null,
      "outputs": [
        {
          "output_type": "execute_result",
          "data": {
            "text/plain": [
              "                        Id     Price  Age_08_04  Mfg_Month  Mfg_Year  \\\n",
              "Id                1.000000 -0.738250   0.906132   0.043742 -0.919523   \n",
              "Price            -0.738250  1.000000  -0.876590  -0.018138  0.885159   \n",
              "Age_08_04         0.906132 -0.876590   1.000000  -0.123255 -0.983661   \n",
              "Mfg_Month         0.043742 -0.018138  -0.123255   1.000000 -0.057416   \n",
              "Mfg_Year         -0.919523  0.885159  -0.983661  -0.057416  1.000000   \n",
              "KM                0.273298 -0.569960   0.505672  -0.020630 -0.504974   \n",
              "HP               -0.109375  0.314990  -0.156622  -0.039312  0.164697   \n",
              "Met_Color        -0.079713  0.108905  -0.108150   0.030266  0.103310   \n",
              "Automatic         0.066265  0.033081   0.031717   0.009146 -0.033567   \n",
              "cc               -0.117704  0.126389  -0.098084   0.037387  0.091892   \n",
              "Doors            -0.130207  0.185326  -0.148359  -0.012069  0.151442   \n",
              "Cylinders              NaN       NaN        NaN        NaN       NaN   \n",
              "Gears            -0.043343  0.063104  -0.005364  -0.013063  0.007766   \n",
              "Quarterly_Tax    -0.240821  0.219197  -0.198431   0.031373  0.193934   \n",
              "Weight           -0.414500  0.581198  -0.470253  -0.002167  0.473478   \n",
              "Mfr_Guarantee    -0.162006  0.197802  -0.164658  -0.005771  0.166697   \n",
              "BOVAG_Guarantee  -0.015065  0.028133   0.006865  -0.003863 -0.006206   \n",
              "Guarantee_Period -0.086256  0.146627  -0.152563   0.029010  0.148218   \n",
              "ABS              -0.461437  0.306138  -0.412887   0.072532  0.402215   \n",
              "Airbag_1         -0.123465  0.093588  -0.105406   0.003756  0.105359   \n",
              "Airbag_2         -0.358316  0.248974  -0.329017   0.076749  0.317075   \n",
              "Airco            -0.386207  0.429259  -0.403600   0.057088  0.395674   \n",
              "Automatic_airco  -0.327468  0.588262  -0.426259  -0.049017  0.437718   \n",
              "Boardcomputer    -0.695207  0.601292  -0.719449   0.017715  0.720567   \n",
              "CD_Player        -0.464520  0.481374  -0.510895  -0.016736  0.517008   \n",
              "Central_Lock     -0.238940  0.343458  -0.279631   0.010055  0.279490   \n",
              "Powered_Windows  -0.236723  0.356518  -0.283856   0.025185  0.280996   \n",
              "Power_Steering   -0.091587  0.064275  -0.069192  -0.055495  0.079676   \n",
              "Radio            -0.010971 -0.041887   0.013791   0.031601 -0.019607   \n",
              "Mistlamps        -0.139708  0.222083  -0.126895  -0.033504  0.133737   \n",
              "Sport_Model      -0.028704  0.164121  -0.110988   0.052789  0.102080   \n",
              "Backseat_Divider -0.136398  0.102569  -0.116751   0.023245  0.113237   \n",
              "Metallic_Rim     -0.022232  0.108564  -0.040045   0.023506  0.036022   \n",
              "Radio_cassette   -0.011611 -0.043179   0.012857   0.032576 -0.018844   \n",
              "Tow_Bar           0.159171 -0.172369   0.188720  -0.042170 -0.182206   \n",
              "\n",
              "                        KM        HP  Met_Color  Automatic        cc  ...  \\\n",
              "Id                0.273298 -0.109375  -0.079713   0.066265 -0.117704  ...   \n",
              "Price            -0.569960  0.314990   0.108905   0.033081  0.126389  ...   \n",
              "Age_08_04         0.505672 -0.156622  -0.108150   0.031717 -0.098084  ...   \n",
              "Mfg_Month        -0.020630 -0.039312   0.030266   0.009146  0.037387  ...   \n",
              "Mfg_Year         -0.504974  0.164697   0.103310  -0.033567  0.091892  ...   \n",
              "KM                1.000000 -0.333538  -0.080503  -0.081854  0.102683  ...   \n",
              "HP               -0.333538  1.000000   0.058712   0.013144  0.035856  ...   \n",
              "Met_Color        -0.080503  0.058712   1.000000  -0.019335  0.031812  ...   \n",
              "Automatic        -0.081854  0.013144  -0.019335   1.000000  0.066740  ...   \n",
              "cc                0.102683  0.035856   0.031812   0.066740  1.000000  ...   \n",
              "Doors            -0.036197  0.092424   0.085243  -0.027654  0.079903  ...   \n",
              "Cylinders              NaN       NaN        NaN        NaN       NaN  ...   \n",
              "Gears             0.015023  0.209477   0.018601  -0.098555  0.014629  ...   \n",
              "Quarterly_Tax     0.278165 -0.298432   0.011326  -0.055371  0.306996  ...   \n",
              "Weight           -0.028598  0.089614   0.057929   0.057249  0.335637  ...   \n",
              "Mfr_Guarantee    -0.212851  0.140026   0.154850   0.026194 -0.057407  ...   \n",
              "BOVAG_Guarantee   0.001438  0.022701   0.010783   0.023393 -0.081725  ...   \n",
              "Guarantee_Period -0.138942  0.076163   0.009295  -0.002256 -0.017683  ...   \n",
              "ABS              -0.177203  0.057832   0.022298  -0.016128  0.037806  ...   \n",
              "Airbag_1         -0.018012  0.025137   0.100055  -0.011895  0.022678  ...   \n",
              "Airbag_2         -0.139275  0.017644   0.038416   0.001171  0.024738  ...   \n",
              "Airco            -0.133057  0.241134   0.114190  -0.028353  0.119888  ...   \n",
              "Automatic_airco  -0.258221  0.244957   0.027977   0.059057  0.162669  ...   \n",
              "Boardcomputer    -0.353862  0.129715   0.089886  -0.037069  0.009312  ...   \n",
              "CD_Player        -0.266826  0.102300   0.198220  -0.010967  0.057787  ...   \n",
              "Central_Lock     -0.125177  0.250122   0.153307  -0.002502  0.072634  ...   \n",
              "Powered_Windows  -0.156242  0.265593   0.145147  -0.005864  0.055299  ...   \n",
              "Power_Steering    0.007397  0.048850   0.086544  -0.004469  0.032933  ...   \n",
              "Radio             0.013661  0.020998   0.072756  -0.014600 -0.000361  ...   \n",
              "Mistlamps        -0.074327  0.210571   0.023821   0.003077  0.017326  ...   \n",
              "Sport_Model      -0.044784 -0.006027   0.003779   0.013175 -0.035195  ...   \n",
              "Backseat_Divider -0.045658  0.010908   0.037741  -0.018876 -0.055711  ...   \n",
              "Metallic_Rim     -0.013599  0.206784   0.053829  -0.078095  0.003236  ...   \n",
              "Radio_cassette    0.015770  0.019919   0.071530  -0.014150 -0.000470  ...   \n",
              "Tow_Bar           0.084153  0.068271   0.148536   0.018786  0.002725  ...   \n",
              "\n",
              "                  Central_Lock  Powered_Windows  Power_Steering     Radio  \\\n",
              "Id                   -0.238940        -0.236723       -0.091587 -0.010971   \n",
              "Price                 0.343458         0.356518        0.064275 -0.041887   \n",
              "Age_08_04            -0.279631        -0.283856       -0.069192  0.013791   \n",
              "Mfg_Month             0.010055         0.025185       -0.055495  0.031601   \n",
              "Mfg_Year              0.279490         0.280996        0.079676 -0.019607   \n",
              "KM                   -0.125177        -0.156242        0.007397  0.013661   \n",
              "HP                    0.250122         0.265593        0.048850  0.020998   \n",
              "Met_Color             0.153307         0.145147        0.086544  0.072756   \n",
              "Automatic            -0.002502        -0.005864       -0.004469 -0.014600   \n",
              "cc                    0.072634         0.055299        0.032933 -0.000361   \n",
              "Doors                 0.132092         0.107626        0.059792 -0.008318   \n",
              "Cylinders                  NaN              NaN             NaN       NaN   \n",
              "Gears                 0.126964         0.131423        0.021200  0.015090   \n",
              "Quarterly_Tax         0.032084         0.003827        0.047956 -0.031816   \n",
              "Weight                0.234644         0.213356        0.047849 -0.038407   \n",
              "Mfr_Guarantee         0.039915         0.041551        0.029771 -0.052058   \n",
              "BOVAG_Guarantee      -0.023008        -0.012406        0.164392 -0.039075   \n",
              "Guarantee_Period      0.058934         0.040534       -0.118974  0.198886   \n",
              "ABS                   0.099454         0.099465        0.254626 -0.054670   \n",
              "Airbag_1              0.120276         0.121641        0.561770 -0.010035   \n",
              "Airbag_2              0.024819         0.049129        0.212187 -0.223663   \n",
              "Airco                 0.540588         0.543982        0.096893 -0.030571   \n",
              "Automatic_airco       0.195790         0.203687        0.036912 -0.092647   \n",
              "Boardcomputer         0.203126         0.213327        0.087207 -0.129094   \n",
              "CD_Player             0.194076         0.195386        0.068452 -0.185568   \n",
              "Central_Lock          1.000000         0.875552        0.129646 -0.011251   \n",
              "Powered_Windows       0.875552         1.000000        0.123458 -0.035811   \n",
              "Power_Steering        0.129646         0.123458        1.000000  0.009075   \n",
              "Radio                -0.011251        -0.035811        0.009075  1.000000   \n",
              "Mistlamps             0.487426         0.496697        0.077985 -0.126118   \n",
              "Sport_Model          -0.003128        -0.000650        0.098866 -0.137729   \n",
              "Backseat_Divider      0.058449         0.078244        0.265169 -0.209590   \n",
              "Metallic_Rim          0.281334         0.291419        0.053217 -0.034162   \n",
              "Radio_cassette       -0.016954        -0.037626       -0.004584  0.991621   \n",
              "Tow_Bar              -0.007728        -0.013252        0.030453  0.143652   \n",
              "\n",
              "                  Mistlamps  Sport_Model  Backseat_Divider  Metallic_Rim  \\\n",
              "Id                -0.139708    -0.028704         -0.136398     -0.022232   \n",
              "Price              0.222083     0.164121          0.102569      0.108564   \n",
              "Age_08_04         -0.126895    -0.110988         -0.116751     -0.040045   \n",
              "Mfg_Month         -0.033504     0.052789          0.023245      0.023506   \n",
              "Mfg_Year           0.133737     0.102080          0.113237      0.036022   \n",
              "KM                -0.074327    -0.044784         -0.045658     -0.013599   \n",
              "HP                 0.210571    -0.006027          0.010908      0.206784   \n",
              "Met_Color          0.023821     0.003779          0.037741      0.053829   \n",
              "Automatic          0.003077     0.013175         -0.018876     -0.078095   \n",
              "cc                 0.017326    -0.035195         -0.055711      0.003236   \n",
              "Doors              0.064705    -0.129881         -0.022542     -0.039555   \n",
              "Cylinders               NaN          NaN               NaN           NaN   \n",
              "Gears              0.238789     0.174117          0.076705      0.295077   \n",
              "Quarterly_Tax      0.024024     0.067525          0.198419     -0.011965   \n",
              "Weight             0.135236     0.125974          0.036446      0.053847   \n",
              "Mfr_Guarantee      0.083958     0.054129          0.256249      0.026728   \n",
              "BOVAG_Guarantee    0.117472     0.173978          0.457468      0.060434   \n",
              "Guarantee_Period  -0.118021    -0.172874         -0.484427     -0.044003   \n",
              "ABS                0.179433     0.200596          0.256659      0.079152   \n",
              "Airbag_1           0.092618     0.113671          0.307947      0.057345   \n",
              "Airbag_2           0.228843     0.300274          0.589987      0.075128   \n",
              "Airco              0.466751     0.002730          0.105149      0.233166   \n",
              "Automatic_airco    0.312141     0.215287          0.018756      0.100363   \n",
              "Boardcomputer      0.147900     0.036802          0.287615     -0.024999   \n",
              "CD_Player          0.124589     0.057920          0.148806      0.044730   \n",
              "Central_Lock       0.487426    -0.003128          0.058449      0.281334   \n",
              "Powered_Windows    0.496697    -0.000650          0.078244      0.291419   \n",
              "Power_Steering     0.077985     0.098866          0.265169      0.053217   \n",
              "Radio             -0.126118    -0.137729         -0.209590     -0.034162   \n",
              "Mistlamps          1.000000     0.004342          0.245463      0.412545   \n",
              "Sport_Model        0.004342     1.000000          0.357713      0.051810   \n",
              "Backseat_Divider   0.245463     0.357713          1.000000      0.104862   \n",
              "Metallic_Rim       0.412545     0.051810          0.104862      1.000000   \n",
              "Radio_cassette    -0.134245    -0.136708         -0.206390     -0.033228   \n",
              "Tow_Bar           -0.069479    -0.094147         -0.049176     -0.037331   \n",
              "\n",
              "                  Radio_cassette   Tow_Bar  \n",
              "Id                     -0.011611  0.159171  \n",
              "Price                  -0.043179 -0.172369  \n",
              "Age_08_04               0.012857  0.188720  \n",
              "Mfg_Month               0.032576 -0.042170  \n",
              "Mfg_Year               -0.018844 -0.182206  \n",
              "KM                      0.015770  0.084153  \n",
              "HP                      0.019919  0.068271  \n",
              "Met_Color               0.071530  0.148536  \n",
              "Automatic              -0.014150  0.018786  \n",
              "cc                     -0.000470  0.002725  \n",
              "Doors                  -0.008265  0.102292  \n",
              "Cylinders                    NaN       NaN  \n",
              "Gears                   0.015397 -0.029357  \n",
              "Quarterly_Tax          -0.031009 -0.004988  \n",
              "Weight                 -0.037265 -0.074932  \n",
              "Mfr_Guarantee          -0.054532 -0.023328  \n",
              "BOVAG_Guarantee        -0.039827 -0.006718  \n",
              "Guarantee_Period        0.193910  0.008590  \n",
              "ABS                    -0.055724 -0.065976  \n",
              "Airbag_1               -0.022117  0.052312  \n",
              "Airbag_2               -0.220917 -0.063956  \n",
              "Airco                  -0.036524 -0.024362  \n",
              "Automatic_airco        -0.092348 -0.117967  \n",
              "Boardcomputer          -0.128073 -0.128001  \n",
              "CD_Player              -0.189668 -0.079911  \n",
              "Central_Lock           -0.016954 -0.007728  \n",
              "Powered_Windows        -0.037626 -0.013252  \n",
              "Power_Steering         -0.004584  0.030453  \n",
              "Radio                   0.991621  0.143652  \n",
              "Mistlamps              -0.134245 -0.069479  \n",
              "Sport_Model            -0.136708 -0.094147  \n",
              "Backseat_Divider       -0.206390 -0.049176  \n",
              "Metallic_Rim           -0.033228 -0.037331  \n",
              "Radio_cassette          1.000000  0.140753  \n",
              "Tow_Bar                 0.140753  1.000000  \n",
              "\n",
              "[35 rows x 35 columns]"
            ],
            "text/html": [
              "\n",
              "  <div id=\"df-88b68cf5-40a2-4aab-8ab4-a2cb33fdc933\">\n",
              "    <div class=\"colab-df-container\">\n",
              "      <div>\n",
              "<style scoped>\n",
              "    .dataframe tbody tr th:only-of-type {\n",
              "        vertical-align: middle;\n",
              "    }\n",
              "\n",
              "    .dataframe tbody tr th {\n",
              "        vertical-align: top;\n",
              "    }\n",
              "\n",
              "    .dataframe thead th {\n",
              "        text-align: right;\n",
              "    }\n",
              "</style>\n",
              "<table border=\"1\" class=\"dataframe\">\n",
              "  <thead>\n",
              "    <tr style=\"text-align: right;\">\n",
              "      <th></th>\n",
              "      <th>Id</th>\n",
              "      <th>Price</th>\n",
              "      <th>Age_08_04</th>\n",
              "      <th>Mfg_Month</th>\n",
              "      <th>Mfg_Year</th>\n",
              "      <th>KM</th>\n",
              "      <th>HP</th>\n",
              "      <th>Met_Color</th>\n",
              "      <th>Automatic</th>\n",
              "      <th>cc</th>\n",
              "      <th>...</th>\n",
              "      <th>Central_Lock</th>\n",
              "      <th>Powered_Windows</th>\n",
              "      <th>Power_Steering</th>\n",
              "      <th>Radio</th>\n",
              "      <th>Mistlamps</th>\n",
              "      <th>Sport_Model</th>\n",
              "      <th>Backseat_Divider</th>\n",
              "      <th>Metallic_Rim</th>\n",
              "      <th>Radio_cassette</th>\n",
              "      <th>Tow_Bar</th>\n",
              "    </tr>\n",
              "  </thead>\n",
              "  <tbody>\n",
              "    <tr>\n",
              "      <th>Id</th>\n",
              "      <td>1.000000</td>\n",
              "      <td>-0.738250</td>\n",
              "      <td>0.906132</td>\n",
              "      <td>0.043742</td>\n",
              "      <td>-0.919523</td>\n",
              "      <td>0.273298</td>\n",
              "      <td>-0.109375</td>\n",
              "      <td>-0.079713</td>\n",
              "      <td>0.066265</td>\n",
              "      <td>-0.117704</td>\n",
              "      <td>...</td>\n",
              "      <td>-0.238940</td>\n",
              "      <td>-0.236723</td>\n",
              "      <td>-0.091587</td>\n",
              "      <td>-0.010971</td>\n",
              "      <td>-0.139708</td>\n",
              "      <td>-0.028704</td>\n",
              "      <td>-0.136398</td>\n",
              "      <td>-0.022232</td>\n",
              "      <td>-0.011611</td>\n",
              "      <td>0.159171</td>\n",
              "    </tr>\n",
              "    <tr>\n",
              "      <th>Price</th>\n",
              "      <td>-0.738250</td>\n",
              "      <td>1.000000</td>\n",
              "      <td>-0.876590</td>\n",
              "      <td>-0.018138</td>\n",
              "      <td>0.885159</td>\n",
              "      <td>-0.569960</td>\n",
              "      <td>0.314990</td>\n",
              "      <td>0.108905</td>\n",
              "      <td>0.033081</td>\n",
              "      <td>0.126389</td>\n",
              "      <td>...</td>\n",
              "      <td>0.343458</td>\n",
              "      <td>0.356518</td>\n",
              "      <td>0.064275</td>\n",
              "      <td>-0.041887</td>\n",
              "      <td>0.222083</td>\n",
              "      <td>0.164121</td>\n",
              "      <td>0.102569</td>\n",
              "      <td>0.108564</td>\n",
              "      <td>-0.043179</td>\n",
              "      <td>-0.172369</td>\n",
              "    </tr>\n",
              "    <tr>\n",
              "      <th>Age_08_04</th>\n",
              "      <td>0.906132</td>\n",
              "      <td>-0.876590</td>\n",
              "      <td>1.000000</td>\n",
              "      <td>-0.123255</td>\n",
              "      <td>-0.983661</td>\n",
              "      <td>0.505672</td>\n",
              "      <td>-0.156622</td>\n",
              "      <td>-0.108150</td>\n",
              "      <td>0.031717</td>\n",
              "      <td>-0.098084</td>\n",
              "      <td>...</td>\n",
              "      <td>-0.279631</td>\n",
              "      <td>-0.283856</td>\n",
              "      <td>-0.069192</td>\n",
              "      <td>0.013791</td>\n",
              "      <td>-0.126895</td>\n",
              "      <td>-0.110988</td>\n",
              "      <td>-0.116751</td>\n",
              "      <td>-0.040045</td>\n",
              "      <td>0.012857</td>\n",
              "      <td>0.188720</td>\n",
              "    </tr>\n",
              "    <tr>\n",
              "      <th>Mfg_Month</th>\n",
              "      <td>0.043742</td>\n",
              "      <td>-0.018138</td>\n",
              "      <td>-0.123255</td>\n",
              "      <td>1.000000</td>\n",
              "      <td>-0.057416</td>\n",
              "      <td>-0.020630</td>\n",
              "      <td>-0.039312</td>\n",
              "      <td>0.030266</td>\n",
              "      <td>0.009146</td>\n",
              "      <td>0.037387</td>\n",
              "      <td>...</td>\n",
              "      <td>0.010055</td>\n",
              "      <td>0.025185</td>\n",
              "      <td>-0.055495</td>\n",
              "      <td>0.031601</td>\n",
              "      <td>-0.033504</td>\n",
              "      <td>0.052789</td>\n",
              "      <td>0.023245</td>\n",
              "      <td>0.023506</td>\n",
              "      <td>0.032576</td>\n",
              "      <td>-0.042170</td>\n",
              "    </tr>\n",
              "    <tr>\n",
              "      <th>Mfg_Year</th>\n",
              "      <td>-0.919523</td>\n",
              "      <td>0.885159</td>\n",
              "      <td>-0.983661</td>\n",
              "      <td>-0.057416</td>\n",
              "      <td>1.000000</td>\n",
              "      <td>-0.504974</td>\n",
              "      <td>0.164697</td>\n",
              "      <td>0.103310</td>\n",
              "      <td>-0.033567</td>\n",
              "      <td>0.091892</td>\n",
              "      <td>...</td>\n",
              "      <td>0.279490</td>\n",
              "      <td>0.280996</td>\n",
              "      <td>0.079676</td>\n",
              "      <td>-0.019607</td>\n",
              "      <td>0.133737</td>\n",
              "      <td>0.102080</td>\n",
              "      <td>0.113237</td>\n",
              "      <td>0.036022</td>\n",
              "      <td>-0.018844</td>\n",
              "      <td>-0.182206</td>\n",
              "    </tr>\n",
              "    <tr>\n",
              "      <th>KM</th>\n",
              "      <td>0.273298</td>\n",
              "      <td>-0.569960</td>\n",
              "      <td>0.505672</td>\n",
              "      <td>-0.020630</td>\n",
              "      <td>-0.504974</td>\n",
              "      <td>1.000000</td>\n",
              "      <td>-0.333538</td>\n",
              "      <td>-0.080503</td>\n",
              "      <td>-0.081854</td>\n",
              "      <td>0.102683</td>\n",
              "      <td>...</td>\n",
              "      <td>-0.125177</td>\n",
              "      <td>-0.156242</td>\n",
              "      <td>0.007397</td>\n",
              "      <td>0.013661</td>\n",
              "      <td>-0.074327</td>\n",
              "      <td>-0.044784</td>\n",
              "      <td>-0.045658</td>\n",
              "      <td>-0.013599</td>\n",
              "      <td>0.015770</td>\n",
              "      <td>0.084153</td>\n",
              "    </tr>\n",
              "    <tr>\n",
              "      <th>HP</th>\n",
              "      <td>-0.109375</td>\n",
              "      <td>0.314990</td>\n",
              "      <td>-0.156622</td>\n",
              "      <td>-0.039312</td>\n",
              "      <td>0.164697</td>\n",
              "      <td>-0.333538</td>\n",
              "      <td>1.000000</td>\n",
              "      <td>0.058712</td>\n",
              "      <td>0.013144</td>\n",
              "      <td>0.035856</td>\n",
              "      <td>...</td>\n",
              "      <td>0.250122</td>\n",
              "      <td>0.265593</td>\n",
              "      <td>0.048850</td>\n",
              "      <td>0.020998</td>\n",
              "      <td>0.210571</td>\n",
              "      <td>-0.006027</td>\n",
              "      <td>0.010908</td>\n",
              "      <td>0.206784</td>\n",
              "      <td>0.019919</td>\n",
              "      <td>0.068271</td>\n",
              "    </tr>\n",
              "    <tr>\n",
              "      <th>Met_Color</th>\n",
              "      <td>-0.079713</td>\n",
              "      <td>0.108905</td>\n",
              "      <td>-0.108150</td>\n",
              "      <td>0.030266</td>\n",
              "      <td>0.103310</td>\n",
              "      <td>-0.080503</td>\n",
              "      <td>0.058712</td>\n",
              "      <td>1.000000</td>\n",
              "      <td>-0.019335</td>\n",
              "      <td>0.031812</td>\n",
              "      <td>...</td>\n",
              "      <td>0.153307</td>\n",
              "      <td>0.145147</td>\n",
              "      <td>0.086544</td>\n",
              "      <td>0.072756</td>\n",
              "      <td>0.023821</td>\n",
              "      <td>0.003779</td>\n",
              "      <td>0.037741</td>\n",
              "      <td>0.053829</td>\n",
              "      <td>0.071530</td>\n",
              "      <td>0.148536</td>\n",
              "    </tr>\n",
              "    <tr>\n",
              "      <th>Automatic</th>\n",
              "      <td>0.066265</td>\n",
              "      <td>0.033081</td>\n",
              "      <td>0.031717</td>\n",
              "      <td>0.009146</td>\n",
              "      <td>-0.033567</td>\n",
              "      <td>-0.081854</td>\n",
              "      <td>0.013144</td>\n",
              "      <td>-0.019335</td>\n",
              "      <td>1.000000</td>\n",
              "      <td>0.066740</td>\n",
              "      <td>...</td>\n",
              "      <td>-0.002502</td>\n",
              "      <td>-0.005864</td>\n",
              "      <td>-0.004469</td>\n",
              "      <td>-0.014600</td>\n",
              "      <td>0.003077</td>\n",
              "      <td>0.013175</td>\n",
              "      <td>-0.018876</td>\n",
              "      <td>-0.078095</td>\n",
              "      <td>-0.014150</td>\n",
              "      <td>0.018786</td>\n",
              "    </tr>\n",
              "    <tr>\n",
              "      <th>cc</th>\n",
              "      <td>-0.117704</td>\n",
              "      <td>0.126389</td>\n",
              "      <td>-0.098084</td>\n",
              "      <td>0.037387</td>\n",
              "      <td>0.091892</td>\n",
              "      <td>0.102683</td>\n",
              "      <td>0.035856</td>\n",
              "      <td>0.031812</td>\n",
              "      <td>0.066740</td>\n",
              "      <td>1.000000</td>\n",
              "      <td>...</td>\n",
              "      <td>0.072634</td>\n",
              "      <td>0.055299</td>\n",
              "      <td>0.032933</td>\n",
              "      <td>-0.000361</td>\n",
              "      <td>0.017326</td>\n",
              "      <td>-0.035195</td>\n",
              "      <td>-0.055711</td>\n",
              "      <td>0.003236</td>\n",
              "      <td>-0.000470</td>\n",
              "      <td>0.002725</td>\n",
              "    </tr>\n",
              "    <tr>\n",
              "      <th>Doors</th>\n",
              "      <td>-0.130207</td>\n",
              "      <td>0.185326</td>\n",
              "      <td>-0.148359</td>\n",
              "      <td>-0.012069</td>\n",
              "      <td>0.151442</td>\n",
              "      <td>-0.036197</td>\n",
              "      <td>0.092424</td>\n",
              "      <td>0.085243</td>\n",
              "      <td>-0.027654</td>\n",
              "      <td>0.079903</td>\n",
              "      <td>...</td>\n",
              "      <td>0.132092</td>\n",
              "      <td>0.107626</td>\n",
              "      <td>0.059792</td>\n",
              "      <td>-0.008318</td>\n",
              "      <td>0.064705</td>\n",
              "      <td>-0.129881</td>\n",
              "      <td>-0.022542</td>\n",
              "      <td>-0.039555</td>\n",
              "      <td>-0.008265</td>\n",
              "      <td>0.102292</td>\n",
              "    </tr>\n",
              "    <tr>\n",
              "      <th>Cylinders</th>\n",
              "      <td>NaN</td>\n",
              "      <td>NaN</td>\n",
              "      <td>NaN</td>\n",
              "      <td>NaN</td>\n",
              "      <td>NaN</td>\n",
              "      <td>NaN</td>\n",
              "      <td>NaN</td>\n",
              "      <td>NaN</td>\n",
              "      <td>NaN</td>\n",
              "      <td>NaN</td>\n",
              "      <td>...</td>\n",
              "      <td>NaN</td>\n",
              "      <td>NaN</td>\n",
              "      <td>NaN</td>\n",
              "      <td>NaN</td>\n",
              "      <td>NaN</td>\n",
              "      <td>NaN</td>\n",
              "      <td>NaN</td>\n",
              "      <td>NaN</td>\n",
              "      <td>NaN</td>\n",
              "      <td>NaN</td>\n",
              "    </tr>\n",
              "    <tr>\n",
              "      <th>Gears</th>\n",
              "      <td>-0.043343</td>\n",
              "      <td>0.063104</td>\n",
              "      <td>-0.005364</td>\n",
              "      <td>-0.013063</td>\n",
              "      <td>0.007766</td>\n",
              "      <td>0.015023</td>\n",
              "      <td>0.209477</td>\n",
              "      <td>0.018601</td>\n",
              "      <td>-0.098555</td>\n",
              "      <td>0.014629</td>\n",
              "      <td>...</td>\n",
              "      <td>0.126964</td>\n",
              "      <td>0.131423</td>\n",
              "      <td>0.021200</td>\n",
              "      <td>0.015090</td>\n",
              "      <td>0.238789</td>\n",
              "      <td>0.174117</td>\n",
              "      <td>0.076705</td>\n",
              "      <td>0.295077</td>\n",
              "      <td>0.015397</td>\n",
              "      <td>-0.029357</td>\n",
              "    </tr>\n",
              "    <tr>\n",
              "      <th>Quarterly_Tax</th>\n",
              "      <td>-0.240821</td>\n",
              "      <td>0.219197</td>\n",
              "      <td>-0.198431</td>\n",
              "      <td>0.031373</td>\n",
              "      <td>0.193934</td>\n",
              "      <td>0.278165</td>\n",
              "      <td>-0.298432</td>\n",
              "      <td>0.011326</td>\n",
              "      <td>-0.055371</td>\n",
              "      <td>0.306996</td>\n",
              "      <td>...</td>\n",
              "      <td>0.032084</td>\n",
              "      <td>0.003827</td>\n",
              "      <td>0.047956</td>\n",
              "      <td>-0.031816</td>\n",
              "      <td>0.024024</td>\n",
              "      <td>0.067525</td>\n",
              "      <td>0.198419</td>\n",
              "      <td>-0.011965</td>\n",
              "      <td>-0.031009</td>\n",
              "      <td>-0.004988</td>\n",
              "    </tr>\n",
              "    <tr>\n",
              "      <th>Weight</th>\n",
              "      <td>-0.414500</td>\n",
              "      <td>0.581198</td>\n",
              "      <td>-0.470253</td>\n",
              "      <td>-0.002167</td>\n",
              "      <td>0.473478</td>\n",
              "      <td>-0.028598</td>\n",
              "      <td>0.089614</td>\n",
              "      <td>0.057929</td>\n",
              "      <td>0.057249</td>\n",
              "      <td>0.335637</td>\n",
              "      <td>...</td>\n",
              "      <td>0.234644</td>\n",
              "      <td>0.213356</td>\n",
              "      <td>0.047849</td>\n",
              "      <td>-0.038407</td>\n",
              "      <td>0.135236</td>\n",
              "      <td>0.125974</td>\n",
              "      <td>0.036446</td>\n",
              "      <td>0.053847</td>\n",
              "      <td>-0.037265</td>\n",
              "      <td>-0.074932</td>\n",
              "    </tr>\n",
              "    <tr>\n",
              "      <th>Mfr_Guarantee</th>\n",
              "      <td>-0.162006</td>\n",
              "      <td>0.197802</td>\n",
              "      <td>-0.164658</td>\n",
              "      <td>-0.005771</td>\n",
              "      <td>0.166697</td>\n",
              "      <td>-0.212851</td>\n",
              "      <td>0.140026</td>\n",
              "      <td>0.154850</td>\n",
              "      <td>0.026194</td>\n",
              "      <td>-0.057407</td>\n",
              "      <td>...</td>\n",
              "      <td>0.039915</td>\n",
              "      <td>0.041551</td>\n",
              "      <td>0.029771</td>\n",
              "      <td>-0.052058</td>\n",
              "      <td>0.083958</td>\n",
              "      <td>0.054129</td>\n",
              "      <td>0.256249</td>\n",
              "      <td>0.026728</td>\n",
              "      <td>-0.054532</td>\n",
              "      <td>-0.023328</td>\n",
              "    </tr>\n",
              "    <tr>\n",
              "      <th>BOVAG_Guarantee</th>\n",
              "      <td>-0.015065</td>\n",
              "      <td>0.028133</td>\n",
              "      <td>0.006865</td>\n",
              "      <td>-0.003863</td>\n",
              "      <td>-0.006206</td>\n",
              "      <td>0.001438</td>\n",
              "      <td>0.022701</td>\n",
              "      <td>0.010783</td>\n",
              "      <td>0.023393</td>\n",
              "      <td>-0.081725</td>\n",
              "      <td>...</td>\n",
              "      <td>-0.023008</td>\n",
              "      <td>-0.012406</td>\n",
              "      <td>0.164392</td>\n",
              "      <td>-0.039075</td>\n",
              "      <td>0.117472</td>\n",
              "      <td>0.173978</td>\n",
              "      <td>0.457468</td>\n",
              "      <td>0.060434</td>\n",
              "      <td>-0.039827</td>\n",
              "      <td>-0.006718</td>\n",
              "    </tr>\n",
              "    <tr>\n",
              "      <th>Guarantee_Period</th>\n",
              "      <td>-0.086256</td>\n",
              "      <td>0.146627</td>\n",
              "      <td>-0.152563</td>\n",
              "      <td>0.029010</td>\n",
              "      <td>0.148218</td>\n",
              "      <td>-0.138942</td>\n",
              "      <td>0.076163</td>\n",
              "      <td>0.009295</td>\n",
              "      <td>-0.002256</td>\n",
              "      <td>-0.017683</td>\n",
              "      <td>...</td>\n",
              "      <td>0.058934</td>\n",
              "      <td>0.040534</td>\n",
              "      <td>-0.118974</td>\n",
              "      <td>0.198886</td>\n",
              "      <td>-0.118021</td>\n",
              "      <td>-0.172874</td>\n",
              "      <td>-0.484427</td>\n",
              "      <td>-0.044003</td>\n",
              "      <td>0.193910</td>\n",
              "      <td>0.008590</td>\n",
              "    </tr>\n",
              "    <tr>\n",
              "      <th>ABS</th>\n",
              "      <td>-0.461437</td>\n",
              "      <td>0.306138</td>\n",
              "      <td>-0.412887</td>\n",
              "      <td>0.072532</td>\n",
              "      <td>0.402215</td>\n",
              "      <td>-0.177203</td>\n",
              "      <td>0.057832</td>\n",
              "      <td>0.022298</td>\n",
              "      <td>-0.016128</td>\n",
              "      <td>0.037806</td>\n",
              "      <td>...</td>\n",
              "      <td>0.099454</td>\n",
              "      <td>0.099465</td>\n",
              "      <td>0.254626</td>\n",
              "      <td>-0.054670</td>\n",
              "      <td>0.179433</td>\n",
              "      <td>0.200596</td>\n",
              "      <td>0.256659</td>\n",
              "      <td>0.079152</td>\n",
              "      <td>-0.055724</td>\n",
              "      <td>-0.065976</td>\n",
              "    </tr>\n",
              "    <tr>\n",
              "      <th>Airbag_1</th>\n",
              "      <td>-0.123465</td>\n",
              "      <td>0.093588</td>\n",
              "      <td>-0.105406</td>\n",
              "      <td>0.003756</td>\n",
              "      <td>0.105359</td>\n",
              "      <td>-0.018012</td>\n",
              "      <td>0.025137</td>\n",
              "      <td>0.100055</td>\n",
              "      <td>-0.011895</td>\n",
              "      <td>0.022678</td>\n",
              "      <td>...</td>\n",
              "      <td>0.120276</td>\n",
              "      <td>0.121641</td>\n",
              "      <td>0.561770</td>\n",
              "      <td>-0.010035</td>\n",
              "      <td>0.092618</td>\n",
              "      <td>0.113671</td>\n",
              "      <td>0.307947</td>\n",
              "      <td>0.057345</td>\n",
              "      <td>-0.022117</td>\n",
              "      <td>0.052312</td>\n",
              "    </tr>\n",
              "    <tr>\n",
              "      <th>Airbag_2</th>\n",
              "      <td>-0.358316</td>\n",
              "      <td>0.248974</td>\n",
              "      <td>-0.329017</td>\n",
              "      <td>0.076749</td>\n",
              "      <td>0.317075</td>\n",
              "      <td>-0.139275</td>\n",
              "      <td>0.017644</td>\n",
              "      <td>0.038416</td>\n",
              "      <td>0.001171</td>\n",
              "      <td>0.024738</td>\n",
              "      <td>...</td>\n",
              "      <td>0.024819</td>\n",
              "      <td>0.049129</td>\n",
              "      <td>0.212187</td>\n",
              "      <td>-0.223663</td>\n",
              "      <td>0.228843</td>\n",
              "      <td>0.300274</td>\n",
              "      <td>0.589987</td>\n",
              "      <td>0.075128</td>\n",
              "      <td>-0.220917</td>\n",
              "      <td>-0.063956</td>\n",
              "    </tr>\n",
              "    <tr>\n",
              "      <th>Airco</th>\n",
              "      <td>-0.386207</td>\n",
              "      <td>0.429259</td>\n",
              "      <td>-0.403600</td>\n",
              "      <td>0.057088</td>\n",
              "      <td>0.395674</td>\n",
              "      <td>-0.133057</td>\n",
              "      <td>0.241134</td>\n",
              "      <td>0.114190</td>\n",
              "      <td>-0.028353</td>\n",
              "      <td>0.119888</td>\n",
              "      <td>...</td>\n",
              "      <td>0.540588</td>\n",
              "      <td>0.543982</td>\n",
              "      <td>0.096893</td>\n",
              "      <td>-0.030571</td>\n",
              "      <td>0.466751</td>\n",
              "      <td>0.002730</td>\n",
              "      <td>0.105149</td>\n",
              "      <td>0.233166</td>\n",
              "      <td>-0.036524</td>\n",
              "      <td>-0.024362</td>\n",
              "    </tr>\n",
              "    <tr>\n",
              "      <th>Automatic_airco</th>\n",
              "      <td>-0.327468</td>\n",
              "      <td>0.588262</td>\n",
              "      <td>-0.426259</td>\n",
              "      <td>-0.049017</td>\n",
              "      <td>0.437718</td>\n",
              "      <td>-0.258221</td>\n",
              "      <td>0.244957</td>\n",
              "      <td>0.027977</td>\n",
              "      <td>0.059057</td>\n",
              "      <td>0.162669</td>\n",
              "      <td>...</td>\n",
              "      <td>0.195790</td>\n",
              "      <td>0.203687</td>\n",
              "      <td>0.036912</td>\n",
              "      <td>-0.092647</td>\n",
              "      <td>0.312141</td>\n",
              "      <td>0.215287</td>\n",
              "      <td>0.018756</td>\n",
              "      <td>0.100363</td>\n",
              "      <td>-0.092348</td>\n",
              "      <td>-0.117967</td>\n",
              "    </tr>\n",
              "    <tr>\n",
              "      <th>Boardcomputer</th>\n",
              "      <td>-0.695207</td>\n",
              "      <td>0.601292</td>\n",
              "      <td>-0.719449</td>\n",
              "      <td>0.017715</td>\n",
              "      <td>0.720567</td>\n",
              "      <td>-0.353862</td>\n",
              "      <td>0.129715</td>\n",
              "      <td>0.089886</td>\n",
              "      <td>-0.037069</td>\n",
              "      <td>0.009312</td>\n",
              "      <td>...</td>\n",
              "      <td>0.203126</td>\n",
              "      <td>0.213327</td>\n",
              "      <td>0.087207</td>\n",
              "      <td>-0.129094</td>\n",
              "      <td>0.147900</td>\n",
              "      <td>0.036802</td>\n",
              "      <td>0.287615</td>\n",
              "      <td>-0.024999</td>\n",
              "      <td>-0.128073</td>\n",
              "      <td>-0.128001</td>\n",
              "    </tr>\n",
              "    <tr>\n",
              "      <th>CD_Player</th>\n",
              "      <td>-0.464520</td>\n",
              "      <td>0.481374</td>\n",
              "      <td>-0.510895</td>\n",
              "      <td>-0.016736</td>\n",
              "      <td>0.517008</td>\n",
              "      <td>-0.266826</td>\n",
              "      <td>0.102300</td>\n",
              "      <td>0.198220</td>\n",
              "      <td>-0.010967</td>\n",
              "      <td>0.057787</td>\n",
              "      <td>...</td>\n",
              "      <td>0.194076</td>\n",
              "      <td>0.195386</td>\n",
              "      <td>0.068452</td>\n",
              "      <td>-0.185568</td>\n",
              "      <td>0.124589</td>\n",
              "      <td>0.057920</td>\n",
              "      <td>0.148806</td>\n",
              "      <td>0.044730</td>\n",
              "      <td>-0.189668</td>\n",
              "      <td>-0.079911</td>\n",
              "    </tr>\n",
              "    <tr>\n",
              "      <th>Central_Lock</th>\n",
              "      <td>-0.238940</td>\n",
              "      <td>0.343458</td>\n",
              "      <td>-0.279631</td>\n",
              "      <td>0.010055</td>\n",
              "      <td>0.279490</td>\n",
              "      <td>-0.125177</td>\n",
              "      <td>0.250122</td>\n",
              "      <td>0.153307</td>\n",
              "      <td>-0.002502</td>\n",
              "      <td>0.072634</td>\n",
              "      <td>...</td>\n",
              "      <td>1.000000</td>\n",
              "      <td>0.875552</td>\n",
              "      <td>0.129646</td>\n",
              "      <td>-0.011251</td>\n",
              "      <td>0.487426</td>\n",
              "      <td>-0.003128</td>\n",
              "      <td>0.058449</td>\n",
              "      <td>0.281334</td>\n",
              "      <td>-0.016954</td>\n",
              "      <td>-0.007728</td>\n",
              "    </tr>\n",
              "    <tr>\n",
              "      <th>Powered_Windows</th>\n",
              "      <td>-0.236723</td>\n",
              "      <td>0.356518</td>\n",
              "      <td>-0.283856</td>\n",
              "      <td>0.025185</td>\n",
              "      <td>0.280996</td>\n",
              "      <td>-0.156242</td>\n",
              "      <td>0.265593</td>\n",
              "      <td>0.145147</td>\n",
              "      <td>-0.005864</td>\n",
              "      <td>0.055299</td>\n",
              "      <td>...</td>\n",
              "      <td>0.875552</td>\n",
              "      <td>1.000000</td>\n",
              "      <td>0.123458</td>\n",
              "      <td>-0.035811</td>\n",
              "      <td>0.496697</td>\n",
              "      <td>-0.000650</td>\n",
              "      <td>0.078244</td>\n",
              "      <td>0.291419</td>\n",
              "      <td>-0.037626</td>\n",
              "      <td>-0.013252</td>\n",
              "    </tr>\n",
              "    <tr>\n",
              "      <th>Power_Steering</th>\n",
              "      <td>-0.091587</td>\n",
              "      <td>0.064275</td>\n",
              "      <td>-0.069192</td>\n",
              "      <td>-0.055495</td>\n",
              "      <td>0.079676</td>\n",
              "      <td>0.007397</td>\n",
              "      <td>0.048850</td>\n",
              "      <td>0.086544</td>\n",
              "      <td>-0.004469</td>\n",
              "      <td>0.032933</td>\n",
              "      <td>...</td>\n",
              "      <td>0.129646</td>\n",
              "      <td>0.123458</td>\n",
              "      <td>1.000000</td>\n",
              "      <td>0.009075</td>\n",
              "      <td>0.077985</td>\n",
              "      <td>0.098866</td>\n",
              "      <td>0.265169</td>\n",
              "      <td>0.053217</td>\n",
              "      <td>-0.004584</td>\n",
              "      <td>0.030453</td>\n",
              "    </tr>\n",
              "    <tr>\n",
              "      <th>Radio</th>\n",
              "      <td>-0.010971</td>\n",
              "      <td>-0.041887</td>\n",
              "      <td>0.013791</td>\n",
              "      <td>0.031601</td>\n",
              "      <td>-0.019607</td>\n",
              "      <td>0.013661</td>\n",
              "      <td>0.020998</td>\n",
              "      <td>0.072756</td>\n",
              "      <td>-0.014600</td>\n",
              "      <td>-0.000361</td>\n",
              "      <td>...</td>\n",
              "      <td>-0.011251</td>\n",
              "      <td>-0.035811</td>\n",
              "      <td>0.009075</td>\n",
              "      <td>1.000000</td>\n",
              "      <td>-0.126118</td>\n",
              "      <td>-0.137729</td>\n",
              "      <td>-0.209590</td>\n",
              "      <td>-0.034162</td>\n",
              "      <td>0.991621</td>\n",
              "      <td>0.143652</td>\n",
              "    </tr>\n",
              "    <tr>\n",
              "      <th>Mistlamps</th>\n",
              "      <td>-0.139708</td>\n",
              "      <td>0.222083</td>\n",
              "      <td>-0.126895</td>\n",
              "      <td>-0.033504</td>\n",
              "      <td>0.133737</td>\n",
              "      <td>-0.074327</td>\n",
              "      <td>0.210571</td>\n",
              "      <td>0.023821</td>\n",
              "      <td>0.003077</td>\n",
              "      <td>0.017326</td>\n",
              "      <td>...</td>\n",
              "      <td>0.487426</td>\n",
              "      <td>0.496697</td>\n",
              "      <td>0.077985</td>\n",
              "      <td>-0.126118</td>\n",
              "      <td>1.000000</td>\n",
              "      <td>0.004342</td>\n",
              "      <td>0.245463</td>\n",
              "      <td>0.412545</td>\n",
              "      <td>-0.134245</td>\n",
              "      <td>-0.069479</td>\n",
              "    </tr>\n",
              "    <tr>\n",
              "      <th>Sport_Model</th>\n",
              "      <td>-0.028704</td>\n",
              "      <td>0.164121</td>\n",
              "      <td>-0.110988</td>\n",
              "      <td>0.052789</td>\n",
              "      <td>0.102080</td>\n",
              "      <td>-0.044784</td>\n",
              "      <td>-0.006027</td>\n",
              "      <td>0.003779</td>\n",
              "      <td>0.013175</td>\n",
              "      <td>-0.035195</td>\n",
              "      <td>...</td>\n",
              "      <td>-0.003128</td>\n",
              "      <td>-0.000650</td>\n",
              "      <td>0.098866</td>\n",
              "      <td>-0.137729</td>\n",
              "      <td>0.004342</td>\n",
              "      <td>1.000000</td>\n",
              "      <td>0.357713</td>\n",
              "      <td>0.051810</td>\n",
              "      <td>-0.136708</td>\n",
              "      <td>-0.094147</td>\n",
              "    </tr>\n",
              "    <tr>\n",
              "      <th>Backseat_Divider</th>\n",
              "      <td>-0.136398</td>\n",
              "      <td>0.102569</td>\n",
              "      <td>-0.116751</td>\n",
              "      <td>0.023245</td>\n",
              "      <td>0.113237</td>\n",
              "      <td>-0.045658</td>\n",
              "      <td>0.010908</td>\n",
              "      <td>0.037741</td>\n",
              "      <td>-0.018876</td>\n",
              "      <td>-0.055711</td>\n",
              "      <td>...</td>\n",
              "      <td>0.058449</td>\n",
              "      <td>0.078244</td>\n",
              "      <td>0.265169</td>\n",
              "      <td>-0.209590</td>\n",
              "      <td>0.245463</td>\n",
              "      <td>0.357713</td>\n",
              "      <td>1.000000</td>\n",
              "      <td>0.104862</td>\n",
              "      <td>-0.206390</td>\n",
              "      <td>-0.049176</td>\n",
              "    </tr>\n",
              "    <tr>\n",
              "      <th>Metallic_Rim</th>\n",
              "      <td>-0.022232</td>\n",
              "      <td>0.108564</td>\n",
              "      <td>-0.040045</td>\n",
              "      <td>0.023506</td>\n",
              "      <td>0.036022</td>\n",
              "      <td>-0.013599</td>\n",
              "      <td>0.206784</td>\n",
              "      <td>0.053829</td>\n",
              "      <td>-0.078095</td>\n",
              "      <td>0.003236</td>\n",
              "      <td>...</td>\n",
              "      <td>0.281334</td>\n",
              "      <td>0.291419</td>\n",
              "      <td>0.053217</td>\n",
              "      <td>-0.034162</td>\n",
              "      <td>0.412545</td>\n",
              "      <td>0.051810</td>\n",
              "      <td>0.104862</td>\n",
              "      <td>1.000000</td>\n",
              "      <td>-0.033228</td>\n",
              "      <td>-0.037331</td>\n",
              "    </tr>\n",
              "    <tr>\n",
              "      <th>Radio_cassette</th>\n",
              "      <td>-0.011611</td>\n",
              "      <td>-0.043179</td>\n",
              "      <td>0.012857</td>\n",
              "      <td>0.032576</td>\n",
              "      <td>-0.018844</td>\n",
              "      <td>0.015770</td>\n",
              "      <td>0.019919</td>\n",
              "      <td>0.071530</td>\n",
              "      <td>-0.014150</td>\n",
              "      <td>-0.000470</td>\n",
              "      <td>...</td>\n",
              "      <td>-0.016954</td>\n",
              "      <td>-0.037626</td>\n",
              "      <td>-0.004584</td>\n",
              "      <td>0.991621</td>\n",
              "      <td>-0.134245</td>\n",
              "      <td>-0.136708</td>\n",
              "      <td>-0.206390</td>\n",
              "      <td>-0.033228</td>\n",
              "      <td>1.000000</td>\n",
              "      <td>0.140753</td>\n",
              "    </tr>\n",
              "    <tr>\n",
              "      <th>Tow_Bar</th>\n",
              "      <td>0.159171</td>\n",
              "      <td>-0.172369</td>\n",
              "      <td>0.188720</td>\n",
              "      <td>-0.042170</td>\n",
              "      <td>-0.182206</td>\n",
              "      <td>0.084153</td>\n",
              "      <td>0.068271</td>\n",
              "      <td>0.148536</td>\n",
              "      <td>0.018786</td>\n",
              "      <td>0.002725</td>\n",
              "      <td>...</td>\n",
              "      <td>-0.007728</td>\n",
              "      <td>-0.013252</td>\n",
              "      <td>0.030453</td>\n",
              "      <td>0.143652</td>\n",
              "      <td>-0.069479</td>\n",
              "      <td>-0.094147</td>\n",
              "      <td>-0.049176</td>\n",
              "      <td>-0.037331</td>\n",
              "      <td>0.140753</td>\n",
              "      <td>1.000000</td>\n",
              "    </tr>\n",
              "  </tbody>\n",
              "</table>\n",
              "<p>35 rows × 35 columns</p>\n",
              "</div>\n",
              "      <button class=\"colab-df-convert\" onclick=\"convertToInteractive('df-88b68cf5-40a2-4aab-8ab4-a2cb33fdc933')\"\n",
              "              title=\"Convert this dataframe to an interactive table.\"\n",
              "              style=\"display:none;\">\n",
              "        \n",
              "  <svg xmlns=\"http://www.w3.org/2000/svg\" height=\"24px\"viewBox=\"0 0 24 24\"\n",
              "       width=\"24px\">\n",
              "    <path d=\"M0 0h24v24H0V0z\" fill=\"none\"/>\n",
              "    <path d=\"M18.56 5.44l.94 2.06.94-2.06 2.06-.94-2.06-.94-.94-2.06-.94 2.06-2.06.94zm-11 1L8.5 8.5l.94-2.06 2.06-.94-2.06-.94L8.5 2.5l-.94 2.06-2.06.94zm10 10l.94 2.06.94-2.06 2.06-.94-2.06-.94-.94-2.06-.94 2.06-2.06.94z\"/><path d=\"M17.41 7.96l-1.37-1.37c-.4-.4-.92-.59-1.43-.59-.52 0-1.04.2-1.43.59L10.3 9.45l-7.72 7.72c-.78.78-.78 2.05 0 2.83L4 21.41c.39.39.9.59 1.41.59.51 0 1.02-.2 1.41-.59l7.78-7.78 2.81-2.81c.8-.78.8-2.07 0-2.86zM5.41 20L4 18.59l7.72-7.72 1.47 1.35L5.41 20z\"/>\n",
              "  </svg>\n",
              "      </button>\n",
              "      \n",
              "  <style>\n",
              "    .colab-df-container {\n",
              "      display:flex;\n",
              "      flex-wrap:wrap;\n",
              "      gap: 12px;\n",
              "    }\n",
              "\n",
              "    .colab-df-convert {\n",
              "      background-color: #E8F0FE;\n",
              "      border: none;\n",
              "      border-radius: 50%;\n",
              "      cursor: pointer;\n",
              "      display: none;\n",
              "      fill: #1967D2;\n",
              "      height: 32px;\n",
              "      padding: 0 0 0 0;\n",
              "      width: 32px;\n",
              "    }\n",
              "\n",
              "    .colab-df-convert:hover {\n",
              "      background-color: #E2EBFA;\n",
              "      box-shadow: 0px 1px 2px rgba(60, 64, 67, 0.3), 0px 1px 3px 1px rgba(60, 64, 67, 0.15);\n",
              "      fill: #174EA6;\n",
              "    }\n",
              "\n",
              "    [theme=dark] .colab-df-convert {\n",
              "      background-color: #3B4455;\n",
              "      fill: #D2E3FC;\n",
              "    }\n",
              "\n",
              "    [theme=dark] .colab-df-convert:hover {\n",
              "      background-color: #434B5C;\n",
              "      box-shadow: 0px 1px 3px 1px rgba(0, 0, 0, 0.15);\n",
              "      filter: drop-shadow(0px 1px 2px rgba(0, 0, 0, 0.3));\n",
              "      fill: #FFFFFF;\n",
              "    }\n",
              "  </style>\n",
              "\n",
              "      <script>\n",
              "        const buttonEl =\n",
              "          document.querySelector('#df-88b68cf5-40a2-4aab-8ab4-a2cb33fdc933 button.colab-df-convert');\n",
              "        buttonEl.style.display =\n",
              "          google.colab.kernel.accessAllowed ? 'block' : 'none';\n",
              "\n",
              "        async function convertToInteractive(key) {\n",
              "          const element = document.querySelector('#df-88b68cf5-40a2-4aab-8ab4-a2cb33fdc933');\n",
              "          const dataTable =\n",
              "            await google.colab.kernel.invokeFunction('convertToInteractive',\n",
              "                                                     [key], {});\n",
              "          if (!dataTable) return;\n",
              "\n",
              "          const docLinkHtml = 'Like what you see? Visit the ' +\n",
              "            '<a target=\"_blank\" href=https://colab.research.google.com/notebooks/data_table.ipynb>data table notebook</a>'\n",
              "            + ' to learn more about interactive tables.';\n",
              "          element.innerHTML = '';\n",
              "          dataTable['output_type'] = 'display_data';\n",
              "          await google.colab.output.renderOutput(dataTable, element);\n",
              "          const docLink = document.createElement('div');\n",
              "          docLink.innerHTML = docLinkHtml;\n",
              "          element.appendChild(docLink);\n",
              "        }\n",
              "      </script>\n",
              "    </div>\n",
              "  </div>\n",
              "  "
            ]
          },
          "metadata": {},
          "execution_count": 59
        }
      ]
    },
    {
      "cell_type": "code",
      "source": [
        "model_cars=smf.ols(\"Price~Age_08_04+KM+HP+cc+Doors+Gears+Quarterly_Tax+Weight\", data=toyota).fit()"
      ],
      "metadata": {
        "id": "alKJHZoQj-Sg"
      },
      "execution_count": null,
      "outputs": []
    },
    {
      "cell_type": "code",
      "source": [
        "model_cars.params"
      ],
      "metadata": {
        "colab": {
          "base_uri": "https://localhost:8080/"
        },
        "id": "hDI4vqU8lGke",
        "outputId": "30893137-feaf-4809-a945-2550b7e9d5c6"
      },
      "execution_count": null,
      "outputs": [
        {
          "output_type": "execute_result",
          "data": {
            "text/plain": [
              "Intercept       -5573.106358\n",
              "Age_08_04        -121.658402\n",
              "KM                 -0.020817\n",
              "HP                 31.680906\n",
              "cc                 -0.121100\n",
              "Doors              -1.616641\n",
              "Gears             594.319936\n",
              "Quarterly_Tax       3.949081\n",
              "Weight             16.958632\n",
              "dtype: float64"
            ]
          },
          "metadata": {},
          "execution_count": 61
        }
      ]
    },
    {
      "cell_type": "code",
      "source": [
        "model_cars.pvalues"
      ],
      "metadata": {
        "colab": {
          "base_uri": "https://localhost:8080/"
        },
        "id": "hiILpGvplOFe",
        "outputId": "8019f3e8-06f8-4ac3-c5f9-13113b055333"
      },
      "execution_count": null,
      "outputs": [
        {
          "output_type": "execute_result",
          "data": {
            "text/plain": [
              "Intercept         8.241949e-05\n",
              "Age_08_04        3.354724e-288\n",
              "KM                7.538439e-57\n",
              "HP                3.757218e-28\n",
              "cc                1.790902e-01\n",
              "Doors             9.677716e-01\n",
              "Gears             2.606549e-03\n",
              "Quarterly_Tax     2.619148e-03\n",
              "Weight            2.048576e-52\n",
              "dtype: float64"
            ]
          },
          "metadata": {},
          "execution_count": 62
        }
      ]
    },
    {
      "cell_type": "code",
      "source": [
        "model_cars.rsquared"
      ],
      "metadata": {
        "colab": {
          "base_uri": "https://localhost:8080/"
        },
        "id": "xrJ37ARDlTmk",
        "outputId": "035def1b-1e3b-4202-f8b1-c09ec25b2b80"
      },
      "execution_count": null,
      "outputs": [
        {
          "output_type": "execute_result",
          "data": {
            "text/plain": [
              "0.8637627463428191"
            ]
          },
          "metadata": {},
          "execution_count": 63
        }
      ]
    },
    {
      "cell_type": "code",
      "source": [
        "model_cars1=smf.ols(\"Price~Age_08_04+KM+HP+cc+Gears+Quarterly_Tax+Weight\", data=toyota).fit()"
      ],
      "metadata": {
        "id": "mcTgFqM1lV0U"
      },
      "execution_count": null,
      "outputs": []
    },
    {
      "cell_type": "code",
      "source": [
        "model_cars1.rsquared"
      ],
      "metadata": {
        "colab": {
          "base_uri": "https://localhost:8080/"
        },
        "id": "8AJURwpJlmCy",
        "outputId": "b0939122-6cc2-4076-abee-15c857ed39f1"
      },
      "execution_count": null,
      "outputs": [
        {
          "output_type": "execute_result",
          "data": {
            "text/plain": [
              "0.8637625904386813"
            ]
          },
          "metadata": {},
          "execution_count": 65
        }
      ]
    },
    {
      "cell_type": "code",
      "source": [
        "rsq_Age=smf.ols(\"Age_08_04~KM+HP+cc+Gears+Quarterly_Tax+Weight+Doors\",data=toyota).fit().rsquared\n",
        "vif_Age=1/(1-rsq_Age)\n",
        "rsq_KM=smf.ols(\"KM~Age_08_04+HP+cc+Gears+Quarterly_Tax+Weight+Doors\",data=toyota).fit().rsquared\n",
        "vif_KM=1/(1-rsq_KM)\n",
        "rsq_HP=smf.ols(\"HP~Age_08_04+KM+cc+Gears+Quarterly_Tax+Weight+Doors\",data=toyota).fit().rsquared\n",
        "vif_HP=1/(1-rsq_HP)\n",
        "rsq_cc=smf.ols(\"cc~Age_08_04+KM+HP+Gears+Quarterly_Tax+Weight+Doors\",data=toyota).fit().rsquared\n",
        "vif_cc=1/(1-rsq_cc)\n",
        "rsq_Gears=smf.ols(\"Gears~Age_08_04+KM+HP+cc+Quarterly_Tax+Weight+Doors\",data=toyota).fit().rsquared\n",
        "vif_Gears=1/(1-rsq_Gears)\n",
        "rsq_QT=smf.ols(\"Quarterly_Tax~Age_08_04+KM+HP+cc+Gears+Weight+Doors\",data=toyota).fit().rsquared\n",
        "vif_QT=1/(1-rsq_QT)\n",
        "rsq_Weight=smf.ols(\"Weight~Age_08_04+KM+HP+cc+Gears+Quarterly_Tax+Doors\",data=toyota).fit().rsquared\n",
        "vif_Weight=1/(1-rsq_Weight)\n",
        "rsq_Doors=smf.ols(\"Doors~Age_08_04+KM+HP+cc+Gears+Quarterly_Tax+Weight\",data=toyota).fit().rsquared\n",
        "vif_Doors=1/(1-rsq_Doors)\n",
        "d1={'Variables':['Age_08_04','KM','HP','cc','Gears','Quarterly_Tax','Weight', 'Doors'], 'Rsquared':[rsq_Age, rsq_KM, rsq_HP, rsq_cc, rsq_Gears, rsq_QT, rsq_Weight, rsq_Doors], 'VIF':[vif_Age, vif_KM, vif_HP, vif_cc, vif_Gears, vif_QT, vif_Weight, vif_Doors]}\n",
        "vif_cars=pd.DataFrame(d1)\n",
        "vif_cars"
      ],
      "metadata": {
        "colab": {
          "base_uri": "https://localhost:8080/",
          "height": 300
        },
        "id": "0Gi0zYzRlpZX",
        "outputId": "ecfb4cfd-c555-420d-97d7-e3530a4fe4d7"
      },
      "execution_count": null,
      "outputs": [
        {
          "output_type": "execute_result",
          "data": {
            "text/plain": [
              "       Variables  Rsquared       VIF\n",
              "0      Age_08_04  0.469389  1.884620\n",
              "1             KM  0.430817  1.756905\n",
              "2             HP  0.295488  1.419422\n",
              "3             cc  0.140815  1.163894\n",
              "4          Gears  0.089853  1.098723\n",
              "5  Quarterly_Tax  0.567368  2.311431\n",
              "6         Weight  0.602610  2.516420\n",
              "7          Doors  0.135378  1.156575"
            ],
            "text/html": [
              "\n",
              "  <div id=\"df-67cf0e45-0930-4a1a-b2b9-3313fb4d9f24\">\n",
              "    <div class=\"colab-df-container\">\n",
              "      <div>\n",
              "<style scoped>\n",
              "    .dataframe tbody tr th:only-of-type {\n",
              "        vertical-align: middle;\n",
              "    }\n",
              "\n",
              "    .dataframe tbody tr th {\n",
              "        vertical-align: top;\n",
              "    }\n",
              "\n",
              "    .dataframe thead th {\n",
              "        text-align: right;\n",
              "    }\n",
              "</style>\n",
              "<table border=\"1\" class=\"dataframe\">\n",
              "  <thead>\n",
              "    <tr style=\"text-align: right;\">\n",
              "      <th></th>\n",
              "      <th>Variables</th>\n",
              "      <th>Rsquared</th>\n",
              "      <th>VIF</th>\n",
              "    </tr>\n",
              "  </thead>\n",
              "  <tbody>\n",
              "    <tr>\n",
              "      <th>0</th>\n",
              "      <td>Age_08_04</td>\n",
              "      <td>0.469389</td>\n",
              "      <td>1.884620</td>\n",
              "    </tr>\n",
              "    <tr>\n",
              "      <th>1</th>\n",
              "      <td>KM</td>\n",
              "      <td>0.430817</td>\n",
              "      <td>1.756905</td>\n",
              "    </tr>\n",
              "    <tr>\n",
              "      <th>2</th>\n",
              "      <td>HP</td>\n",
              "      <td>0.295488</td>\n",
              "      <td>1.419422</td>\n",
              "    </tr>\n",
              "    <tr>\n",
              "      <th>3</th>\n",
              "      <td>cc</td>\n",
              "      <td>0.140815</td>\n",
              "      <td>1.163894</td>\n",
              "    </tr>\n",
              "    <tr>\n",
              "      <th>4</th>\n",
              "      <td>Gears</td>\n",
              "      <td>0.089853</td>\n",
              "      <td>1.098723</td>\n",
              "    </tr>\n",
              "    <tr>\n",
              "      <th>5</th>\n",
              "      <td>Quarterly_Tax</td>\n",
              "      <td>0.567368</td>\n",
              "      <td>2.311431</td>\n",
              "    </tr>\n",
              "    <tr>\n",
              "      <th>6</th>\n",
              "      <td>Weight</td>\n",
              "      <td>0.602610</td>\n",
              "      <td>2.516420</td>\n",
              "    </tr>\n",
              "    <tr>\n",
              "      <th>7</th>\n",
              "      <td>Doors</td>\n",
              "      <td>0.135378</td>\n",
              "      <td>1.156575</td>\n",
              "    </tr>\n",
              "  </tbody>\n",
              "</table>\n",
              "</div>\n",
              "      <button class=\"colab-df-convert\" onclick=\"convertToInteractive('df-67cf0e45-0930-4a1a-b2b9-3313fb4d9f24')\"\n",
              "              title=\"Convert this dataframe to an interactive table.\"\n",
              "              style=\"display:none;\">\n",
              "        \n",
              "  <svg xmlns=\"http://www.w3.org/2000/svg\" height=\"24px\"viewBox=\"0 0 24 24\"\n",
              "       width=\"24px\">\n",
              "    <path d=\"M0 0h24v24H0V0z\" fill=\"none\"/>\n",
              "    <path d=\"M18.56 5.44l.94 2.06.94-2.06 2.06-.94-2.06-.94-.94-2.06-.94 2.06-2.06.94zm-11 1L8.5 8.5l.94-2.06 2.06-.94-2.06-.94L8.5 2.5l-.94 2.06-2.06.94zm10 10l.94 2.06.94-2.06 2.06-.94-2.06-.94-.94-2.06-.94 2.06-2.06.94z\"/><path d=\"M17.41 7.96l-1.37-1.37c-.4-.4-.92-.59-1.43-.59-.52 0-1.04.2-1.43.59L10.3 9.45l-7.72 7.72c-.78.78-.78 2.05 0 2.83L4 21.41c.39.39.9.59 1.41.59.51 0 1.02-.2 1.41-.59l7.78-7.78 2.81-2.81c.8-.78.8-2.07 0-2.86zM5.41 20L4 18.59l7.72-7.72 1.47 1.35L5.41 20z\"/>\n",
              "  </svg>\n",
              "      </button>\n",
              "      \n",
              "  <style>\n",
              "    .colab-df-container {\n",
              "      display:flex;\n",
              "      flex-wrap:wrap;\n",
              "      gap: 12px;\n",
              "    }\n",
              "\n",
              "    .colab-df-convert {\n",
              "      background-color: #E8F0FE;\n",
              "      border: none;\n",
              "      border-radius: 50%;\n",
              "      cursor: pointer;\n",
              "      display: none;\n",
              "      fill: #1967D2;\n",
              "      height: 32px;\n",
              "      padding: 0 0 0 0;\n",
              "      width: 32px;\n",
              "    }\n",
              "\n",
              "    .colab-df-convert:hover {\n",
              "      background-color: #E2EBFA;\n",
              "      box-shadow: 0px 1px 2px rgba(60, 64, 67, 0.3), 0px 1px 3px 1px rgba(60, 64, 67, 0.15);\n",
              "      fill: #174EA6;\n",
              "    }\n",
              "\n",
              "    [theme=dark] .colab-df-convert {\n",
              "      background-color: #3B4455;\n",
              "      fill: #D2E3FC;\n",
              "    }\n",
              "\n",
              "    [theme=dark] .colab-df-convert:hover {\n",
              "      background-color: #434B5C;\n",
              "      box-shadow: 0px 1px 3px 1px rgba(0, 0, 0, 0.15);\n",
              "      filter: drop-shadow(0px 1px 2px rgba(0, 0, 0, 0.3));\n",
              "      fill: #FFFFFF;\n",
              "    }\n",
              "  </style>\n",
              "\n",
              "      <script>\n",
              "        const buttonEl =\n",
              "          document.querySelector('#df-67cf0e45-0930-4a1a-b2b9-3313fb4d9f24 button.colab-df-convert');\n",
              "        buttonEl.style.display =\n",
              "          google.colab.kernel.accessAllowed ? 'block' : 'none';\n",
              "\n",
              "        async function convertToInteractive(key) {\n",
              "          const element = document.querySelector('#df-67cf0e45-0930-4a1a-b2b9-3313fb4d9f24');\n",
              "          const dataTable =\n",
              "            await google.colab.kernel.invokeFunction('convertToInteractive',\n",
              "                                                     [key], {});\n",
              "          if (!dataTable) return;\n",
              "\n",
              "          const docLinkHtml = 'Like what you see? Visit the ' +\n",
              "            '<a target=\"_blank\" href=https://colab.research.google.com/notebooks/data_table.ipynb>data table notebook</a>'\n",
              "            + ' to learn more about interactive tables.';\n",
              "          element.innerHTML = '';\n",
              "          dataTable['output_type'] = 'display_data';\n",
              "          await google.colab.output.renderOutput(dataTable, element);\n",
              "          const docLink = document.createElement('div');\n",
              "          docLink.innerHTML = docLinkHtml;\n",
              "          element.appendChild(docLink);\n",
              "        }\n",
              "      </script>\n",
              "    </div>\n",
              "  </div>\n",
              "  "
            ]
          },
          "metadata": {},
          "execution_count": 66
        }
      ]
    },
    {
      "cell_type": "code",
      "source": [
        "import statsmodels.api as sm\n",
        "qqplot=sm.qqplot(model_cars.resid,line='q')\n",
        "plt.title(\"Normal Q-Q plot of residuals\")\n",
        "plt.show"
      ],
      "metadata": {
        "colab": {
          "base_uri": "https://localhost:8080/",
          "height": 312
        },
        "id": "HrkTfGfi0HYQ",
        "outputId": "0b055b35-accf-469a-be13-c8ef9c413415"
      },
      "execution_count": null,
      "outputs": [
        {
          "output_type": "execute_result",
          "data": {
            "text/plain": [
              "<function matplotlib.pyplot.show>"
            ]
          },
          "metadata": {},
          "execution_count": 67
        },
        {
          "output_type": "display_data",
          "data": {
            "text/plain": [
              "<Figure size 432x288 with 1 Axes>"
            ],
            "image/png": "[encoded data removed]"
          },
          "metadata": {
            "needs_background": "light"
          }
        }
      ]
    },
    {
      "cell_type": "code",
      "source": [
        "list(np.where(model_cars.resid>10))"
      ],
      "metadata": {
        "colab": {
          "base_uri": "https://localhost:8080/"
        },
        "id": "-615P7i7jUWC",
        "outputId": "9f5339ff-8656-4149-fc0a-6db88da1c09f"
      },
      "execution_count": null,
      "outputs": [
        {
          "output_type": "execute_result",
          "data": {
            "text/plain": [
              "[array([   6,    7,    8,   10,   13,   14,   15,   16,   17,   18,   19,\n",
              "          20,   21,   22,   23,   24,   26,   27,   28,   29,   32,   35,\n",
              "          36,   38,   41,   43,   45,   46,   47,   49,   51,   52,   53,\n",
              "          56,   58,   59,   61,   62,   63,   64,   65,   66,   68,   69,\n",
              "          70,   72,   74,   75,   76,   77,   78,   80,   81,   83,   84,\n",
              "          85,   88,   89,   90,   91,   92,   94,   95,   98,   99,  100,\n",
              "         102,  103,  104,  105,  106,  107,  108,  109,  110,  111,  112,\n",
              "         113,  114,  115,  116,  118,  119,  120,  121,  123,  125,  126,\n",
              "         127,  128,  134,  136,  138,  139,  141,  142,  143,  144,  146,\n",
              "         147,  148,  149,  150,  151,  152,  153,  154,  156,  157,  158,\n",
              "         159,  160,  161,  162,  163,  165,  166,  167,  168,  169,  170,\n",
              "         171,  172,  173,  174,  175,  176,  177,  178,  179,  180,  181,\n",
              "         182,  183,  190,  194,  196,  197,  201,  204,  205,  210,  211,\n",
              "         216,  223,  230,  232,  233,  237,  238,  245,  247,  248,  253,\n",
              "         257,  258,  260,  262,  273,  274,  276,  278,  279,  291,  294,\n",
              "         299,  302,  304,  307,  311,  315,  322,  338,  342,  345,  346,\n",
              "         348,  354,  357,  359,  377,  386,  389,  396,  397,  398,  399,\n",
              "         401,  403,  407,  409,  411,  413,  414,  417,  419,  423,  426,\n",
              "         427,  429,  430,  431,  434,  439,  440,  442,  443,  446,  448,\n",
              "         452,  453,  454,  456,  459,  461,  465,  467,  468,  473,  479,\n",
              "         481,  488,  493,  494,  495,  496,  497,  506,  507,  510,  512,\n",
              "         513,  514,  516,  521,  523,  529,  534,  538,  539,  541,  544,\n",
              "         546,  548,  549,  552,  557,  559,  561,  563,  565,  569,  572,\n",
              "         577,  578,  580,  585,  587,  599,  604,  605,  610,  611,  616,\n",
              "         620,  625,  627,  631,  632,  633,  635,  636,  638,  639,  640,\n",
              "         641,  642,  643,  644,  645,  646,  648,  649,  653,  656,  658,\n",
              "         659,  661,  663,  664,  666,  667,  668,  669,  671,  673,  674,\n",
              "         675,  676,  677,  678,  684,  687,  688,  690,  692,  693,  694,\n",
              "         695,  696,  697,  698,  699,  701,  702,  703,  704,  705,  706,\n",
              "         708,  710,  712,  717,  718,  725,  726,  728,  729,  730,  731,\n",
              "         732,  733,  734,  735,  736,  738,  739,  740,  741,  745,  747,\n",
              "         749,  750,  751,  754,  755,  756,  757,  759,  761,  762,  763,\n",
              "         764,  765,  767,  769,  771,  773,  774,  775,  777,  778,  780,\n",
              "         781,  784,  787,  788,  791,  794,  796,  798,  800,  803,  804,\n",
              "         807,  809,  813,  815,  817,  819,  823,  825,  829,  831,  832,\n",
              "         833,  834,  836,  837,  839,  840,  841,  846,  847,  848,  850,\n",
              "         855,  856,  860,  861,  865,  867,  868,  869,  870,  872,  875,\n",
              "         876,  879,  880,  881,  886,  887,  888,  891,  894,  897,  898,\n",
              "         899,  902,  905,  906,  913,  922,  924,  926,  927,  929,  931,\n",
              "         934,  936,  946,  950,  953,  956,  957,  958,  964,  969,  970,\n",
              "         971,  974,  975,  976,  979,  987,  988,  995,  999, 1007, 1008,\n",
              "        1011, 1016, 1018, 1020, 1022, 1023, 1025, 1028, 1030, 1031, 1033,\n",
              "        1034, 1035, 1040, 1041, 1042, 1043, 1044, 1045, 1046, 1049, 1050,\n",
              "        1051, 1052, 1054, 1057, 1058, 1059, 1060, 1061, 1062, 1063, 1065,\n",
              "        1066, 1067, 1068, 1069, 1070, 1073, 1075, 1077, 1078, 1079, 1081,\n",
              "        1082, 1084, 1085, 1086, 1087, 1088, 1089, 1090, 1091, 1094, 1096,\n",
              "        1098, 1099, 1100, 1103, 1104, 1105, 1106, 1108, 1109, 1110, 1111,\n",
              "        1112, 1117, 1118, 1120, 1121, 1123, 1124, 1125, 1126, 1127, 1128,\n",
              "        1130, 1131, 1133, 1136, 1138, 1139, 1140, 1141, 1142, 1143, 1144,\n",
              "        1147, 1148, 1149, 1150, 1151, 1152, 1153, 1155, 1156, 1157, 1159,\n",
              "        1160, 1161, 1162, 1163, 1164, 1165, 1167, 1168, 1169, 1172, 1173,\n",
              "        1174, 1175, 1176, 1177, 1179, 1180, 1181, 1182, 1183, 1184, 1186,\n",
              "        1188, 1189, 1190, 1191, 1192, 1195, 1196, 1197, 1198, 1199, 1200,\n",
              "        1205, 1209, 1210, 1211, 1214, 1215, 1217, 1218, 1221, 1222, 1223,\n",
              "        1224, 1229, 1230, 1233, 1234, 1236, 1239, 1240, 1241, 1250, 1253,\n",
              "        1254, 1256, 1257, 1258, 1259, 1260, 1261, 1263, 1265, 1268, 1269,\n",
              "        1274, 1277, 1279, 1280, 1283, 1285, 1290, 1291, 1292, 1293, 1295,\n",
              "        1296, 1299, 1303, 1305, 1307, 1308, 1309, 1310, 1311, 1312, 1315,\n",
              "        1316, 1317, 1320, 1322, 1323, 1324, 1325, 1327, 1329, 1332, 1333,\n",
              "        1335, 1336, 1337, 1339, 1340, 1343, 1344, 1346, 1348, 1354, 1356,\n",
              "        1359, 1360, 1364, 1365, 1366, 1367, 1368, 1369, 1370, 1371, 1374,\n",
              "        1375, 1377, 1378, 1380, 1381, 1383, 1384, 1385, 1386, 1391, 1392,\n",
              "        1395, 1396, 1399, 1402, 1404, 1405, 1408, 1410, 1412, 1421, 1423,\n",
              "        1425, 1426, 1427, 1428, 1429, 1430, 1432, 1433])]"
            ]
          },
          "metadata": {},
          "execution_count": 68
        }
      ]
    },
    {
      "cell_type": "code",
      "source": [
        "model_influence_C=model_cars.get_influence()\n",
        "(c_C,_)=model_influence_C.cooks_distance"
      ],
      "metadata": {
        "id": "2T8M8KiC2_MZ"
      },
      "execution_count": null,
      "outputs": []
    },
    {
      "cell_type": "code",
      "source": [
        "fig=plt.subplots(figsize=(20,7))\n",
        "plt.stem(np.arange(len(toyota)),np.round(c_C,3))\n",
        "plt.xlabel('Row index')\n",
        "plt.ylabel('Cooks Distance')"
      ],
      "metadata": {
        "colab": {
          "base_uri": "https://localhost:8080/",
          "height": 514
        },
        "id": "5bIR11tv3Kh4",
        "outputId": "f8a3141a-df8c-4d46-c3b3-93e24626d79f"
      },
      "execution_count": null,
      "outputs": [
        {
          "output_type": "stream",
          "name": "stderr",
          "text": [
            "/usr/local/lib/python3.7/dist-packages/ipykernel_launcher.py:2: UserWarning: In Matplotlib 3.3 individual lines on a stem plot will be added as a LineCollection instead of individual lines. This significantly improves the performance of a stem plot. To remove this warning and switch to the new behaviour, set the \"use_line_collection\" keyword argument to True.\n",
            "  \n"
          ]
        },
        {
          "output_type": "execute_result",
          "data": {
            "text/plain": [
              "Text(0, 0.5, 'Cooks Distance')"
            ]
          },
          "metadata": {},
          "execution_count": 70
        },
        {
          "output_type": "display_data",
          "data": {
            "text/plain": [
              "<Figure size 1440x504 with 1 Axes>"
            ],
            "image/png": "[encoded data removed]"
          },
          "metadata": {
            "needs_background": "light"
          }
        }
      ]
    },
    {
      "cell_type": "code",
      "source": [
        "(np.argmax(c_C),np.max(c_C))"
      ],
      "metadata": {
        "colab": {
          "base_uri": "https://localhost:8080/"
        },
        "id": "x1JBILVx3mzq",
        "outputId": "c391224f-de43-4539-9024-71118f8c3b5a"
      },
      "execution_count": null,
      "outputs": [
        {
          "output_type": "execute_result",
          "data": {
            "text/plain": [
              "(80, 79.52010624141955)"
            ]
          },
          "metadata": {},
          "execution_count": 71
        }
      ]
    },
    {
      "cell_type": "code",
      "source": [
        "from statsmodels.graphics.regressionplots import influence_plot\n",
        "influence_plot(model_cars)\n",
        "plt.show()"
      ],
      "metadata": {
        "colab": {
          "base_uri": "https://localhost:8080/",
          "height": 319
        },
        "id": "3427rA0h5Z9u",
        "outputId": "28bcfd02-f99d-4515-ef2c-3f869d1e9eb2"
      },
      "execution_count": null,
      "outputs": [
        {
          "output_type": "display_data",
          "data": {
            "text/plain": [
              "<Figure size 432x288 with 1 Axes>"
            ],
            "image/png": "[encoded data removed]"
          },
          "metadata": {
            "needs_background": "light"
          }
        }
      ]
    },
    {
      "cell_type": "code",
      "source": [
        "k=toyota.shape[1]\n",
        "n=toyota.shape[0]\n",
        "levarage_cutoff=3*((k+1)/n)"
      ],
      "metadata": {
        "id": "Wu6SK8gx9GVd"
      },
      "execution_count": null,
      "outputs": []
    },
    {
      "cell_type": "code",
      "source": [
        "levarage_cutoff"
      ],
      "metadata": {
        "colab": {
          "base_uri": "https://localhost:8080/"
        },
        "id": "knthgSUL9Nf-",
        "outputId": "7c795939-a4a3-447c-cdae-57ddfb539f36"
      },
      "execution_count": null,
      "outputs": [
        {
          "output_type": "execute_result",
          "data": {
            "text/plain": [
              "0.08147632311977715"
            ]
          },
          "metadata": {},
          "execution_count": 74
        }
      ]
    },
    {
      "cell_type": "code",
      "source": [
        "toyota[toyota.index.isin([80])]"
      ],
      "metadata": {
        "colab": {
          "base_uri": "https://localhost:8080/",
          "height": 243
        },
        "id": "UUWajskX9Tnt",
        "outputId": "f4b111b3-dd12-4666-b962-749feb99ef79"
      },
      "execution_count": null,
      "outputs": [
        {
          "output_type": "execute_result",
          "data": {
            "text/plain": [
              "    Id                                Model  Price  Age_08_04  Mfg_Month  \\\n",
              "80  81  TOYOTA Corolla 1.6 5drs 1 4/5-Doors  18950         25          8   \n",
              "\n",
              "    Mfg_Year     KM Fuel_Type   HP  Met_Color  ... Central_Lock  \\\n",
              "80      2002  20019    Petrol  110          1  ...            1   \n",
              "\n",
              "    Powered_Windows  Power_Steering  Radio  Mistlamps  Sport_Model  \\\n",
              "80                1               1      0          0            0   \n",
              "\n",
              "    Backseat_Divider  Metallic_Rim  Radio_cassette  Tow_Bar  \n",
              "80                 0             0               0        0  \n",
              "\n",
              "[1 rows x 38 columns]"
            ],
            "text/html": [
              "\n",
              "  <div id=\"df-962cb3ee-42af-40be-b658-308ba30a2d90\">\n",
              "    <div class=\"colab-df-container\">\n",
              "      <div>\n",
              "<style scoped>\n",
              "    .dataframe tbody tr th:only-of-type {\n",
              "        vertical-align: middle;\n",
              "    }\n",
              "\n",
              "    .dataframe tbody tr th {\n",
              "        vertical-align: top;\n",
              "    }\n",
              "\n",
              "    .dataframe thead th {\n",
              "        text-align: right;\n",
              "    }\n",
              "</style>\n",
              "<table border=\"1\" class=\"dataframe\">\n",
              "  <thead>\n",
              "    <tr style=\"text-align: right;\">\n",
              "      <th></th>\n",
              "      <th>Id</th>\n",
              "      <th>Model</th>\n",
              "      <th>Price</th>\n",
              "      <th>Age_08_04</th>\n",
              "      <th>Mfg_Month</th>\n",
              "      <th>Mfg_Year</th>\n",
              "      <th>KM</th>\n",
              "      <th>Fuel_Type</th>\n",
              "      <th>HP</th>\n",
              "      <th>Met_Color</th>\n",
              "      <th>...</th>\n",
              "      <th>Central_Lock</th>\n",
              "      <th>Powered_Windows</th>\n",
              "      <th>Power_Steering</th>\n",
              "      <th>Radio</th>\n",
              "      <th>Mistlamps</th>\n",
              "      <th>Sport_Model</th>\n",
              "      <th>Backseat_Divider</th>\n",
              "      <th>Metallic_Rim</th>\n",
              "      <th>Radio_cassette</th>\n",
              "      <th>Tow_Bar</th>\n",
              "    </tr>\n",
              "  </thead>\n",
              "  <tbody>\n",
              "    <tr>\n",
              "      <th>80</th>\n",
              "      <td>81</td>\n",
              "      <td>TOYOTA Corolla 1.6 5drs 1 4/5-Doors</td>\n",
              "      <td>18950</td>\n",
              "      <td>25</td>\n",
              "      <td>8</td>\n",
              "      <td>2002</td>\n",
              "      <td>20019</td>\n",
              "      <td>Petrol</td>\n",
              "      <td>110</td>\n",
              "      <td>1</td>\n",
              "      <td>...</td>\n",
              "      <td>1</td>\n",
              "      <td>1</td>\n",
              "      <td>1</td>\n",
              "      <td>0</td>\n",
              "      <td>0</td>\n",
              "      <td>0</td>\n",
              "      <td>0</td>\n",
              "      <td>0</td>\n",
              "      <td>0</td>\n",
              "      <td>0</td>\n",
              "    </tr>\n",
              "  </tbody>\n",
              "</table>\n",
              "<p>1 rows × 38 columns</p>\n",
              "</div>\n",
              "      <button class=\"colab-df-convert\" onclick=\"convertToInteractive('df-962cb3ee-42af-40be-b658-308ba30a2d90')\"\n",
              "              title=\"Convert this dataframe to an interactive table.\"\n",
              "              style=\"display:none;\">\n",
              "        \n",
              "  <svg xmlns=\"http://www.w3.org/2000/svg\" height=\"24px\"viewBox=\"0 0 24 24\"\n",
              "       width=\"24px\">\n",
              "    <path d=\"M0 0h24v24H0V0z\" fill=\"none\"/>\n",
              "    <path d=\"M18.56 5.44l.94 2.06.94-2.06 2.06-.94-2.06-.94-.94-2.06-.94 2.06-2.06.94zm-11 1L8.5 8.5l.94-2.06 2.06-.94-2.06-.94L8.5 2.5l-.94 2.06-2.06.94zm10 10l.94 2.06.94-2.06 2.06-.94-2.06-.94-.94-2.06-.94 2.06-2.06.94z\"/><path d=\"M17.41 7.96l-1.37-1.37c-.4-.4-.92-.59-1.43-.59-.52 0-1.04.2-1.43.59L10.3 9.45l-7.72 7.72c-.78.78-.78 2.05 0 2.83L4 21.41c.39.39.9.59 1.41.59.51 0 1.02-.2 1.41-.59l7.78-7.78 2.81-2.81c.8-.78.8-2.07 0-2.86zM5.41 20L4 18.59l7.72-7.72 1.47 1.35L5.41 20z\"/>\n",
              "  </svg>\n",
              "      </button>\n",
              "      \n",
              "  <style>\n",
              "    .colab-df-container {\n",
              "      display:flex;\n",
              "      flex-wrap:wrap;\n",
              "      gap: 12px;\n",
              "    }\n",
              "\n",
              "    .colab-df-convert {\n",
              "      background-color: #E8F0FE;\n",
              "      border: none;\n",
              "      border-radius: 50%;\n",
              "      cursor: pointer;\n",
              "      display: none;\n",
              "      fill: #1967D2;\n",
              "      height: 32px;\n",
              "      padding: 0 0 0 0;\n",
              "      width: 32px;\n",
              "    }\n",
              "\n",
              "    .colab-df-convert:hover {\n",
              "      background-color: #E2EBFA;\n",
              "      box-shadow: 0px 1px 2px rgba(60, 64, 67, 0.3), 0px 1px 3px 1px rgba(60, 64, 67, 0.15);\n",
              "      fill: #174EA6;\n",
              "    }\n",
              "\n",
              "    [theme=dark] .colab-df-convert {\n",
              "      background-color: #3B4455;\n",
              "      fill: #D2E3FC;\n",
              "    }\n",
              "\n",
              "    [theme=dark] .colab-df-convert:hover {\n",
              "      background-color: #434B5C;\n",
              "      box-shadow: 0px 1px 3px 1px rgba(0, 0, 0, 0.15);\n",
              "      filter: drop-shadow(0px 1px 2px rgba(0, 0, 0, 0.3));\n",
              "      fill: #FFFFFF;\n",
              "    }\n",
              "  </style>\n",
              "\n",
              "      <script>\n",
              "        const buttonEl =\n",
              "          document.querySelector('#df-962cb3ee-42af-40be-b658-308ba30a2d90 button.colab-df-convert');\n",
              "        buttonEl.style.display =\n",
              "          google.colab.kernel.accessAllowed ? 'block' : 'none';\n",
              "\n",
              "        async function convertToInteractive(key) {\n",
              "          const element = document.querySelector('#df-962cb3ee-42af-40be-b658-308ba30a2d90');\n",
              "          const dataTable =\n",
              "            await google.colab.kernel.invokeFunction('convertToInteractive',\n",
              "                                                     [key], {});\n",
              "          if (!dataTable) return;\n",
              "\n",
              "          const docLinkHtml = 'Like what you see? Visit the ' +\n",
              "            '<a target=\"_blank\" href=https://colab.research.google.com/notebooks/data_table.ipynb>data table notebook</a>'\n",
              "            + ' to learn more about interactive tables.';\n",
              "          element.innerHTML = '';\n",
              "          dataTable['output_type'] = 'display_data';\n",
              "          await google.colab.output.renderOutput(dataTable, element);\n",
              "          const docLink = document.createElement('div');\n",
              "          docLink.innerHTML = docLinkHtml;\n",
              "          element.appendChild(docLink);\n",
              "        }\n",
              "      </script>\n",
              "    </div>\n",
              "  </div>\n",
              "  "
            ]
          },
          "metadata": {},
          "execution_count": 75
        }
      ]
    },
    {
      "cell_type": "code",
      "source": [
        "toyota.head()"
      ],
      "metadata": {
        "colab": {
          "base_uri": "https://localhost:8080/",
          "height": 803
        },
        "id": "A3LiW8pD9vhk",
        "outputId": "8f84022f-6ea5-45cb-f0e5-8a736c0fc660"
      },
      "execution_count": null,
      "outputs": [
        {
          "output_type": "execute_result",
          "data": {
            "text/plain": [
              "   Id                                           Model  Price  Age_08_04  \\\n",
              "0   1   TOYOTA Corolla 2.0 D4D HATCHB TERRA 2/3-Doors  13500         23   \n",
              "1   2   TOYOTA Corolla 2.0 D4D HATCHB TERRA 2/3-Doors  13750         23   \n",
              "2   3   TOYOTA Corolla 2.0 D4D HATCHB TERRA 2/3-Doors  13950         24   \n",
              "3   4   TOYOTA Corolla 2.0 D4D HATCHB TERRA 2/3-Doors  14950         26   \n",
              "4   5     TOYOTA Corolla 2.0 D4D HATCHB SOL 2/3-Doors  13750         30   \n",
              "\n",
              "   Mfg_Month  Mfg_Year     KM Fuel_Type  HP  Met_Color  ... Central_Lock  \\\n",
              "0         10      2002  46986    Diesel  90          1  ...            1   \n",
              "1         10      2002  72937    Diesel  90          1  ...            1   \n",
              "2          9      2002  41711    Diesel  90          1  ...            0   \n",
              "3          7      2002  48000    Diesel  90          0  ...            0   \n",
              "4          3      2002  38500    Diesel  90          0  ...            1   \n",
              "\n",
              "   Powered_Windows  Power_Steering  Radio  Mistlamps  Sport_Model  \\\n",
              "0                1               1      0          0            0   \n",
              "1                0               1      0          0            0   \n",
              "2                0               1      0          0            0   \n",
              "3                0               1      0          0            0   \n",
              "4                1               1      0          1            0   \n",
              "\n",
              "   Backseat_Divider  Metallic_Rim  Radio_cassette  Tow_Bar  \n",
              "0                 1             0               0        0  \n",
              "1                 1             0               0        0  \n",
              "2                 1             0               0        0  \n",
              "3                 1             0               0        0  \n",
              "4                 1             0               0        0  \n",
              "\n",
              "[5 rows x 38 columns]"
            ],
            "text/html": [
              "\n",
              "  <div id=\"df-59d46ddd-9b10-47c7-864f-2be93a068be3\">\n",
              "    <div class=\"colab-df-container\">\n",
              "      <div>\n",
              "<style scoped>\n",
              "    .dataframe tbody tr th:only-of-type {\n",
              "        vertical-align: middle;\n",
              "    }\n",
              "\n",
              "    .dataframe tbody tr th {\n",
              "        vertical-align: top;\n",
              "    }\n",
              "\n",
              "    .dataframe thead th {\n",
              "        text-align: right;\n",
              "    }\n",
              "</style>\n",
              "<table border=\"1\" class=\"dataframe\">\n",
              "  <thead>\n",
              "    <tr style=\"text-align: right;\">\n",
              "      <th></th>\n",
              "      <th>Id</th>\n",
              "      <th>Model</th>\n",
              "      <th>Price</th>\n",
              "      <th>Age_08_04</th>\n",
              "      <th>Mfg_Month</th>\n",
              "      <th>Mfg_Year</th>\n",
              "      <th>KM</th>\n",
              "      <th>Fuel_Type</th>\n",
              "      <th>HP</th>\n",
              "      <th>Met_Color</th>\n",
              "      <th>...</th>\n",
              "      <th>Central_Lock</th>\n",
              "      <th>Powered_Windows</th>\n",
              "      <th>Power_Steering</th>\n",
              "      <th>Radio</th>\n",
              "      <th>Mistlamps</th>\n",
              "      <th>Sport_Model</th>\n",
              "      <th>Backseat_Divider</th>\n",
              "      <th>Metallic_Rim</th>\n",
              "      <th>Radio_cassette</th>\n",
              "      <th>Tow_Bar</th>\n",
              "    </tr>\n",
              "  </thead>\n",
              "  <tbody>\n",
              "    <tr>\n",
              "      <th>0</th>\n",
              "      <td>1</td>\n",
              "      <td>TOYOTA Corolla 2.0 D4D HATCHB TERRA 2/3-Doors</td>\n",
              "      <td>13500</td>\n",
              "      <td>23</td>\n",
              "      <td>10</td>\n",
              "      <td>2002</td>\n",
              "      <td>46986</td>\n",
              "      <td>Diesel</td>\n",
              "      <td>90</td>\n",
              "      <td>1</td>\n",
              "      <td>...</td>\n",
              "      <td>1</td>\n",
              "      <td>1</td>\n",
              "      <td>1</td>\n",
              "      <td>0</td>\n",
              "      <td>0</td>\n",
              "      <td>0</td>\n",
              "      <td>1</td>\n",
              "      <td>0</td>\n",
              "      <td>0</td>\n",
              "      <td>0</td>\n",
              "    </tr>\n",
              "    <tr>\n",
              "      <th>1</th>\n",
              "      <td>2</td>\n",
              "      <td>TOYOTA Corolla 2.0 D4D HATCHB TERRA 2/3-Doors</td>\n",
              "      <td>13750</td>\n",
              "      <td>23</td>\n",
              "      <td>10</td>\n",
              "      <td>2002</td>\n",
              "      <td>72937</td>\n",
              "      <td>Diesel</td>\n",
              "      <td>90</td>\n",
              "      <td>1</td>\n",
              "      <td>...</td>\n",
              "      <td>1</td>\n",
              "      <td>0</td>\n",
              "      <td>1</td>\n",
              "      <td>0</td>\n",
              "      <td>0</td>\n",
              "      <td>0</td>\n",
              "      <td>1</td>\n",
              "      <td>0</td>\n",
              "      <td>0</td>\n",
              "      <td>0</td>\n",
              "    </tr>\n",
              "    <tr>\n",
              "      <th>2</th>\n",
              "      <td>3</td>\n",
              "      <td>TOYOTA Corolla 2.0 D4D HATCHB TERRA 2/3-Doors</td>\n",
              "      <td>13950</td>\n",
              "      <td>24</td>\n",
              "      <td>9</td>\n",
              "      <td>2002</td>\n",
              "      <td>41711</td>\n",
              "      <td>Diesel</td>\n",
              "      <td>90</td>\n",
              "      <td>1</td>\n",
              "      <td>...</td>\n",
              "      <td>0</td>\n",
              "      <td>0</td>\n",
              "      <td>1</td>\n",
              "      <td>0</td>\n",
              "      <td>0</td>\n",
              "      <td>0</td>\n",
              "      <td>1</td>\n",
              "      <td>0</td>\n",
              "      <td>0</td>\n",
              "      <td>0</td>\n",
              "    </tr>\n",
              "    <tr>\n",
              "      <th>3</th>\n",
              "      <td>4</td>\n",
              "      <td>TOYOTA Corolla 2.0 D4D HATCHB TERRA 2/3-Doors</td>\n",
              "      <td>14950</td>\n",
              "      <td>26</td>\n",
              "      <td>7</td>\n",
              "      <td>2002</td>\n",
              "      <td>48000</td>\n",
              "      <td>Diesel</td>\n",
              "      <td>90</td>\n",
              "      <td>0</td>\n",
              "      <td>...</td>\n",
              "      <td>0</td>\n",
              "      <td>0</td>\n",
              "      <td>1</td>\n",
              "      <td>0</td>\n",
              "      <td>0</td>\n",
              "      <td>0</td>\n",
              "      <td>1</td>\n",
              "      <td>0</td>\n",
              "      <td>0</td>\n",
              "      <td>0</td>\n",
              "    </tr>\n",
              "    <tr>\n",
              "      <th>4</th>\n",
              "      <td>5</td>\n",
              "      <td>TOYOTA Corolla 2.0 D4D HATCHB SOL 2/3-Doors</td>\n",
              "      <td>13750</td>\n",
              "      <td>30</td>\n",
              "      <td>3</td>\n",
              "      <td>2002</td>\n",
              "      <td>38500</td>\n",
              "      <td>Diesel</td>\n",
              "      <td>90</td>\n",
              "      <td>0</td>\n",
              "      <td>...</td>\n",
              "      <td>1</td>\n",
              "      <td>1</td>\n",
              "      <td>1</td>\n",
              "      <td>0</td>\n",
              "      <td>1</td>\n",
              "      <td>0</td>\n",
              "      <td>1</td>\n",
              "      <td>0</td>\n",
              "      <td>0</td>\n",
              "      <td>0</td>\n",
              "    </tr>\n",
              "  </tbody>\n",
              "</table>\n",
              "<p>5 rows × 38 columns</p>\n",
              "</div>\n",
              "      <button class=\"colab-df-convert\" onclick=\"convertToInteractive('df-59d46ddd-9b10-47c7-864f-2be93a068be3')\"\n",
              "              title=\"Convert this dataframe to an interactive table.\"\n",
              "              style=\"display:none;\">\n",
              "        \n",
              "  <svg xmlns=\"http://www.w3.org/2000/svg\" height=\"24px\"viewBox=\"0 0 24 24\"\n",
              "       width=\"24px\">\n",
              "    <path d=\"M0 0h24v24H0V0z\" fill=\"none\"/>\n",
              "    <path d=\"M18.56 5.44l.94 2.06.94-2.06 2.06-.94-2.06-.94-.94-2.06-.94 2.06-2.06.94zm-11 1L8.5 8.5l.94-2.06 2.06-.94-2.06-.94L8.5 2.5l-.94 2.06-2.06.94zm10 10l.94 2.06.94-2.06 2.06-.94-2.06-.94-.94-2.06-.94 2.06-2.06.94z\"/><path d=\"M17.41 7.96l-1.37-1.37c-.4-.4-.92-.59-1.43-.59-.52 0-1.04.2-1.43.59L10.3 9.45l-7.72 7.72c-.78.78-.78 2.05 0 2.83L4 21.41c.39.39.9.59 1.41.59.51 0 1.02-.2 1.41-.59l7.78-7.78 2.81-2.81c.8-.78.8-2.07 0-2.86zM5.41 20L4 18.59l7.72-7.72 1.47 1.35L5.41 20z\"/>\n",
              "  </svg>\n",
              "      </button>\n",
              "      \n",
              "  <style>\n",
              "    .colab-df-container {\n",
              "      display:flex;\n",
              "      flex-wrap:wrap;\n",
              "      gap: 12px;\n",
              "    }\n",
              "\n",
              "    .colab-df-convert {\n",
              "      background-color: #E8F0FE;\n",
              "      border: none;\n",
              "      border-radius: 50%;\n",
              "      cursor: pointer;\n",
              "      display: none;\n",
              "      fill: #1967D2;\n",
              "      height: 32px;\n",
              "      padding: 0 0 0 0;\n",
              "      width: 32px;\n",
              "    }\n",
              "\n",
              "    .colab-df-convert:hover {\n",
              "      background-color: #E2EBFA;\n",
              "      box-shadow: 0px 1px 2px rgba(60, 64, 67, 0.3), 0px 1px 3px 1px rgba(60, 64, 67, 0.15);\n",
              "      fill: #174EA6;\n",
              "    }\n",
              "\n",
              "    [theme=dark] .colab-df-convert {\n",
              "      background-color: #3B4455;\n",
              "      fill: #D2E3FC;\n",
              "    }\n",
              "\n",
              "    [theme=dark] .colab-df-convert:hover {\n",
              "      background-color: #434B5C;\n",
              "      box-shadow: 0px 1px 3px 1px rgba(0, 0, 0, 0.15);\n",
              "      filter: drop-shadow(0px 1px 2px rgba(0, 0, 0, 0.3));\n",
              "      fill: #FFFFFF;\n",
              "    }\n",
              "  </style>\n",
              "\n",
              "      <script>\n",
              "        const buttonEl =\n",
              "          document.querySelector('#df-59d46ddd-9b10-47c7-864f-2be93a068be3 button.colab-df-convert');\n",
              "        buttonEl.style.display =\n",
              "          google.colab.kernel.accessAllowed ? 'block' : 'none';\n",
              "\n",
              "        async function convertToInteractive(key) {\n",
              "          const element = document.querySelector('#df-59d46ddd-9b10-47c7-864f-2be93a068be3');\n",
              "          const dataTable =\n",
              "            await google.colab.kernel.invokeFunction('convertToInteractive',\n",
              "                                                     [key], {});\n",
              "          if (!dataTable) return;\n",
              "\n",
              "          const docLinkHtml = 'Like what you see? Visit the ' +\n",
              "            '<a target=\"_blank\" href=https://colab.research.google.com/notebooks/data_table.ipynb>data table notebook</a>'\n",
              "            + ' to learn more about interactive tables.';\n",
              "          element.innerHTML = '';\n",
              "          dataTable['output_type'] = 'display_data';\n",
              "          await google.colab.output.renderOutput(dataTable, element);\n",
              "          const docLink = document.createElement('div');\n",
              "          docLink.innerHTML = docLinkHtml;\n",
              "          element.appendChild(docLink);\n",
              "        }\n",
              "      </script>\n",
              "    </div>\n",
              "  </div>\n",
              "  "
            ]
          },
          "metadata": {},
          "execution_count": 76
        }
      ]
    },
    {
      "cell_type": "code",
      "source": [
        "toyotan=pd.read_csv(\"/content/ToyotaCorolla.csv\", encoding='latin1')"
      ],
      "metadata": {
        "id": "_jxodyGg_dYD"
      },
      "execution_count": null,
      "outputs": []
    },
    {
      "cell_type": "code",
      "source": [
        "toyotan.shape"
      ],
      "metadata": {
        "colab": {
          "base_uri": "https://localhost:8080/"
        },
        "id": "LijEOybv_xzR",
        "outputId": "fc4fd81c-b447-4547-bf6a-6b6237518356"
      },
      "execution_count": null,
      "outputs": [
        {
          "output_type": "execute_result",
          "data": {
            "text/plain": [
              "(1436, 38)"
            ]
          },
          "metadata": {},
          "execution_count": 78
        }
      ]
    },
    {
      "cell_type": "code",
      "source": [
        "toyotan"
      ],
      "metadata": {
        "colab": {
          "base_uri": "https://localhost:8080/",
          "height": 1000
        },
        "id": "Kt41vgTCILCq",
        "outputId": "9c602820-1ec3-43db-d385-2b78c1eacd26"
      },
      "execution_count": null,
      "outputs": [
        {
          "output_type": "execute_result",
          "data": {
            "text/plain": [
              "        Id                                              Model  Price  \\\n",
              "0        1      TOYOTA Corolla 2.0 D4D HATCHB TERRA 2/3-Doors  13500   \n",
              "1        2      TOYOTA Corolla 2.0 D4D HATCHB TERRA 2/3-Doors  13750   \n",
              "2        3      TOYOTA Corolla 2.0 D4D HATCHB TERRA 2/3-Doors  13950   \n",
              "3        4      TOYOTA Corolla 2.0 D4D HATCHB TERRA 2/3-Doors  14950   \n",
              "4        5        TOYOTA Corolla 2.0 D4D HATCHB SOL 2/3-Doors  13750   \n",
              "...    ...                                                ...    ...   \n",
              "1431  1438         TOYOTA Corolla 1.3 16V HATCHB G6 2/3-Doors   7500   \n",
              "1432  1439  TOYOTA Corolla 1.3 16V HATCHB LINEA TERRA 2/3-...  10845   \n",
              "1433  1440  TOYOTA Corolla 1.3 16V HATCHB LINEA TERRA 2/3-...   8500   \n",
              "1434  1441  TOYOTA Corolla 1.3 16V HATCHB LINEA TERRA 2/3-...   7250   \n",
              "1435  1442        TOYOTA Corolla 1.6 LB LINEA TERRA 4/5-Doors   6950   \n",
              "\n",
              "      Age_08_04  Mfg_Month  Mfg_Year     KM Fuel_Type   HP  Met_Color  ...  \\\n",
              "0            23         10      2002  46986    Diesel   90          1  ...   \n",
              "1            23         10      2002  72937    Diesel   90          1  ...   \n",
              "2            24          9      2002  41711    Diesel   90          1  ...   \n",
              "3            26          7      2002  48000    Diesel   90          0  ...   \n",
              "4            30          3      2002  38500    Diesel   90          0  ...   \n",
              "...         ...        ...       ...    ...       ...  ...        ...  ...   \n",
              "1431         69         12      1998  20544    Petrol   86          1  ...   \n",
              "1432         72          9      1998  19000    Petrol   86          0  ...   \n",
              "1433         71         10      1998  17016    Petrol   86          0  ...   \n",
              "1434         70         11      1998  16916    Petrol   86          1  ...   \n",
              "1435         76          5      1998      1    Petrol  110          0  ...   \n",
              "\n",
              "     Central_Lock  Powered_Windows  Power_Steering  Radio  Mistlamps  \\\n",
              "0               1                1               1      0          0   \n",
              "1               1                0               1      0          0   \n",
              "2               0                0               1      0          0   \n",
              "3               0                0               1      0          0   \n",
              "4               1                1               1      0          1   \n",
              "...           ...              ...             ...    ...        ...   \n",
              "1431            1                1               1      0          1   \n",
              "1432            0                0               1      0          0   \n",
              "1433            0                0               1      0          0   \n",
              "1434            0                0               0      0          0   \n",
              "1435            0                0               1      0          0   \n",
              "\n",
              "      Sport_Model  Backseat_Divider  Metallic_Rim  Radio_cassette  Tow_Bar  \n",
              "0               0                 1             0               0        0  \n",
              "1               0                 1             0               0        0  \n",
              "2               0                 1             0               0        0  \n",
              "3               0                 1             0               0        0  \n",
              "4               0                 1             0               0        0  \n",
              "...           ...               ...           ...             ...      ...  \n",
              "1431            1                 1             0               0        0  \n",
              "1432            1                 1             0               0        0  \n",
              "1433            0                 1             0               0        0  \n",
              "1434            0                 1             0               0        0  \n",
              "1435            0                 0             0               0        0  \n",
              "\n",
              "[1436 rows x 38 columns]"
            ],
            "text/html": [
              "\n",
              "  <div id=\"df-59cdd964-026a-4c6f-baac-98a25780d2ef\">\n",
              "    <div class=\"colab-df-container\">\n",
              "      <div>\n",
              "<style scoped>\n",
              "    .dataframe tbody tr th:only-of-type {\n",
              "        vertical-align: middle;\n",
              "    }\n",
              "\n",
              "    .dataframe tbody tr th {\n",
              "        vertical-align: top;\n",
              "    }\n",
              "\n",
              "    .dataframe thead th {\n",
              "        text-align: right;\n",
              "    }\n",
              "</style>\n",
              "<table border=\"1\" class=\"dataframe\">\n",
              "  <thead>\n",
              "    <tr style=\"text-align: right;\">\n",
              "      <th></th>\n",
              "      <th>Id</th>\n",
              "      <th>Model</th>\n",
              "      <th>Price</th>\n",
              "      <th>Age_08_04</th>\n",
              "      <th>Mfg_Month</th>\n",
              "      <th>Mfg_Year</th>\n",
              "      <th>KM</th>\n",
              "      <th>Fuel_Type</th>\n",
              "      <th>HP</th>\n",
              "      <th>Met_Color</th>\n",
              "      <th>...</th>\n",
              "      <th>Central_Lock</th>\n",
              "      <th>Powered_Windows</th>\n",
              "      <th>Power_Steering</th>\n",
              "      <th>Radio</th>\n",
              "      <th>Mistlamps</th>\n",
              "      <th>Sport_Model</th>\n",
              "      <th>Backseat_Divider</th>\n",
              "      <th>Metallic_Rim</th>\n",
              "      <th>Radio_cassette</th>\n",
              "      <th>Tow_Bar</th>\n",
              "    </tr>\n",
              "  </thead>\n",
              "  <tbody>\n",
              "    <tr>\n",
              "      <th>0</th>\n",
              "      <td>1</td>\n",
              "      <td>TOYOTA Corolla 2.0 D4D HATCHB TERRA 2/3-Doors</td>\n",
              "      <td>13500</td>\n",
              "      <td>23</td>\n",
              "      <td>10</td>\n",
              "      <td>2002</td>\n",
              "      <td>46986</td>\n",
              "      <td>Diesel</td>\n",
              "      <td>90</td>\n",
              "      <td>1</td>\n",
              "      <td>...</td>\n",
              "      <td>1</td>\n",
              "      <td>1</td>\n",
              "      <td>1</td>\n",
              "      <td>0</td>\n",
              "      <td>0</td>\n",
              "      <td>0</td>\n",
              "      <td>1</td>\n",
              "      <td>0</td>\n",
              "      <td>0</td>\n",
              "      <td>0</td>\n",
              "    </tr>\n",
              "    <tr>\n",
              "      <th>1</th>\n",
              "      <td>2</td>\n",
              "      <td>TOYOTA Corolla 2.0 D4D HATCHB TERRA 2/3-Doors</td>\n",
              "      <td>13750</td>\n",
              "      <td>23</td>\n",
              "      <td>10</td>\n",
              "      <td>2002</td>\n",
              "      <td>72937</td>\n",
              "      <td>Diesel</td>\n",
              "      <td>90</td>\n",
              "      <td>1</td>\n",
              "      <td>...</td>\n",
              "      <td>1</td>\n",
              "      <td>0</td>\n",
              "      <td>1</td>\n",
              "      <td>0</td>\n",
              "      <td>0</td>\n",
              "      <td>0</td>\n",
              "      <td>1</td>\n",
              "      <td>0</td>\n",
              "      <td>0</td>\n",
              "      <td>0</td>\n",
              "    </tr>\n",
              "    <tr>\n",
              "      <th>2</th>\n",
              "      <td>3</td>\n",
              "      <td>TOYOTA Corolla 2.0 D4D HATCHB TERRA 2/3-Doors</td>\n",
              "      <td>13950</td>\n",
              "      <td>24</td>\n",
              "      <td>9</td>\n",
              "      <td>2002</td>\n",
              "      <td>41711</td>\n",
              "      <td>Diesel</td>\n",
              "      <td>90</td>\n",
              "      <td>1</td>\n",
              "      <td>...</td>\n",
              "      <td>0</td>\n",
              "      <td>0</td>\n",
              "      <td>1</td>\n",
              "      <td>0</td>\n",
              "      <td>0</td>\n",
              "      <td>0</td>\n",
              "      <td>1</td>\n",
              "      <td>0</td>\n",
              "      <td>0</td>\n",
              "      <td>0</td>\n",
              "    </tr>\n",
              "    <tr>\n",
              "      <th>3</th>\n",
              "      <td>4</td>\n",
              "      <td>TOYOTA Corolla 2.0 D4D HATCHB TERRA 2/3-Doors</td>\n",
              "      <td>14950</td>\n",
              "      <td>26</td>\n",
              "      <td>7</td>\n",
              "      <td>2002</td>\n",
              "      <td>48000</td>\n",
              "      <td>Diesel</td>\n",
              "      <td>90</td>\n",
              "      <td>0</td>\n",
              "      <td>...</td>\n",
              "      <td>0</td>\n",
              "      <td>0</td>\n",
              "      <td>1</td>\n",
              "      <td>0</td>\n",
              "      <td>0</td>\n",
              "      <td>0</td>\n",
              "      <td>1</td>\n",
              "      <td>0</td>\n",
              "      <td>0</td>\n",
              "      <td>0</td>\n",
              "    </tr>\n",
              "    <tr>\n",
              "      <th>4</th>\n",
              "      <td>5</td>\n",
              "      <td>TOYOTA Corolla 2.0 D4D HATCHB SOL 2/3-Doors</td>\n",
              "      <td>13750</td>\n",
              "      <td>30</td>\n",
              "      <td>3</td>\n",
              "      <td>2002</td>\n",
              "      <td>38500</td>\n",
              "      <td>Diesel</td>\n",
              "      <td>90</td>\n",
              "      <td>0</td>\n",
              "      <td>...</td>\n",
              "      <td>1</td>\n",
              "      <td>1</td>\n",
              "      <td>1</td>\n",
              "      <td>0</td>\n",
              "      <td>1</td>\n",
              "      <td>0</td>\n",
              "      <td>1</td>\n",
              "      <td>0</td>\n",
              "      <td>0</td>\n",
              "      <td>0</td>\n",
              "    </tr>\n",
              "    <tr>\n",
              "      <th>...</th>\n",
              "      <td>...</td>\n",
              "      <td>...</td>\n",
              "      <td>...</td>\n",
              "      <td>...</td>\n",
              "      <td>...</td>\n",
              "      <td>...</td>\n",
              "      <td>...</td>\n",
              "      <td>...</td>\n",
              "      <td>...</td>\n",
              "      <td>...</td>\n",
              "      <td>...</td>\n",
              "      <td>...</td>\n",
              "      <td>...</td>\n",
              "      <td>...</td>\n",
              "      <td>...</td>\n",
              "      <td>...</td>\n",
              "      <td>...</td>\n",
              "      <td>...</td>\n",
              "      <td>...</td>\n",
              "      <td>...</td>\n",
              "      <td>...</td>\n",
              "    </tr>\n",
              "    <tr>\n",
              "      <th>1431</th>\n",
              "      <td>1438</td>\n",
              "      <td>TOYOTA Corolla 1.3 16V HATCHB G6 2/3-Doors</td>\n",
              "      <td>7500</td>\n",
              "      <td>69</td>\n",
              "      <td>12</td>\n",
              "      <td>1998</td>\n",
              "      <td>20544</td>\n",
              "      <td>Petrol</td>\n",
              "      <td>86</td>\n",
              "      <td>1</td>\n",
              "      <td>...</td>\n",
              "      <td>1</td>\n",
              "      <td>1</td>\n",
              "      <td>1</td>\n",
              "      <td>0</td>\n",
              "      <td>1</td>\n",
              "      <td>1</td>\n",
              "      <td>1</td>\n",
              "      <td>0</td>\n",
              "      <td>0</td>\n",
              "      <td>0</td>\n",
              "    </tr>\n",
              "    <tr>\n",
              "      <th>1432</th>\n",
              "      <td>1439</td>\n",
              "      <td>TOYOTA Corolla 1.3 16V HATCHB LINEA TERRA 2/3-...</td>\n",
              "      <td>10845</td>\n",
              "      <td>72</td>\n",
              "      <td>9</td>\n",
              "      <td>1998</td>\n",
              "      <td>19000</td>\n",
              "      <td>Petrol</td>\n",
              "      <td>86</td>\n",
              "      <td>0</td>\n",
              "      <td>...</td>\n",
              "      <td>0</td>\n",
              "      <td>0</td>\n",
              "      <td>1</td>\n",
              "      <td>0</td>\n",
              "      <td>0</td>\n",
              "      <td>1</td>\n",
              "      <td>1</td>\n",
              "      <td>0</td>\n",
              "      <td>0</td>\n",
              "      <td>0</td>\n",
              "    </tr>\n",
              "    <tr>\n",
              "      <th>1433</th>\n",
              "      <td>1440</td>\n",
              "      <td>TOYOTA Corolla 1.3 16V HATCHB LINEA TERRA 2/3-...</td>\n",
              "      <td>8500</td>\n",
              "      <td>71</td>\n",
              "      <td>10</td>\n",
              "      <td>1998</td>\n",
              "      <td>17016</td>\n",
              "      <td>Petrol</td>\n",
              "      <td>86</td>\n",
              "      <td>0</td>\n",
              "      <td>...</td>\n",
              "      <td>0</td>\n",
              "      <td>0</td>\n",
              "      <td>1</td>\n",
              "      <td>0</td>\n",
              "      <td>0</td>\n",
              "      <td>0</td>\n",
              "      <td>1</td>\n",
              "      <td>0</td>\n",
              "      <td>0</td>\n",
              "      <td>0</td>\n",
              "    </tr>\n",
              "    <tr>\n",
              "      <th>1434</th>\n",
              "      <td>1441</td>\n",
              "      <td>TOYOTA Corolla 1.3 16V HATCHB LINEA TERRA 2/3-...</td>\n",
              "      <td>7250</td>\n",
              "      <td>70</td>\n",
              "      <td>11</td>\n",
              "      <td>1998</td>\n",
              "      <td>16916</td>\n",
              "      <td>Petrol</td>\n",
              "      <td>86</td>\n",
              "      <td>1</td>\n",
              "      <td>...</td>\n",
              "      <td>0</td>\n",
              "      <td>0</td>\n",
              "      <td>0</td>\n",
              "      <td>0</td>\n",
              "      <td>0</td>\n",
              "      <td>0</td>\n",
              "      <td>1</td>\n",
              "      <td>0</td>\n",
              "      <td>0</td>\n",
              "      <td>0</td>\n",
              "    </tr>\n",
              "    <tr>\n",
              "      <th>1435</th>\n",
              "      <td>1442</td>\n",
              "      <td>TOYOTA Corolla 1.6 LB LINEA TERRA 4/5-Doors</td>\n",
              "      <td>6950</td>\n",
              "      <td>76</td>\n",
              "      <td>5</td>\n",
              "      <td>1998</td>\n",
              "      <td>1</td>\n",
              "      <td>Petrol</td>\n",
              "      <td>110</td>\n",
              "      <td>0</td>\n",
              "      <td>...</td>\n",
              "      <td>0</td>\n",
              "      <td>0</td>\n",
              "      <td>1</td>\n",
              "      <td>0</td>\n",
              "      <td>0</td>\n",
              "      <td>0</td>\n",
              "      <td>0</td>\n",
              "      <td>0</td>\n",
              "      <td>0</td>\n",
              "      <td>0</td>\n",
              "    </tr>\n",
              "  </tbody>\n",
              "</table>\n",
              "<p>1436 rows × 38 columns</p>\n",
              "</div>\n",
              "      <button class=\"colab-df-convert\" onclick=\"convertToInteractive('df-59cdd964-026a-4c6f-baac-98a25780d2ef')\"\n",
              "              title=\"Convert this dataframe to an interactive table.\"\n",
              "              style=\"display:none;\">\n",
              "        \n",
              "  <svg xmlns=\"http://www.w3.org/2000/svg\" height=\"24px\"viewBox=\"0 0 24 24\"\n",
              "       width=\"24px\">\n",
              "    <path d=\"M0 0h24v24H0V0z\" fill=\"none\"/>\n",
              "    <path d=\"M18.56 5.44l.94 2.06.94-2.06 2.06-.94-2.06-.94-.94-2.06-.94 2.06-2.06.94zm-11 1L8.5 8.5l.94-2.06 2.06-.94-2.06-.94L8.5 2.5l-.94 2.06-2.06.94zm10 10l.94 2.06.94-2.06 2.06-.94-2.06-.94-.94-2.06-.94 2.06-2.06.94z\"/><path d=\"M17.41 7.96l-1.37-1.37c-.4-.4-.92-.59-1.43-.59-.52 0-1.04.2-1.43.59L10.3 9.45l-7.72 7.72c-.78.78-.78 2.05 0 2.83L4 21.41c.39.39.9.59 1.41.59.51 0 1.02-.2 1.41-.59l7.78-7.78 2.81-2.81c.8-.78.8-2.07 0-2.86zM5.41 20L4 18.59l7.72-7.72 1.47 1.35L5.41 20z\"/>\n",
              "  </svg>\n",
              "      </button>\n",
              "      \n",
              "  <style>\n",
              "    .colab-df-container {\n",
              "      display:flex;\n",
              "      flex-wrap:wrap;\n",
              "      gap: 12px;\n",
              "    }\n",
              "\n",
              "    .colab-df-convert {\n",
              "      background-color: #E8F0FE;\n",
              "      border: none;\n",
              "      border-radius: 50%;\n",
              "      cursor: pointer;\n",
              "      display: none;\n",
              "      fill: #1967D2;\n",
              "      height: 32px;\n",
              "      padding: 0 0 0 0;\n",
              "      width: 32px;\n",
              "    }\n",
              "\n",
              "    .colab-df-convert:hover {\n",
              "      background-color: #E2EBFA;\n",
              "      box-shadow: 0px 1px 2px rgba(60, 64, 67, 0.3), 0px 1px 3px 1px rgba(60, 64, 67, 0.15);\n",
              "      fill: #174EA6;\n",
              "    }\n",
              "\n",
              "    [theme=dark] .colab-df-convert {\n",
              "      background-color: #3B4455;\n",
              "      fill: #D2E3FC;\n",
              "    }\n",
              "\n",
              "    [theme=dark] .colab-df-convert:hover {\n",
              "      background-color: #434B5C;\n",
              "      box-shadow: 0px 1px 3px 1px rgba(0, 0, 0, 0.15);\n",
              "      filter: drop-shadow(0px 1px 2px rgba(0, 0, 0, 0.3));\n",
              "      fill: #FFFFFF;\n",
              "    }\n",
              "  </style>\n",
              "\n",
              "      <script>\n",
              "        const buttonEl =\n",
              "          document.querySelector('#df-59cdd964-026a-4c6f-baac-98a25780d2ef button.colab-df-convert');\n",
              "        buttonEl.style.display =\n",
              "          google.colab.kernel.accessAllowed ? 'block' : 'none';\n",
              "\n",
              "        async function convertToInteractive(key) {\n",
              "          const element = document.querySelector('#df-59cdd964-026a-4c6f-baac-98a25780d2ef');\n",
              "          const dataTable =\n",
              "            await google.colab.kernel.invokeFunction('convertToInteractive',\n",
              "                                                     [key], {});\n",
              "          if (!dataTable) return;\n",
              "\n",
              "          const docLinkHtml = 'Like what you see? Visit the ' +\n",
              "            '<a target=\"_blank\" href=https://colab.research.google.com/notebooks/data_table.ipynb>data table notebook</a>'\n",
              "            + ' to learn more about interactive tables.';\n",
              "          element.innerHTML = '';\n",
              "          dataTable['output_type'] = 'display_data';\n",
              "          await google.colab.output.renderOutput(dataTable, element);\n",
              "          const docLink = document.createElement('div');\n",
              "          docLink.innerHTML = docLinkHtml;\n",
              "          element.appendChild(docLink);\n",
              "        }\n",
              "      </script>\n",
              "    </div>\n",
              "  </div>\n",
              "  "
            ]
          },
          "metadata": {},
          "execution_count": 79
        }
      ]
    },
    {
      "cell_type": "code",
      "source": [
        "toyota_=toyotan.drop(toyotan.index[80],axis=0).reset_index()"
      ],
      "metadata": {
        "id": "PrAZVOD09zCu"
      },
      "execution_count": null,
      "outputs": []
    },
    {
      "cell_type": "code",
      "source": [
        "toyota_.shape"
      ],
      "metadata": {
        "colab": {
          "base_uri": "https://localhost:8080/"
        },
        "id": "0wI1Np7w_4Fz",
        "outputId": "be6f4579-c9ad-4889-8708-360a93bd8252"
      },
      "execution_count": null,
      "outputs": [
        {
          "output_type": "execute_result",
          "data": {
            "text/plain": [
              "(1435, 39)"
            ]
          },
          "metadata": {},
          "execution_count": 81
        }
      ]
    },
    {
      "cell_type": "code",
      "source": [
        "model_cars_n=smf.ols(\"Price~Age_08_04+KM+HP+cc+Doors+Gears+Quarterly_Tax+Weight\", data=toyota_).fit()"
      ],
      "metadata": {
        "id": "4FYdrw8Y-lrJ"
      },
      "execution_count": null,
      "outputs": []
    },
    {
      "cell_type": "code",
      "source": [
        "model_cars_n.rsquared #rsquared has improved after removing the 80th row from the dataset"
      ],
      "metadata": {
        "colab": {
          "base_uri": "https://localhost:8080/"
        },
        "id": "LrmqEaIhAoH5",
        "outputId": "413f44e0-1053-40de-fa37-c1c3d34dad37"
      },
      "execution_count": null,
      "outputs": [
        {
          "output_type": "execute_result",
          "data": {
            "text/plain": [
              "0.8693790488655819"
            ]
          },
          "metadata": {},
          "execution_count": 83
        }
      ]
    },
    {
      "cell_type": "code",
      "source": [
        "from statsmodels.graphics.regressionplots import influence_plot\n",
        "influence_plot(model_cars_n)\n",
        "plt.show()"
      ],
      "metadata": {
        "colab": {
          "base_uri": "https://localhost:8080/",
          "height": 302
        },
        "id": "tBAhdwrIArsQ",
        "outputId": "a3a902e8-5698-4811-c833-e888216b3b49"
      },
      "execution_count": null,
      "outputs": [
        {
          "output_type": "display_data",
          "data": {
            "text/plain": [
              "<Figure size 432x288 with 1 Axes>"
            ],
            "image/png": "[encoded data removed]"
          },
          "metadata": {
            "needs_background": "light"
          }
        }
      ]
    },
    {
      "cell_type": "code",
      "source": [
        "k=toyota_.shape[1]\n",
        "n=toyota_.shape[0]\n",
        "levarage_cutoff=3*((k+1)/n)"
      ],
      "metadata": {
        "id": "BV_kTKkaBH48"
      },
      "execution_count": null,
      "outputs": []
    },
    {
      "cell_type": "code",
      "source": [
        "levarage_cutoff"
      ],
      "metadata": {
        "colab": {
          "base_uri": "https://localhost:8080/"
        },
        "id": "9mQyetSeBsSW",
        "outputId": "0f3430f7-6027-4904-d13e-9d5bd56a9b69"
      },
      "execution_count": null,
      "outputs": [
        {
          "output_type": "execute_result",
          "data": {
            "text/plain": [
              "0.08362369337979095"
            ]
          },
          "metadata": {},
          "execution_count": 86
        }
      ]
    },
    {
      "cell_type": "code",
      "source": [
        "toyota_1=toyota_.drop(toyota_.index[[220,959,955,990]], axis=0).reset_index()"
      ],
      "metadata": {
        "id": "_fgx4e0FBuaJ"
      },
      "execution_count": null,
      "outputs": []
    },
    {
      "cell_type": "code",
      "source": [
        "model_cars_n1=smf.ols(\"Price~Age_08_04+KM+HP+cc+Doors+Gears+Quarterly_Tax+Weight\", data=toyota_1).fit()"
      ],
      "metadata": {
        "id": "rvXWfmmfJnFj"
      },
      "execution_count": null,
      "outputs": []
    },
    {
      "cell_type": "code",
      "source": [
        "model_cars_n1.rsquared"
      ],
      "metadata": {
        "colab": {
          "base_uri": "https://localhost:8080/"
        },
        "id": "WYfGHZL7KODG",
        "outputId": "82fea5f9-73bd-48d9-e3ba-d3f7bebfbf74"
      },
      "execution_count": null,
      "outputs": [
        {
          "output_type": "execute_result",
          "data": {
            "text/plain": [
              "0.8858404654714512"
            ]
          },
          "metadata": {},
          "execution_count": 89
        }
      ]
    },
    {
      "cell_type": "code",
      "source": [
        "from statsmodels.graphics.regressionplots import influence_plot\n",
        "influence_plot(model_cars_n1)\n",
        "plt.show()"
      ],
      "metadata": {
        "colab": {
          "base_uri": "https://localhost:8080/",
          "height": 302
        },
        "id": "dLzQX4dSKJvu",
        "outputId": "6539bb30-13c3-4e04-c79b-a43e826ef7bf"
      },
      "execution_count": null,
      "outputs": [
        {
          "output_type": "display_data",
          "data": {
            "text/plain": [
              "<Figure size 432x288 with 1 Axes>"
            ],
            "image/png": "[encoded data removed]"
          },
          "metadata": {
            "needs_background": "light"
          }
        }
      ]
    },
    {
      "cell_type": "code",
      "source": [
        "k=toyota_1.shape[1]\n",
        "n=toyota_1.shape[0]\n",
        "levarage_cutoff=3*((k+1)/n)"
      ],
      "metadata": {
        "id": "iwlP8lxnKZtT"
      },
      "execution_count": null,
      "outputs": []
    },
    {
      "cell_type": "code",
      "source": [
        "levarage_cutoff"
      ],
      "metadata": {
        "colab": {
          "base_uri": "https://localhost:8080/"
        },
        "id": "-bBVmMI7KgGH",
        "outputId": "98b8abca-00de-45f5-e38e-80d5cdd88475"
      },
      "execution_count": null,
      "outputs": [
        {
          "output_type": "execute_result",
          "data": {
            "text/plain": [
              "0.0859538784067086"
            ]
          },
          "metadata": {},
          "execution_count": 92
        }
      ]
    },
    {
      "cell_type": "code",
      "source": [
        "#no data points are outside the levarage, hence this is the final model"
      ],
      "metadata": {
        "id": "bwrGQlk3Kjaf"
      },
      "execution_count": null,
      "outputs": []
    },
    {
      "cell_type": "code",
      "source": [
        "#noting down theparmeters\n",
        "model_cars_n1.params"
      ],
      "metadata": {
        "colab": {
          "base_uri": "https://localhost:8080/"
        },
        "id": "5PVhFt08KiBi",
        "outputId": "6509d52f-f857-4567-8060-b8f59b7fe2e1"
      },
      "execution_count": null,
      "outputs": [
        {
          "output_type": "execute_result",
          "data": {
            "text/plain": [
              "Intercept       -14061.679242\n",
              "Age_08_04         -111.772798\n",
              "KM                  -0.016963\n",
              "HP                  37.239946\n",
              "cc                  -3.816917\n",
              "Doors             -131.482177\n",
              "Gears              280.052199\n",
              "Quarterly_Tax        5.175273\n",
              "Weight              30.867540\n",
              "dtype: float64"
            ]
          },
          "metadata": {},
          "execution_count": 94
        }
      ]
    },
    {
      "cell_type": "code",
      "source": [
        "model_cars_n1.pvalues"
      ],
      "metadata": {
        "colab": {
          "base_uri": "https://localhost:8080/"
        },
        "id": "KZC_bmfKLac-",
        "outputId": "95185866-e64c-4a27-a8ed-45435a1c78ba"
      },
      "execution_count": null,
      "outputs": [
        {
          "output_type": "execute_result",
          "data": {
            "text/plain": [
              "Intercept         3.755636e-21\n",
              "Age_08_04        5.835812e-277\n",
              "KM                1.009630e-42\n",
              "HP                3.076666e-39\n",
              "cc                7.264344e-35\n",
              "Doors             4.761829e-04\n",
              "Gears             1.600350e-01\n",
              "Quarterly_Tax     1.617547e-04\n",
              "Weight           1.343278e-106\n",
              "dtype: float64"
            ]
          },
          "metadata": {},
          "execution_count": 95
        }
      ]
    },
    {
      "cell_type": "code",
      "source": [
        "model_cars_n1.rsquared"
      ],
      "metadata": {
        "colab": {
          "base_uri": "https://localhost:8080/"
        },
        "id": "ANJr4C7OLxeu",
        "outputId": "b9686237-b5c2-4d35-8141-288211c61c29"
      },
      "execution_count": null,
      "outputs": [
        {
          "output_type": "execute_result",
          "data": {
            "text/plain": [
              "0.8858404654714512"
            ]
          },
          "metadata": {},
          "execution_count": 96
        }
      ]
    },
    {
      "cell_type": "code",
      "source": [
        "model_influence_C=model_cars_n1.get_influence()\n",
        "(c_C,_)=model_influence_C.cooks_distance"
      ],
      "metadata": {
        "id": "SOa6J0BRL4cY"
      },
      "execution_count": null,
      "outputs": []
    },
    {
      "cell_type": "code",
      "source": [
        "fig=plt.subplots(figsize=(20,7))\n",
        "plt.stem(np.arange(len(toyota_1)),np.round(c_C,3))\n",
        "plt.xlabel('Row index')\n",
        "plt.ylabel('Cooks Distance')"
      ],
      "metadata": {
        "colab": {
          "base_uri": "https://localhost:8080/",
          "height": 514
        },
        "id": "HHjOrKPwoSvk",
        "outputId": "f06a6f75-2809-48b8-a73b-f91c77e538d3"
      },
      "execution_count": null,
      "outputs": [
        {
          "output_type": "stream",
          "name": "stderr",
          "text": [
            "/usr/local/lib/python3.7/dist-packages/ipykernel_launcher.py:2: UserWarning: In Matplotlib 3.3 individual lines on a stem plot will be added as a LineCollection instead of individual lines. This significantly improves the performance of a stem plot. To remove this warning and switch to the new behaviour, set the \"use_line_collection\" keyword argument to True.\n",
            "  \n"
          ]
        },
        {
          "output_type": "execute_result",
          "data": {
            "text/plain": [
              "Text(0, 0.5, 'Cooks Distance')"
            ]
          },
          "metadata": {},
          "execution_count": 99
        },
        {
          "output_type": "display_data",
          "data": {
            "text/plain": [
              "<Figure size 1440x504 with 1 Axes>"
            ],
            "image/png": "[encoded data removed]"
          },
          "metadata": {
            "needs_background": "light"
          }
        }
      ]
    },
    {
      "cell_type": "code",
      "source": [
        "(np.argmax(c_C),np.max(c_C)) #no data point in the cooks distance plot of the final model has values greater than 1.0, hence this model is accepted"
      ],
      "metadata": {
        "colab": {
          "base_uri": "https://localhost:8080/"
        },
        "id": "ey6D9cJ9oitp",
        "outputId": "bbb6b39c-6859-4cac-bd87-c65042bfe5a5"
      },
      "execution_count": null,
      "outputs": [
        {
          "output_type": "execute_result",
          "data": {
            "text/plain": [
              "(599, 0.32207689505387443)"
            ]
          },
          "metadata": {},
          "execution_count": 100
        }
      ]
    },
    {
      "cell_type": "code",
      "source": [
        "predict_data=pd.DataFrame({\"Age_08_04\":30, \"KM\":38500, \"HP\":90, \"cc\":2000, \"Doors\":3, \"Gears\":5, \"Quarterly_Tax\":210, \"Weight\":1170}, index=[1])"
      ],
      "metadata": {
        "id": "vUCzg6DlovIx"
      },
      "execution_count": null,
      "outputs": []
    },
    {
      "cell_type": "code",
      "source": [
        "predict_data"
      ],
      "metadata": {
        "colab": {
          "base_uri": "https://localhost:8080/",
          "height": 81
        },
        "id": "0gBG-RUgrRmo",
        "outputId": "57036087-9c8f-4d9d-c76f-066c1af9ba0f"
      },
      "execution_count": null,
      "outputs": [
        {
          "output_type": "execute_result",
          "data": {
            "text/plain": [
              "   Age_08_04     KM  HP    cc  Doors  Gears  Quarterly_Tax  Weight\n",
              "1         30  38500  90  2000      3      5            210    1170"
            ],
            "text/html": [
              "\n",
              "  <div id=\"df-f1e49786-8dec-4e25-bceb-f5819fb93e61\">\n",
              "    <div class=\"colab-df-container\">\n",
              "      <div>\n",
              "<style scoped>\n",
              "    .dataframe tbody tr th:only-of-type {\n",
              "        vertical-align: middle;\n",
              "    }\n",
              "\n",
              "    .dataframe tbody tr th {\n",
              "        vertical-align: top;\n",
              "    }\n",
              "\n",
              "    .dataframe thead th {\n",
              "        text-align: right;\n",
              "    }\n",
              "</style>\n",
              "<table border=\"1\" class=\"dataframe\">\n",
              "  <thead>\n",
              "    <tr style=\"text-align: right;\">\n",
              "      <th></th>\n",
              "      <th>Age_08_04</th>\n",
              "      <th>KM</th>\n",
              "      <th>HP</th>\n",
              "      <th>cc</th>\n",
              "      <th>Doors</th>\n",
              "      <th>Gears</th>\n",
              "      <th>Quarterly_Tax</th>\n",
              "      <th>Weight</th>\n",
              "    </tr>\n",
              "  </thead>\n",
              "  <tbody>\n",
              "    <tr>\n",
              "      <th>1</th>\n",
              "      <td>30</td>\n",
              "      <td>38500</td>\n",
              "      <td>90</td>\n",
              "      <td>2000</td>\n",
              "      <td>3</td>\n",
              "      <td>5</td>\n",
              "      <td>210</td>\n",
              "      <td>1170</td>\n",
              "    </tr>\n",
              "  </tbody>\n",
              "</table>\n",
              "</div>\n",
              "      <button class=\"colab-df-convert\" onclick=\"convertToInteractive('df-f1e49786-8dec-4e25-bceb-f5819fb93e61')\"\n",
              "              title=\"Convert this dataframe to an interactive table.\"\n",
              "              style=\"display:none;\">\n",
              "        \n",
              "  <svg xmlns=\"http://www.w3.org/2000/svg\" height=\"24px\"viewBox=\"0 0 24 24\"\n",
              "       width=\"24px\">\n",
              "    <path d=\"M0 0h24v24H0V0z\" fill=\"none\"/>\n",
              "    <path d=\"M18.56 5.44l.94 2.06.94-2.06 2.06-.94-2.06-.94-.94-2.06-.94 2.06-2.06.94zm-11 1L8.5 8.5l.94-2.06 2.06-.94-2.06-.94L8.5 2.5l-.94 2.06-2.06.94zm10 10l.94 2.06.94-2.06 2.06-.94-2.06-.94-.94-2.06-.94 2.06-2.06.94z\"/><path d=\"M17.41 7.96l-1.37-1.37c-.4-.4-.92-.59-1.43-.59-.52 0-1.04.2-1.43.59L10.3 9.45l-7.72 7.72c-.78.78-.78 2.05 0 2.83L4 21.41c.39.39.9.59 1.41.59.51 0 1.02-.2 1.41-.59l7.78-7.78 2.81-2.81c.8-.78.8-2.07 0-2.86zM5.41 20L4 18.59l7.72-7.72 1.47 1.35L5.41 20z\"/>\n",
              "  </svg>\n",
              "      </button>\n",
              "      \n",
              "  <style>\n",
              "    .colab-df-container {\n",
              "      display:flex;\n",
              "      flex-wrap:wrap;\n",
              "      gap: 12px;\n",
              "    }\n",
              "\n",
              "    .colab-df-convert {\n",
              "      background-color: #E8F0FE;\n",
              "      border: none;\n",
              "      border-radius: 50%;\n",
              "      cursor: pointer;\n",
              "      display: none;\n",
              "      fill: #1967D2;\n",
              "      height: 32px;\n",
              "      padding: 0 0 0 0;\n",
              "      width: 32px;\n",
              "    }\n",
              "\n",
              "    .colab-df-convert:hover {\n",
              "      background-color: #E2EBFA;\n",
              "      box-shadow: 0px 1px 2px rgba(60, 64, 67, 0.3), 0px 1px 3px 1px rgba(60, 64, 67, 0.15);\n",
              "      fill: #174EA6;\n",
              "    }\n",
              "\n",
              "    [theme=dark] .colab-df-convert {\n",
              "      background-color: #3B4455;\n",
              "      fill: #D2E3FC;\n",
              "    }\n",
              "\n",
              "    [theme=dark] .colab-df-convert:hover {\n",
              "      background-color: #434B5C;\n",
              "      box-shadow: 0px 1px 3px 1px rgba(0, 0, 0, 0.15);\n",
              "      filter: drop-shadow(0px 1px 2px rgba(0, 0, 0, 0.3));\n",
              "      fill: #FFFFFF;\n",
              "    }\n",
              "  </style>\n",
              "\n",
              "      <script>\n",
              "        const buttonEl =\n",
              "          document.querySelector('#df-f1e49786-8dec-4e25-bceb-f5819fb93e61 button.colab-df-convert');\n",
              "        buttonEl.style.display =\n",
              "          google.colab.kernel.accessAllowed ? 'block' : 'none';\n",
              "\n",
              "        async function convertToInteractive(key) {\n",
              "          const element = document.querySelector('#df-f1e49786-8dec-4e25-bceb-f5819fb93e61');\n",
              "          const dataTable =\n",
              "            await google.colab.kernel.invokeFunction('convertToInteractive',\n",
              "                                                     [key], {});\n",
              "          if (!dataTable) return;\n",
              "\n",
              "          const docLinkHtml = 'Like what you see? Visit the ' +\n",
              "            '<a target=\"_blank\" href=https://colab.research.google.com/notebooks/data_table.ipynb>data table notebook</a>'\n",
              "            + ' to learn more about interactive tables.';\n",
              "          element.innerHTML = '';\n",
              "          dataTable['output_type'] = 'display_data';\n",
              "          await google.colab.output.renderOutput(dataTable, element);\n",
              "          const docLink = document.createElement('div');\n",
              "          docLink.innerHTML = docLinkHtml;\n",
              "          element.appendChild(docLink);\n",
              "        }\n",
              "      </script>\n",
              "    </div>\n",
              "  </div>\n",
              "  "
            ]
          },
          "metadata": {},
          "execution_count": 102
        }
      ]
    },
    {
      "cell_type": "code",
      "source": [
        "model_cars_n1.predict(predict_data)"
      ],
      "metadata": {
        "colab": {
          "base_uri": "https://localhost:8080/"
        },
        "id": "5kJkuBSLrTAS",
        "outputId": "23cfd481-223d-47a7-bc3e-d3aa447f6bcc"
      },
      "execution_count": null,
      "outputs": [
        {
          "output_type": "execute_result",
          "data": {
            "text/plain": [
              "1    15857.483139\n",
              "dtype: float64"
            ]
          },
          "metadata": {},
          "execution_count": 104
        }
      ]
    },
    {
      "cell_type": "code",
      "source": [
        ""
      ],
      "metadata": {
        "id": "W8jUdU1prqB7"
      },
      "execution_count": null,
      "outputs": []
    },
    {
      "cell_type": "code",
      "source": [
        ""
      ],
      "metadata": {
        "id": "lm8ItU_VrgHI"
      },
      "execution_count": null,
      "outputs": []
    }
  ]
}