{
  "nbformat": 4,
  "nbformat_minor": 0,
  "metadata": {
    "colab": {
      "name": "PCA_assignment.ipynb",
      "provenance": [],
      "collapsed_sections": []
    },
    "kernelspec": {
      "name": "python3",
      "display_name": "Python 3"
    },
    "language_info": {
      "name": "python"
    }
  },
  "cells": [
    {
      "cell_type": "markdown",
      "source": [
        "# PCA application"
      ],
      "metadata": {
        "id": "tdT6w4YVMZBM"
      }
    },
    {
      "cell_type": "code",
      "source": [
        "import pandas as pd\n",
        "import numpy as np\n",
        "from sklearn.decomposition import PCA\n",
        "import matplotlib.pyplot as plt\n",
        "from sklearn.preprocessing import scale"
      ],
      "metadata": {
        "id": "9Aj_7EXJMfWe"
      },
      "execution_count": 1,
      "outputs": []
    },
    {
      "cell_type": "code",
      "source": [
        "wine=pd.read_csv(\"/content/wine.csv\")\n",
        "wine_org=pd.read_csv(\"/content/wine.csv\")\n",
        "wine.head()"
      ],
      "metadata": {
        "colab": {
          "base_uri": "https://localhost:8080/",
          "height": 206
        },
        "id": "ubsmxaXrz4sy",
        "outputId": "c7423225-ef98-4e14-8e63-31bc35871410"
      },
      "execution_count": 2,
      "outputs": [
        {
          "output_type": "execute_result",
          "data": {
            "text/plain": [
              "   Type  Alcohol  Malic   Ash  Alcalinity  Magnesium  Phenols  Flavanoids  \\\n",
              "0     1    14.23   1.71  2.43        15.6        127     2.80        3.06   \n",
              "1     1    13.20   1.78  2.14        11.2        100     2.65        2.76   \n",
              "2     1    13.16   2.36  2.67        18.6        101     2.80        3.24   \n",
              "3     1    14.37   1.95  2.50        16.8        113     3.85        3.49   \n",
              "4     1    13.24   2.59  2.87        21.0        118     2.80        2.69   \n",
              "\n",
              "   Nonflavanoids  Proanthocyanins  Color   Hue  Dilution  Proline  \n",
              "0           0.28             2.29   5.64  1.04      3.92     1065  \n",
              "1           0.26             1.28   4.38  1.05      3.40     1050  \n",
              "2           0.30             2.81   5.68  1.03      3.17     1185  \n",
              "3           0.24             2.18   7.80  0.86      3.45     1480  \n",
              "4           0.39             1.82   4.32  1.04      2.93      735  "
            ],
            "text/html": [
              "\n",
              "  <div id=\"df-75c2038a-d75d-43d5-97bc-e710b1548e12\">\n",
              "    <div class=\"colab-df-container\">\n",
              "      <div>\n",
              "<style scoped>\n",
              "    .dataframe tbody tr th:only-of-type {\n",
              "        vertical-align: middle;\n",
              "    }\n",
              "\n",
              "    .dataframe tbody tr th {\n",
              "        vertical-align: top;\n",
              "    }\n",
              "\n",
              "    .dataframe thead th {\n",
              "        text-align: right;\n",
              "    }\n",
              "</style>\n",
              "<table border=\"1\" class=\"dataframe\">\n",
              "  <thead>\n",
              "    <tr style=\"text-align: right;\">\n",
              "      <th></th>\n",
              "      <th>Type</th>\n",
              "      <th>Alcohol</th>\n",
              "      <th>Malic</th>\n",
              "      <th>Ash</th>\n",
              "      <th>Alcalinity</th>\n",
              "      <th>Magnesium</th>\n",
              "      <th>Phenols</th>\n",
              "      <th>Flavanoids</th>\n",
              "      <th>Nonflavanoids</th>\n",
              "      <th>Proanthocyanins</th>\n",
              "      <th>Color</th>\n",
              "      <th>Hue</th>\n",
              "      <th>Dilution</th>\n",
              "      <th>Proline</th>\n",
              "    </tr>\n",
              "  </thead>\n",
              "  <tbody>\n",
              "    <tr>\n",
              "      <th>0</th>\n",
              "      <td>1</td>\n",
              "      <td>14.23</td>\n",
              "      <td>1.71</td>\n",
              "      <td>2.43</td>\n",
              "      <td>15.6</td>\n",
              "      <td>127</td>\n",
              "      <td>2.80</td>\n",
              "      <td>3.06</td>\n",
              "      <td>0.28</td>\n",
              "      <td>2.29</td>\n",
              "      <td>5.64</td>\n",
              "      <td>1.04</td>\n",
              "      <td>3.92</td>\n",
              "      <td>1065</td>\n",
              "    </tr>\n",
              "    <tr>\n",
              "      <th>1</th>\n",
              "      <td>1</td>\n",
              "      <td>13.20</td>\n",
              "      <td>1.78</td>\n",
              "      <td>2.14</td>\n",
              "      <td>11.2</td>\n",
              "      <td>100</td>\n",
              "      <td>2.65</td>\n",
              "      <td>2.76</td>\n",
              "      <td>0.26</td>\n",
              "      <td>1.28</td>\n",
              "      <td>4.38</td>\n",
              "      <td>1.05</td>\n",
              "      <td>3.40</td>\n",
              "      <td>1050</td>\n",
              "    </tr>\n",
              "    <tr>\n",
              "      <th>2</th>\n",
              "      <td>1</td>\n",
              "      <td>13.16</td>\n",
              "      <td>2.36</td>\n",
              "      <td>2.67</td>\n",
              "      <td>18.6</td>\n",
              "      <td>101</td>\n",
              "      <td>2.80</td>\n",
              "      <td>3.24</td>\n",
              "      <td>0.30</td>\n",
              "      <td>2.81</td>\n",
              "      <td>5.68</td>\n",
              "      <td>1.03</td>\n",
              "      <td>3.17</td>\n",
              "      <td>1185</td>\n",
              "    </tr>\n",
              "    <tr>\n",
              "      <th>3</th>\n",
              "      <td>1</td>\n",
              "      <td>14.37</td>\n",
              "      <td>1.95</td>\n",
              "      <td>2.50</td>\n",
              "      <td>16.8</td>\n",
              "      <td>113</td>\n",
              "      <td>3.85</td>\n",
              "      <td>3.49</td>\n",
              "      <td>0.24</td>\n",
              "      <td>2.18</td>\n",
              "      <td>7.80</td>\n",
              "      <td>0.86</td>\n",
              "      <td>3.45</td>\n",
              "      <td>1480</td>\n",
              "    </tr>\n",
              "    <tr>\n",
              "      <th>4</th>\n",
              "      <td>1</td>\n",
              "      <td>13.24</td>\n",
              "      <td>2.59</td>\n",
              "      <td>2.87</td>\n",
              "      <td>21.0</td>\n",
              "      <td>118</td>\n",
              "      <td>2.80</td>\n",
              "      <td>2.69</td>\n",
              "      <td>0.39</td>\n",
              "      <td>1.82</td>\n",
              "      <td>4.32</td>\n",
              "      <td>1.04</td>\n",
              "      <td>2.93</td>\n",
              "      <td>735</td>\n",
              "    </tr>\n",
              "  </tbody>\n",
              "</table>\n",
              "</div>\n",
              "      <button class=\"colab-df-convert\" onclick=\"convertToInteractive('df-75c2038a-d75d-43d5-97bc-e710b1548e12')\"\n",
              "              title=\"Convert this dataframe to an interactive table.\"\n",
              "              style=\"display:none;\">\n",
              "        \n",
              "  <svg xmlns=\"http://www.w3.org/2000/svg\" height=\"24px\"viewBox=\"0 0 24 24\"\n",
              "       width=\"24px\">\n",
              "    <path d=\"M0 0h24v24H0V0z\" fill=\"none\"/>\n",
              "    <path d=\"M18.56 5.44l.94 2.06.94-2.06 2.06-.94-2.06-.94-.94-2.06-.94 2.06-2.06.94zm-11 1L8.5 8.5l.94-2.06 2.06-.94-2.06-.94L8.5 2.5l-.94 2.06-2.06.94zm10 10l.94 2.06.94-2.06 2.06-.94-2.06-.94-.94-2.06-.94 2.06-2.06.94z\"/><path d=\"M17.41 7.96l-1.37-1.37c-.4-.4-.92-.59-1.43-.59-.52 0-1.04.2-1.43.59L10.3 9.45l-7.72 7.72c-.78.78-.78 2.05 0 2.83L4 21.41c.39.39.9.59 1.41.59.51 0 1.02-.2 1.41-.59l7.78-7.78 2.81-2.81c.8-.78.8-2.07 0-2.86zM5.41 20L4 18.59l7.72-7.72 1.47 1.35L5.41 20z\"/>\n",
              "  </svg>\n",
              "      </button>\n",
              "      \n",
              "  <style>\n",
              "    .colab-df-container {\n",
              "      display:flex;\n",
              "      flex-wrap:wrap;\n",
              "      gap: 12px;\n",
              "    }\n",
              "\n",
              "    .colab-df-convert {\n",
              "      background-color: #E8F0FE;\n",
              "      border: none;\n",
              "      border-radius: 50%;\n",
              "      cursor: pointer;\n",
              "      display: none;\n",
              "      fill: #1967D2;\n",
              "      height: 32px;\n",
              "      padding: 0 0 0 0;\n",
              "      width: 32px;\n",
              "    }\n",
              "\n",
              "    .colab-df-convert:hover {\n",
              "      background-color: #E2EBFA;\n",
              "      box-shadow: 0px 1px 2px rgba(60, 64, 67, 0.3), 0px 1px 3px 1px rgba(60, 64, 67, 0.15);\n",
              "      fill: #174EA6;\n",
              "    }\n",
              "\n",
              "    [theme=dark] .colab-df-convert {\n",
              "      background-color: #3B4455;\n",
              "      fill: #D2E3FC;\n",
              "    }\n",
              "\n",
              "    [theme=dark] .colab-df-convert:hover {\n",
              "      background-color: #434B5C;\n",
              "      box-shadow: 0px 1px 3px 1px rgba(0, 0, 0, 0.15);\n",
              "      filter: drop-shadow(0px 1px 2px rgba(0, 0, 0, 0.3));\n",
              "      fill: #FFFFFF;\n",
              "    }\n",
              "  </style>\n",
              "\n",
              "      <script>\n",
              "        const buttonEl =\n",
              "          document.querySelector('#df-75c2038a-d75d-43d5-97bc-e710b1548e12 button.colab-df-convert');\n",
              "        buttonEl.style.display =\n",
              "          google.colab.kernel.accessAllowed ? 'block' : 'none';\n",
              "\n",
              "        async function convertToInteractive(key) {\n",
              "          const element = document.querySelector('#df-75c2038a-d75d-43d5-97bc-e710b1548e12');\n",
              "          const dataTable =\n",
              "            await google.colab.kernel.invokeFunction('convertToInteractive',\n",
              "                                                     [key], {});\n",
              "          if (!dataTable) return;\n",
              "\n",
              "          const docLinkHtml = 'Like what you see? Visit the ' +\n",
              "            '<a target=\"_blank\" href=https://colab.research.google.com/notebooks/data_table.ipynb>data table notebook</a>'\n",
              "            + ' to learn more about interactive tables.';\n",
              "          element.innerHTML = '';\n",
              "          dataTable['output_type'] = 'display_data';\n",
              "          await google.colab.output.renderOutput(dataTable, element);\n",
              "          const docLink = document.createElement('div');\n",
              "          docLink.innerHTML = docLinkHtml;\n",
              "          element.appendChild(docLink);\n",
              "        }\n",
              "      </script>\n",
              "    </div>\n",
              "  </div>\n",
              "  "
            ]
          },
          "metadata": {},
          "execution_count": 2
        }
      ]
    },
    {
      "cell_type": "code",
      "source": [
        "wine=wine.iloc[:,1:] #removing the type column"
      ],
      "metadata": {
        "id": "GxN-Jowc6sF3"
      },
      "execution_count": 3,
      "outputs": []
    },
    {
      "cell_type": "code",
      "source": [
        "wine.isnull().sum()"
      ],
      "metadata": {
        "colab": {
          "base_uri": "https://localhost:8080/"
        },
        "id": "aQlORRd00IZj",
        "outputId": "87931f7e-84b4-45a0-c509-9208f745924f"
      },
      "execution_count": 4,
      "outputs": [
        {
          "output_type": "execute_result",
          "data": {
            "text/plain": [
              "Alcohol            0\n",
              "Malic              0\n",
              "Ash                0\n",
              "Alcalinity         0\n",
              "Magnesium          0\n",
              "Phenols            0\n",
              "Flavanoids         0\n",
              "Nonflavanoids      0\n",
              "Proanthocyanins    0\n",
              "Color              0\n",
              "Hue                0\n",
              "Dilution           0\n",
              "Proline            0\n",
              "dtype: int64"
            ]
          },
          "metadata": {},
          "execution_count": 4
        }
      ]
    },
    {
      "cell_type": "code",
      "source": [
        "#considering only numeric data and converting into numpy array\n",
        "wine_arr=wine.values\n",
        "wine_arr"
      ],
      "metadata": {
        "colab": {
          "base_uri": "https://localhost:8080/"
        },
        "id": "s5d6DCsL0MzQ",
        "outputId": "92f70459-f990-470a-bd96-8cf60214e08c"
      },
      "execution_count": 5,
      "outputs": [
        {
          "output_type": "execute_result",
          "data": {
            "text/plain": [
              "array([[1.423e+01, 1.710e+00, 2.430e+00, ..., 1.040e+00, 3.920e+00,\n",
              "        1.065e+03],\n",
              "       [1.320e+01, 1.780e+00, 2.140e+00, ..., 1.050e+00, 3.400e+00,\n",
              "        1.050e+03],\n",
              "       [1.316e+01, 2.360e+00, 2.670e+00, ..., 1.030e+00, 3.170e+00,\n",
              "        1.185e+03],\n",
              "       ...,\n",
              "       [1.327e+01, 4.280e+00, 2.260e+00, ..., 5.900e-01, 1.560e+00,\n",
              "        8.350e+02],\n",
              "       [1.317e+01, 2.590e+00, 2.370e+00, ..., 6.000e-01, 1.620e+00,\n",
              "        8.400e+02],\n",
              "       [1.413e+01, 4.100e+00, 2.740e+00, ..., 6.100e-01, 1.600e+00,\n",
              "        5.600e+02]])"
            ]
          },
          "metadata": {},
          "execution_count": 5
        }
      ]
    },
    {
      "cell_type": "code",
      "source": [
        "wine_norm=scale(wine_arr)"
      ],
      "metadata": {
        "id": "ALy60G-a1Mol"
      },
      "execution_count": 6,
      "outputs": []
    },
    {
      "cell_type": "code",
      "source": [
        "wine_norm #z score data"
      ],
      "metadata": {
        "colab": {
          "base_uri": "https://localhost:8080/"
        },
        "id": "zSFH7R1h1XdZ",
        "outputId": "c3a47e3b-59e9-4605-8b9d-5fed09dca362"
      },
      "execution_count": 7,
      "outputs": [
        {
          "output_type": "execute_result",
          "data": {
            "text/plain": [
              "array([[ 1.51861254, -0.5622498 ,  0.23205254, ...,  0.36217728,\n",
              "         1.84791957,  1.01300893],\n",
              "       [ 0.24628963, -0.49941338, -0.82799632, ...,  0.40605066,\n",
              "         1.1134493 ,  0.96524152],\n",
              "       [ 0.19687903,  0.02123125,  1.10933436, ...,  0.31830389,\n",
              "         0.78858745,  1.39514818],\n",
              "       ...,\n",
              "       [ 0.33275817,  1.74474449, -0.38935541, ..., -1.61212515,\n",
              "        -1.48544548,  0.28057537],\n",
              "       [ 0.20923168,  0.22769377,  0.01273209, ..., -1.56825176,\n",
              "        -1.40069891,  0.29649784],\n",
              "       [ 1.39508604,  1.58316512,  1.36520822, ..., -1.52437837,\n",
              "        -1.42894777, -0.59516041]])"
            ]
          },
          "metadata": {},
          "execution_count": 7
        }
      ]
    },
    {
      "cell_type": "code",
      "source": [
        "pca=PCA(n_components=3)\n",
        "wine_pca=pca.fit_transform(wine_norm)\n",
        "wine_pca"
      ],
      "metadata": {
        "colab": {
          "base_uri": "https://localhost:8080/"
        },
        "id": "VEK4a1kW2A2j",
        "outputId": "aca18c3a-54df-44a6-8b53-eba3868b6735"
      },
      "execution_count": 8,
      "outputs": [
        {
          "output_type": "execute_result",
          "data": {
            "text/plain": [
              "array([[ 3.31675081e+00, -1.44346263e+00, -1.65739045e-01],\n",
              "       [ 2.20946492e+00,  3.33392887e-01, -2.02645737e+00],\n",
              "       [ 2.51674015e+00, -1.03115130e+00,  9.82818670e-01],\n",
              "       [ 3.75706561e+00, -2.75637191e+00, -1.76191842e-01],\n",
              "       [ 1.00890849e+00, -8.69830821e-01,  2.02668822e+00],\n",
              "       [ 3.05025392e+00, -2.12240111e+00, -6.29395827e-01],\n",
              "       [ 2.44908967e+00, -1.17485013e+00, -9.77094891e-01],\n",
              "       [ 2.05943687e+00, -1.60896307e+00,  1.46281883e-01],\n",
              "       [ 2.51087430e+00, -9.18070957e-01, -1.77096903e+00],\n",
              "       [ 2.75362819e+00, -7.89437674e-01, -9.84247490e-01],\n",
              "       [ 3.47973668e+00, -1.30233324e+00, -4.22735217e-01],\n",
              "       [ 1.75475290e+00, -6.11977229e-01, -1.19087832e+00],\n",
              "       [ 2.11346234e+00, -6.75706339e-01, -8.65086426e-01],\n",
              "       [ 3.45815682e+00, -1.13062988e+00, -1.20427635e+00],\n",
              "       [ 4.31278391e+00, -2.09597558e+00, -1.26391275e+00],\n",
              "       [ 2.30518820e+00, -1.66255173e+00,  2.17902616e-01],\n",
              "       [ 2.17195527e+00, -2.32730534e+00,  8.31729866e-01],\n",
              "       [ 1.89897118e+00, -1.63136888e+00,  7.94913792e-01],\n",
              "       [ 3.54198508e+00, -2.51834367e+00, -4.85458508e-01],\n",
              "       [ 2.08452220e+00, -1.06113799e+00, -1.64746678e-01],\n",
              "       [ 3.12440254e+00, -7.86897106e-01, -3.64887083e-01],\n",
              "       [ 1.08657007e+00, -2.41743551e-01,  9.36961600e-01],\n",
              "       [ 2.53522408e+00,  9.18406207e-02, -3.11932659e-01],\n",
              "       [ 1.64498834e+00,  5.16278930e-01,  1.43885095e-01],\n",
              "       [ 1.76157587e+00,  3.17148933e-01,  8.90285647e-01],\n",
              "       [ 9.90079102e-01, -9.40667338e-01,  3.82090801e+00],\n",
              "       [ 1.77527763e+00, -6.86175134e-01, -8.67004065e-02],\n",
              "       [ 1.23542396e+00,  8.98070414e-02, -1.38689654e+00],\n",
              "       [ 2.18840633e+00, -6.89569621e-01,  1.39456688e+00],\n",
              "       [ 2.25610898e+00, -1.91461937e-01, -1.09265726e+00],\n",
              "       [ 2.50022003e+00, -1.24083383e+00,  1.38601785e+00],\n",
              "       [ 2.67741105e+00, -1.47187365e+00, -3.32261728e-01],\n",
              "       [ 1.62857912e+00, -5.27044506e-02, -1.67128706e-01],\n",
              "       [ 1.90269086e+00, -1.63306043e+00,  1.17208212e+00],\n",
              "       [ 1.41038853e+00, -6.97934325e-01,  4.79743025e-01],\n",
              "       [ 1.90382623e+00, -1.76710951e-01,  4.50835040e-01],\n",
              "       [ 1.38486223e+00, -6.58639854e-01,  4.58438581e-01],\n",
              "       [ 1.12220741e+00, -1.14109760e-01, -3.91072767e-02],\n",
              "       [ 1.50219450e+00,  7.69432006e-01, -1.42617735e+00],\n",
              "       [ 2.52980109e+00, -1.80300198e+00, -3.43152389e-01],\n",
              "       [ 2.58809543e+00, -7.79616304e-01, -1.18477466e-01],\n",
              "       [ 6.68481994e-01, -1.69960941e-01, -7.83362548e-01],\n",
              "       [ 3.07080699e+00, -1.15591896e+00, -3.12758084e-01],\n",
              "       [ 4.62209138e-01, -3.30742132e-01, -2.01476496e-01],\n",
              "       [ 2.10135193e+00,  7.10089210e-02, -6.55849415e-01],\n",
              "       [ 1.13616618e+00, -1.77710739e+00,  2.87057358e-02],\n",
              "       [ 2.72660096e+00, -1.19133469e+00, -5.39773261e-01],\n",
              "       [ 2.82133927e+00, -6.46258599e-01, -1.15555241e+00],\n",
              "       [ 2.00985085e+00, -1.24702946e+00, -5.72939879e-02],\n",
              "       [ 2.70749130e+00, -1.75196741e+00, -6.43113612e-01],\n",
              "       [ 3.21491747e+00, -1.66991995e-01, -1.97357168e+00],\n",
              "       [ 2.85895983e+00, -7.45278804e-01,  4.71950216e-03],\n",
              "       [ 3.50560436e+00, -1.61273386e+00, -5.20774530e-01],\n",
              "       [ 2.22479138e+00, -1.87516800e+00,  3.39549850e-01],\n",
              "       [ 2.14698782e+00, -1.01675154e+00, -9.57762762e-01],\n",
              "       [ 2.46932948e+00, -1.32900831e+00,  5.13437453e-01],\n",
              "       [ 2.74151791e+00, -1.43654878e+00, -6.12473396e-01],\n",
              "       [ 2.17374092e+00, -1.21219984e+00,  2.61779593e-01],\n",
              "       [ 3.13938015e+00, -1.73157912e+00, -2.85661413e-01],\n",
              "       [-9.28581969e-01,  3.07348616e+00, -4.58506401e+00],\n",
              "       [-1.54248014e+00,  1.38144351e+00, -8.74683112e-01],\n",
              "       [-1.83624976e+00,  8.29984123e-01, -1.60570219e+00],\n",
              "       [ 3.06068341e-02,  1.26278614e+00, -1.78440801e+00],\n",
              "       [ 2.05026161e+00,  1.92503260e+00, -7.36877735e-03],\n",
              "       [-6.09680827e-01,  1.90805881e+00,  6.79357938e-01],\n",
              "       [ 9.00227839e-01,  7.63911474e-01,  5.73361302e-01],\n",
              "       [ 2.24850719e+00,  1.88459248e+00, -2.03184019e+00],\n",
              "       [ 1.83384027e-01,  2.42714611e+00, -1.06974556e+00],\n",
              "       [-8.12805027e-01,  2.20513987e-01, -7.07005396e-01],\n",
              "       [ 1.97562050e+00,  1.40328323e+00, -1.23827622e+00],\n",
              "       [-1.57221622e+00,  8.84983137e-01, -6.28997950e-01],\n",
              "       [ 1.65768181e+00,  9.56712197e-01,  1.95258422e+00],\n",
              "       [-7.25372388e-01,  1.06364540e+00,  8.03322286e-02],\n",
              "       [ 2.56222717e+00, -2.60198551e-01,  3.37439396e+00],\n",
              "       [ 1.83256757e+00,  1.28787820e+00,  4.58280027e-01],\n",
              "       [-8.67992903e-01,  2.44410119e+00, -1.56333318e+00],\n",
              "       [ 3.70014404e-01,  2.15390698e+00, -2.44938635e+00],\n",
              "       [-1.45737704e+00,  1.38335177e+00, -2.27306902e-01],\n",
              "       [ 1.26293085e+00,  7.70849530e-01, -1.18422452e+00],\n",
              "       [ 3.76150372e-01,  1.02704340e+00,  1.79446629e+00],\n",
              "       [ 7.62063904e-01,  3.37505381e+00, -3.57470056e-01],\n",
              "       [ 1.03457797e+00,  1.45070974e+00, -3.63011773e-01],\n",
              "       [-4.94876756e-01,  2.38124353e+00,  1.33574318e+00],\n",
              "       [-2.53897708e+00,  8.74433573e-02,  4.74251393e-01],\n",
              "       [ 8.35320145e-01,  1.47367055e+00,  6.10093576e-01],\n",
              "       [ 7.87904615e-01,  2.02662652e+00, -2.54723404e-01],\n",
              "       [-8.06832156e-01,  2.23383039e+00,  7.72855797e-01],\n",
              "       [-5.58042625e-01,  2.37298543e+00,  2.30761140e+00],\n",
              "       [-1.11511104e+00,  1.80224719e+00,  9.59253308e-01],\n",
              "       [-5.55722830e-01,  2.65754004e+00,  8.49126898e-01],\n",
              "       [-1.34928528e+00,  2.11800147e+00, -4.76523208e-02],\n",
              "       [-1.56448261e+00,  1.85221452e+00,  7.81067031e-01],\n",
              "       [-1.93255561e+00,  1.55949546e+00, -8.92746761e-02],\n",
              "       [ 7.46665942e-01,  2.31293171e+00,  1.14679769e-01],\n",
              "       [ 9.57455364e-01,  2.22352843e+00,  1.42444774e-01],\n",
              "       [ 2.54386518e+00, -1.69274023e-01,  7.88696991e-01],\n",
              "       [-5.43952589e-01,  3.68926546e-01,  1.30889593e+00],\n",
              "       [ 1.03104975e+00,  2.56556935e+00, -1.08639017e+00],\n",
              "       [ 2.25190942e+00,  1.43274138e+00, -2.30208244e-01],\n",
              "       [ 1.41021602e+00,  2.16619177e+00,  7.48896411e-01],\n",
              "       [ 7.97719793e-01,  2.37694880e+00, -1.56811253e+00],\n",
              "       [-5.49531727e-01,  2.29312864e+00, -1.49893532e+00],\n",
              "       [-1.61173740e-01,  1.16448332e+00,  1.00371310e+00],\n",
              "       [-6.59794942e-01,  2.67996119e+00, -7.64920868e-01],\n",
              "       [ 3.92354408e-01,  2.09873171e+00, -4.71850008e-01],\n",
              "       [-1.77249908e+00,  1.71728847e+00,  9.47033174e-01],\n",
              "       [-3.66267357e-01,  2.16935330e+00, -4.81324235e-01],\n",
              "       [-1.62067257e+00,  1.35558339e+00,  2.87159001e-01],\n",
              "       [ 8.25357835e-02,  2.30623459e+00, -4.63574989e-01],\n",
              "       [ 1.57827507e+00,  1.46203429e+00,  1.77964595e+00],\n",
              "       [ 1.42056925e+00,  1.41820664e+00,  1.39275829e-01],\n",
              "       [-2.78702754e-01,  1.93056809e+00,  7.86705530e-02],\n",
              "       [-1.30314497e+00,  7.63172314e-01,  1.99959651e+00],\n",
              "       [-4.57071866e-01,  2.26941561e+00,  1.06133897e+00],\n",
              "       [-4.94185847e-01,  1.93904505e+00,  1.32393807e+00],\n",
              "       [ 4.82074410e-01,  3.87178385e+00,  1.34427122e+00],\n",
              "       [-2.52888878e-01,  2.82149237e+00, -3.02639785e-01],\n",
              "       [-1.07227638e-01,  1.92892204e+00,  6.90148243e-01],\n",
              "       [-2.43301260e+00,  1.25714104e+00, -1.90302740e+00],\n",
              "       [-5.51089539e-01,  2.22216155e+00, -3.56228830e-01],\n",
              "       [ 7.39621929e-01,  1.40895667e+00,  1.12534549e+00],\n",
              "       [ 1.33632173e+00, -2.53336931e-01,  5.34538818e+00],\n",
              "       [-1.17708700e+00,  6.63966840e-01,  3.01022189e+00],\n",
              "       [-4.62335008e-01,  6.18288179e-01,  4.83442366e-01],\n",
              "       [ 9.78474079e-01,  1.44557050e+00,  1.48123697e+00],\n",
              "       [-9.68097263e-02,  2.10999799e+00,  4.34826116e-01],\n",
              "       [ 3.84871459e-02,  1.26676211e+00,  6.87577913e-01],\n",
              "       [-1.59715850e+00,  1.20814357e+00,  3.36117556e+00],\n",
              "       [-4.79564916e-01,  1.93884066e+00,  1.29650752e+00],\n",
              "       [-1.79283347e+00,  1.15028810e+00,  7.82800173e-01],\n",
              "       [-1.32710166e+00, -1.70389232e-01, -1.18001336e+00],\n",
              "       [-2.38450083e+00, -3.74582606e-01, -7.23822595e-01],\n",
              "       [-2.93694010e+00, -2.63861830e-01, -1.67639816e-01],\n",
              "       [-2.14681113e+00, -3.68254952e-01, -4.53301301e-01],\n",
              "       [-2.36986949e+00,  4.59634809e-01, -1.10139979e+00],\n",
              "       [-3.06384157e+00, -3.53412835e-01, -1.09912410e+00],\n",
              "       [-3.91575378e+00, -1.54582519e-01,  2.21827800e-01],\n",
              "       [-3.93646339e+00, -6.59687233e-01,  1.71221542e+00],\n",
              "       [-3.09427612e+00, -3.48842759e-01, -1.02683141e+00],\n",
              "       [-2.37447163e+00, -2.91980352e-01,  1.24191433e+00],\n",
              "       [-2.77881295e+00, -2.86804873e-01,  6.09670124e-01],\n",
              "       [-2.28656128e+00, -3.72507845e-01, -9.71643032e-01],\n",
              "       [-2.98563349e+00, -4.89217908e-01,  9.46952932e-01],\n",
              "       [-2.37519470e+00, -4.82333717e-01, -2.52883994e-01],\n",
              "       [-2.20986553e+00, -1.16005250e+00, -1.24512523e+00],\n",
              "       [-2.62562100e+00, -5.63160764e-01, -8.55961082e-01],\n",
              "       [-4.28063878e+00, -6.49670964e-01, -1.45819696e+00],\n",
              "       [-3.58264137e+00, -1.27270275e+00, -1.10784038e-01],\n",
              "       [-2.80706372e+00, -1.57053379e+00, -4.72527935e-01],\n",
              "       [-2.89965933e+00, -2.04105701e+00, -4.95959810e-01],\n",
              "       [-2.32073698e+00, -2.35636608e+00,  4.37681744e-01],\n",
              "       [-2.54983095e+00, -2.04528309e+00, -3.12267999e-01],\n",
              "       [-1.81254128e+00, -1.52764595e+00,  1.36258978e+00],\n",
              "       [-2.76014464e+00, -2.13893235e+00, -9.64628688e-01],\n",
              "       [-2.73715050e+00, -4.09886271e-01, -1.19040468e+00],\n",
              "       [-3.60486887e+00, -1.80238422e+00, -9.40368613e-02],\n",
              "       [-2.88982600e+00, -1.92521861e+00, -7.82322556e-01],\n",
              "       [-3.39215608e+00, -1.31187639e+00,  1.60202597e+00],\n",
              "       [-1.04818190e+00, -3.51508969e+00,  1.16003857e+00],\n",
              "       [-1.60991228e+00, -2.40663816e+00,  5.48559697e-01],\n",
              "       [-3.14313097e+00, -7.38161044e-01, -9.09987239e-02],\n",
              "       [-2.24015690e+00, -1.17546529e+00, -1.01376932e-01],\n",
              "       [-2.84767378e+00, -5.56043966e-01,  8.04215218e-01],\n",
              "       [-2.59749706e+00, -6.97965537e-01, -8.84939521e-01],\n",
              "       [-2.94929937e+00, -1.55530896e+00, -9.83400727e-01],\n",
              "       [-3.53003227e+00, -8.82526796e-01, -4.66029128e-01],\n",
              "       [-2.40611054e+00, -2.59235618e+00,  4.28226211e-01],\n",
              "       [-2.92908473e+00, -1.27444695e+00, -1.21335827e+00],\n",
              "       [-2.18141278e+00, -2.07753731e+00,  7.63782552e-01],\n",
              "       [-2.38092779e+00, -2.58866743e+00,  1.41804403e+00],\n",
              "       [-3.21161722e+00,  2.51249104e-01, -8.47129152e-01],\n",
              "       [-3.67791872e+00, -8.47747844e-01, -1.33942023e+00],\n",
              "       [-2.46555580e+00, -2.19379830e+00, -9.18780960e-01],\n",
              "       [-3.37052415e+00, -2.21628914e+00, -3.42569512e-01],\n",
              "       [-2.60195585e+00, -1.75722935e+00,  2.07581355e-01],\n",
              "       [-2.67783946e+00, -2.76089913e+00, -9.40941877e-01],\n",
              "       [-2.38701709e+00, -2.29734668e+00, -5.50696197e-01],\n",
              "       [-3.20875816e+00, -2.76891957e+00,  1.01391366e+00]])"
            ]
          },
          "metadata": {},
          "execution_count": 8
        }
      ]
    },
    {
      "cell_type": "code",
      "source": [
        "var=pca.explained_variance_ratio_\n",
        "var"
      ],
      "metadata": {
        "colab": {
          "base_uri": "https://localhost:8080/"
        },
        "id": "l6agPZ-J2Ug_",
        "outputId": "803e2fda-8a86-4fa8-85eb-39724f1abe37"
      },
      "execution_count": 9,
      "outputs": [
        {
          "output_type": "execute_result",
          "data": {
            "text/plain": [
              "array([0.36198848, 0.1920749 , 0.11123631])"
            ]
          },
          "metadata": {},
          "execution_count": 9
        }
      ]
    },
    {
      "cell_type": "code",
      "source": [
        "var1=np.cumsum(np.round(var,decimals=4)*100)\n",
        "var1"
      ],
      "metadata": {
        "colab": {
          "base_uri": "https://localhost:8080/"
        },
        "id": "18NqT8we2eAZ",
        "outputId": "b820268f-1476-4cc6-d2a3-b898c27eaa8f"
      },
      "execution_count": 10,
      "outputs": [
        {
          "output_type": "execute_result",
          "data": {
            "text/plain": [
              "array([36.2 , 55.41, 66.53])"
            ]
          },
          "metadata": {},
          "execution_count": 10
        }
      ]
    },
    {
      "cell_type": "code",
      "source": [
        "pca.components_"
      ],
      "metadata": {
        "colab": {
          "base_uri": "https://localhost:8080/"
        },
        "id": "-vk43rYq20IU",
        "outputId": "c4aac362-5cd6-4b50-eecc-6581cf5f2a9d"
      },
      "execution_count": 11,
      "outputs": [
        {
          "output_type": "execute_result",
          "data": {
            "text/plain": [
              "array([[ 0.1443294 , -0.24518758, -0.00205106, -0.23932041,  0.14199204,\n",
              "         0.39466085,  0.4229343 , -0.2985331 ,  0.31342949, -0.0886167 ,\n",
              "         0.29671456,  0.37616741,  0.28675223],\n",
              "       [-0.48365155, -0.22493093, -0.31606881,  0.0105905 , -0.299634  ,\n",
              "        -0.06503951,  0.00335981, -0.02877949, -0.03930172, -0.52999567,\n",
              "         0.27923515,  0.16449619, -0.36490283],\n",
              "       [-0.20738262,  0.08901289,  0.6262239 ,  0.61208035,  0.13075693,\n",
              "         0.14617896,  0.1506819 ,  0.17036816,  0.14945431, -0.13730621,\n",
              "         0.08522192,  0.16600459, -0.12674592]])"
            ]
          },
          "metadata": {},
          "execution_count": 11
        }
      ]
    },
    {
      "cell_type": "code",
      "source": [
        "plt.plot(var1,color='red') #variance plot for PCA components obtained"
      ],
      "metadata": {
        "colab": {
          "base_uri": "https://localhost:8080/",
          "height": 282
        },
        "id": "bk3AFqZb24cd",
        "outputId": "9b4751db-7c72-4792-d56d-d53ac446f083"
      },
      "execution_count": 12,
      "outputs": [
        {
          "output_type": "execute_result",
          "data": {
            "text/plain": [
              "[<matplotlib.lines.Line2D at 0x7fc2cb84bbd0>]"
            ]
          },
          "metadata": {},
          "execution_count": 12
        },
        {
          "output_type": "display_data",
          "data": {
            "text/plain": [
              "<Figure size 432x288 with 1 Axes>"
            ],
            "image/png": "[encoded data removed]"
          },
          "metadata": {
            "needs_background": "light"
          }
        }
      ]
    },
    {
      "cell_type": "code",
      "source": [
        "wine_pca[:,0:1]"
      ],
      "metadata": {
        "colab": {
          "base_uri": "https://localhost:8080/"
        },
        "id": "wIB83H_y3Tjk",
        "outputId": "4ca11a82-940a-4964-9c6e-b0d6c4fa18ce"
      },
      "execution_count": 13,
      "outputs": [
        {
          "output_type": "execute_result",
          "data": {
            "text/plain": [
              "array([[ 3.31675081],\n",
              "       [ 2.20946492],\n",
              "       [ 2.51674015],\n",
              "       [ 3.75706561],\n",
              "       [ 1.00890849],\n",
              "       [ 3.05025392],\n",
              "       [ 2.44908967],\n",
              "       [ 2.05943687],\n",
              "       [ 2.5108743 ],\n",
              "       [ 2.75362819],\n",
              "       [ 3.47973668],\n",
              "       [ 1.7547529 ],\n",
              "       [ 2.11346234],\n",
              "       [ 3.45815682],\n",
              "       [ 4.31278391],\n",
              "       [ 2.3051882 ],\n",
              "       [ 2.17195527],\n",
              "       [ 1.89897118],\n",
              "       [ 3.54198508],\n",
              "       [ 2.0845222 ],\n",
              "       [ 3.12440254],\n",
              "       [ 1.08657007],\n",
              "       [ 2.53522408],\n",
              "       [ 1.64498834],\n",
              "       [ 1.76157587],\n",
              "       [ 0.9900791 ],\n",
              "       [ 1.77527763],\n",
              "       [ 1.23542396],\n",
              "       [ 2.18840633],\n",
              "       [ 2.25610898],\n",
              "       [ 2.50022003],\n",
              "       [ 2.67741105],\n",
              "       [ 1.62857912],\n",
              "       [ 1.90269086],\n",
              "       [ 1.41038853],\n",
              "       [ 1.90382623],\n",
              "       [ 1.38486223],\n",
              "       [ 1.12220741],\n",
              "       [ 1.5021945 ],\n",
              "       [ 2.52980109],\n",
              "       [ 2.58809543],\n",
              "       [ 0.66848199],\n",
              "       [ 3.07080699],\n",
              "       [ 0.46220914],\n",
              "       [ 2.10135193],\n",
              "       [ 1.13616618],\n",
              "       [ 2.72660096],\n",
              "       [ 2.82133927],\n",
              "       [ 2.00985085],\n",
              "       [ 2.7074913 ],\n",
              "       [ 3.21491747],\n",
              "       [ 2.85895983],\n",
              "       [ 3.50560436],\n",
              "       [ 2.22479138],\n",
              "       [ 2.14698782],\n",
              "       [ 2.46932948],\n",
              "       [ 2.74151791],\n",
              "       [ 2.17374092],\n",
              "       [ 3.13938015],\n",
              "       [-0.92858197],\n",
              "       [-1.54248014],\n",
              "       [-1.83624976],\n",
              "       [ 0.03060683],\n",
              "       [ 2.05026161],\n",
              "       [-0.60968083],\n",
              "       [ 0.90022784],\n",
              "       [ 2.24850719],\n",
              "       [ 0.18338403],\n",
              "       [-0.81280503],\n",
              "       [ 1.9756205 ],\n",
              "       [-1.57221622],\n",
              "       [ 1.65768181],\n",
              "       [-0.72537239],\n",
              "       [ 2.56222717],\n",
              "       [ 1.83256757],\n",
              "       [-0.8679929 ],\n",
              "       [ 0.3700144 ],\n",
              "       [-1.45737704],\n",
              "       [ 1.26293085],\n",
              "       [ 0.37615037],\n",
              "       [ 0.7620639 ],\n",
              "       [ 1.03457797],\n",
              "       [-0.49487676],\n",
              "       [-2.53897708],\n",
              "       [ 0.83532015],\n",
              "       [ 0.78790461],\n",
              "       [-0.80683216],\n",
              "       [-0.55804262],\n",
              "       [-1.11511104],\n",
              "       [-0.55572283],\n",
              "       [-1.34928528],\n",
              "       [-1.56448261],\n",
              "       [-1.93255561],\n",
              "       [ 0.74666594],\n",
              "       [ 0.95745536],\n",
              "       [ 2.54386518],\n",
              "       [-0.54395259],\n",
              "       [ 1.03104975],\n",
              "       [ 2.25190942],\n",
              "       [ 1.41021602],\n",
              "       [ 0.79771979],\n",
              "       [-0.54953173],\n",
              "       [-0.16117374],\n",
              "       [-0.65979494],\n",
              "       [ 0.39235441],\n",
              "       [-1.77249908],\n",
              "       [-0.36626736],\n",
              "       [-1.62067257],\n",
              "       [ 0.08253578],\n",
              "       [ 1.57827507],\n",
              "       [ 1.42056925],\n",
              "       [-0.27870275],\n",
              "       [-1.30314497],\n",
              "       [-0.45707187],\n",
              "       [-0.49418585],\n",
              "       [ 0.48207441],\n",
              "       [-0.25288888],\n",
              "       [-0.10722764],\n",
              "       [-2.4330126 ],\n",
              "       [-0.55108954],\n",
              "       [ 0.73962193],\n",
              "       [ 1.33632173],\n",
              "       [-1.177087  ],\n",
              "       [-0.46233501],\n",
              "       [ 0.97847408],\n",
              "       [-0.09680973],\n",
              "       [ 0.03848715],\n",
              "       [-1.5971585 ],\n",
              "       [-0.47956492],\n",
              "       [-1.79283347],\n",
              "       [-1.32710166],\n",
              "       [-2.38450083],\n",
              "       [-2.9369401 ],\n",
              "       [-2.14681113],\n",
              "       [-2.36986949],\n",
              "       [-3.06384157],\n",
              "       [-3.91575378],\n",
              "       [-3.93646339],\n",
              "       [-3.09427612],\n",
              "       [-2.37447163],\n",
              "       [-2.77881295],\n",
              "       [-2.28656128],\n",
              "       [-2.98563349],\n",
              "       [-2.3751947 ],\n",
              "       [-2.20986553],\n",
              "       [-2.625621  ],\n",
              "       [-4.28063878],\n",
              "       [-3.58264137],\n",
              "       [-2.80706372],\n",
              "       [-2.89965933],\n",
              "       [-2.32073698],\n",
              "       [-2.54983095],\n",
              "       [-1.81254128],\n",
              "       [-2.76014464],\n",
              "       [-2.7371505 ],\n",
              "       [-3.60486887],\n",
              "       [-2.889826  ],\n",
              "       [-3.39215608],\n",
              "       [-1.0481819 ],\n",
              "       [-1.60991228],\n",
              "       [-3.14313097],\n",
              "       [-2.2401569 ],\n",
              "       [-2.84767378],\n",
              "       [-2.59749706],\n",
              "       [-2.94929937],\n",
              "       [-3.53003227],\n",
              "       [-2.40611054],\n",
              "       [-2.92908473],\n",
              "       [-2.18141278],\n",
              "       [-2.38092779],\n",
              "       [-3.21161722],\n",
              "       [-3.67791872],\n",
              "       [-2.4655558 ],\n",
              "       [-3.37052415],\n",
              "       [-2.60195585],\n",
              "       [-2.67783946],\n",
              "       [-2.38701709],\n",
              "       [-3.20875816]])"
            ]
          },
          "metadata": {},
          "execution_count": 13
        }
      ]
    },
    {
      "cell_type": "code",
      "source": [
        "#plot between PCA1 and PCA2\n",
        "x=wine_pca[:,0:1]\n",
        "y=wine_pca[:,1:2]\n",
        "plt.scatter(x,y)"
      ],
      "metadata": {
        "colab": {
          "base_uri": "https://localhost:8080/",
          "height": 282
        },
        "id": "vRk-rqJ931BZ",
        "outputId": "a9779fb4-80d1-439e-c1f6-3e9ed25ee03c"
      },
      "execution_count": 14,
      "outputs": [
        {
          "output_type": "execute_result",
          "data": {
            "text/plain": [
              "<matplotlib.collections.PathCollection at 0x7fc2cb34ca10>"
            ]
          },
          "metadata": {},
          "execution_count": 14
        },
        {
          "output_type": "display_data",
          "data": {
            "text/plain": [
              "<Figure size 432x288 with 1 Axes>"
            ],
            "image/png": "[encoded data removed]"
          },
          "metadata": {
            "needs_background": "light"
          }
        }
      ]
    },
    {
      "cell_type": "code",
      "source": [
        "finalDF=pd.concat([pd.DataFrame(wine_pca[:,0:2],columns=['pc1','pc2']), wine_org[['Type']]],axis=1)"
      ],
      "metadata": {
        "id": "SIw07h5z1C2X"
      },
      "execution_count": 15,
      "outputs": []
    },
    {
      "cell_type": "code",
      "source": [
        "finalDF"
      ],
      "metadata": {
        "colab": {
          "base_uri": "https://localhost:8080/",
          "height": 424
        },
        "id": "H_hQkmno-p50",
        "outputId": "c9fe7c6a-5594-4578-8499-34822a4dd226"
      },
      "execution_count": 16,
      "outputs": [
        {
          "output_type": "execute_result",
          "data": {
            "text/plain": [
              "          pc1       pc2  Type\n",
              "0    3.316751 -1.443463     1\n",
              "1    2.209465  0.333393     1\n",
              "2    2.516740 -1.031151     1\n",
              "3    3.757066 -2.756372     1\n",
              "4    1.008908 -0.869831     1\n",
              "..        ...       ...   ...\n",
              "173 -3.370524 -2.216289     3\n",
              "174 -2.601956 -1.757229     3\n",
              "175 -2.677839 -2.760899     3\n",
              "176 -2.387017 -2.297347     3\n",
              "177 -3.208758 -2.768920     3\n",
              "\n",
              "[178 rows x 3 columns]"
            ],
            "text/html": [
              "\n",
              "  <div id=\"df-7df7c3e9-9698-4097-b804-8f71cfd82981\">\n",
              "    <div class=\"colab-df-container\">\n",
              "      <div>\n",
              "<style scoped>\n",
              "    .dataframe tbody tr th:only-of-type {\n",
              "        vertical-align: middle;\n",
              "    }\n",
              "\n",
              "    .dataframe tbody tr th {\n",
              "        vertical-align: top;\n",
              "    }\n",
              "\n",
              "    .dataframe thead th {\n",
              "        text-align: right;\n",
              "    }\n",
              "</style>\n",
              "<table border=\"1\" class=\"dataframe\">\n",
              "  <thead>\n",
              "    <tr style=\"text-align: right;\">\n",
              "      <th></th>\n",
              "      <th>pc1</th>\n",
              "      <th>pc2</th>\n",
              "      <th>Type</th>\n",
              "    </tr>\n",
              "  </thead>\n",
              "  <tbody>\n",
              "    <tr>\n",
              "      <th>0</th>\n",
              "      <td>3.316751</td>\n",
              "      <td>-1.443463</td>\n",
              "      <td>1</td>\n",
              "    </tr>\n",
              "    <tr>\n",
              "      <th>1</th>\n",
              "      <td>2.209465</td>\n",
              "      <td>0.333393</td>\n",
              "      <td>1</td>\n",
              "    </tr>\n",
              "    <tr>\n",
              "      <th>2</th>\n",
              "      <td>2.516740</td>\n",
              "      <td>-1.031151</td>\n",
              "      <td>1</td>\n",
              "    </tr>\n",
              "    <tr>\n",
              "      <th>3</th>\n",
              "      <td>3.757066</td>\n",
              "      <td>-2.756372</td>\n",
              "      <td>1</td>\n",
              "    </tr>\n",
              "    <tr>\n",
              "      <th>4</th>\n",
              "      <td>1.008908</td>\n",
              "      <td>-0.869831</td>\n",
              "      <td>1</td>\n",
              "    </tr>\n",
              "    <tr>\n",
              "      <th>...</th>\n",
              "      <td>...</td>\n",
              "      <td>...</td>\n",
              "      <td>...</td>\n",
              "    </tr>\n",
              "    <tr>\n",
              "      <th>173</th>\n",
              "      <td>-3.370524</td>\n",
              "      <td>-2.216289</td>\n",
              "      <td>3</td>\n",
              "    </tr>\n",
              "    <tr>\n",
              "      <th>174</th>\n",
              "      <td>-2.601956</td>\n",
              "      <td>-1.757229</td>\n",
              "      <td>3</td>\n",
              "    </tr>\n",
              "    <tr>\n",
              "      <th>175</th>\n",
              "      <td>-2.677839</td>\n",
              "      <td>-2.760899</td>\n",
              "      <td>3</td>\n",
              "    </tr>\n",
              "    <tr>\n",
              "      <th>176</th>\n",
              "      <td>-2.387017</td>\n",
              "      <td>-2.297347</td>\n",
              "      <td>3</td>\n",
              "    </tr>\n",
              "    <tr>\n",
              "      <th>177</th>\n",
              "      <td>-3.208758</td>\n",
              "      <td>-2.768920</td>\n",
              "      <td>3</td>\n",
              "    </tr>\n",
              "  </tbody>\n",
              "</table>\n",
              "<p>178 rows × 3 columns</p>\n",
              "</div>\n",
              "      <button class=\"colab-df-convert\" onclick=\"convertToInteractive('df-7df7c3e9-9698-4097-b804-8f71cfd82981')\"\n",
              "              title=\"Convert this dataframe to an interactive table.\"\n",
              "              style=\"display:none;\">\n",
              "        \n",
              "  <svg xmlns=\"http://www.w3.org/2000/svg\" height=\"24px\"viewBox=\"0 0 24 24\"\n",
              "       width=\"24px\">\n",
              "    <path d=\"M0 0h24v24H0V0z\" fill=\"none\"/>\n",
              "    <path d=\"M18.56 5.44l.94 2.06.94-2.06 2.06-.94-2.06-.94-.94-2.06-.94 2.06-2.06.94zm-11 1L8.5 8.5l.94-2.06 2.06-.94-2.06-.94L8.5 2.5l-.94 2.06-2.06.94zm10 10l.94 2.06.94-2.06 2.06-.94-2.06-.94-.94-2.06-.94 2.06-2.06.94z\"/><path d=\"M17.41 7.96l-1.37-1.37c-.4-.4-.92-.59-1.43-.59-.52 0-1.04.2-1.43.59L10.3 9.45l-7.72 7.72c-.78.78-.78 2.05 0 2.83L4 21.41c.39.39.9.59 1.41.59.51 0 1.02-.2 1.41-.59l7.78-7.78 2.81-2.81c.8-.78.8-2.07 0-2.86zM5.41 20L4 18.59l7.72-7.72 1.47 1.35L5.41 20z\"/>\n",
              "  </svg>\n",
              "      </button>\n",
              "      \n",
              "  <style>\n",
              "    .colab-df-container {\n",
              "      display:flex;\n",
              "      flex-wrap:wrap;\n",
              "      gap: 12px;\n",
              "    }\n",
              "\n",
              "    .colab-df-convert {\n",
              "      background-color: #E8F0FE;\n",
              "      border: none;\n",
              "      border-radius: 50%;\n",
              "      cursor: pointer;\n",
              "      display: none;\n",
              "      fill: #1967D2;\n",
              "      height: 32px;\n",
              "      padding: 0 0 0 0;\n",
              "      width: 32px;\n",
              "    }\n",
              "\n",
              "    .colab-df-convert:hover {\n",
              "      background-color: #E2EBFA;\n",
              "      box-shadow: 0px 1px 2px rgba(60, 64, 67, 0.3), 0px 1px 3px 1px rgba(60, 64, 67, 0.15);\n",
              "      fill: #174EA6;\n",
              "    }\n",
              "\n",
              "    [theme=dark] .colab-df-convert {\n",
              "      background-color: #3B4455;\n",
              "      fill: #D2E3FC;\n",
              "    }\n",
              "\n",
              "    [theme=dark] .colab-df-convert:hover {\n",
              "      background-color: #434B5C;\n",
              "      box-shadow: 0px 1px 3px 1px rgba(0, 0, 0, 0.15);\n",
              "      filter: drop-shadow(0px 1px 2px rgba(0, 0, 0, 0.3));\n",
              "      fill: #FFFFFF;\n",
              "    }\n",
              "  </style>\n",
              "\n",
              "      <script>\n",
              "        const buttonEl =\n",
              "          document.querySelector('#df-7df7c3e9-9698-4097-b804-8f71cfd82981 button.colab-df-convert');\n",
              "        buttonEl.style.display =\n",
              "          google.colab.kernel.accessAllowed ? 'block' : 'none';\n",
              "\n",
              "        async function convertToInteractive(key) {\n",
              "          const element = document.querySelector('#df-7df7c3e9-9698-4097-b804-8f71cfd82981');\n",
              "          const dataTable =\n",
              "            await google.colab.kernel.invokeFunction('convertToInteractive',\n",
              "                                                     [key], {});\n",
              "          if (!dataTable) return;\n",
              "\n",
              "          const docLinkHtml = 'Like what you see? Visit the ' +\n",
              "            '<a target=\"_blank\" href=https://colab.research.google.com/notebooks/data_table.ipynb>data table notebook</a>'\n",
              "            + ' to learn more about interactive tables.';\n",
              "          element.innerHTML = '';\n",
              "          dataTable['output_type'] = 'display_data';\n",
              "          await google.colab.output.renderOutput(dataTable, element);\n",
              "          const docLink = document.createElement('div');\n",
              "          docLink.innerHTML = docLinkHtml;\n",
              "          element.appendChild(docLink);\n",
              "        }\n",
              "      </script>\n",
              "    </div>\n",
              "  </div>\n",
              "  "
            ]
          },
          "metadata": {},
          "execution_count": 16
        }
      ]
    },
    {
      "cell_type": "code",
      "source": [
        "import seaborn as sns\n",
        "sns.scatterplot(data=finalDF,x='pc1', y='pc2', hue='Type')"
      ],
      "metadata": {
        "colab": {
          "base_uri": "https://localhost:8080/",
          "height": 296
        },
        "id": "UGx9hG1TCaxS",
        "outputId": "b5d213b7-37a8-45e7-f819-9bd024683549"
      },
      "execution_count": 17,
      "outputs": [
        {
          "output_type": "execute_result",
          "data": {
            "text/plain": [
              "<matplotlib.axes._subplots.AxesSubplot at 0x7fc2cb1cb9d0>"
            ]
          },
          "metadata": {},
          "execution_count": 17
        },
        {
          "output_type": "display_data",
          "data": {
            "text/plain": [
              "<Figure size 432x288 with 1 Axes>"
            ],
            "image/png": "[encoded data removed]"
          },
          "metadata": {
            "needs_background": "light"
          }
        }
      ]
    },
    {
      "cell_type": "code",
      "source": [
        ""
      ],
      "metadata": {
        "id": "mJVo3YTw9FqH"
      },
      "execution_count": 17,
      "outputs": []
    },
    {
      "cell_type": "markdown",
      "source": [
        "# application of kmeans clustering on three pca dataset (3 components)"
      ],
      "metadata": {
        "id": "otFxKdQGMjoc"
      }
    },
    {
      "cell_type": "code",
      "source": [
        "from sklearn.cluster import KMeans\n",
        "from sklearn.preprocessing import StandardScaler\n",
        "scaler=StandardScaler()\n",
        "scaled_wine_df=scaler.fit_transform(wine_pca)"
      ],
      "metadata": {
        "id": "xGSsTI7BMtLj"
      },
      "execution_count": 18,
      "outputs": []
    },
    {
      "cell_type": "code",
      "source": [
        "wcss=[]\n",
        "for i in range(1,11):\n",
        "  kmeans=KMeans(n_clusters=i,random_state=0)\n",
        "  kmeans.fit(scaled_wine_df)\n",
        "  wcss.append(kmeans.inertia_)\n",
        "\n",
        "plt.plot(range(1,11),wcss)\n",
        "plt.title('Elbow method to determine no.of clusters')\n",
        "plt.xlabel('number of clusters')\n",
        "plt.ylabel('WCSS')\n",
        "plt.show()"
      ],
      "metadata": {
        "colab": {
          "base_uri": "https://localhost:8080/",
          "height": 295
        },
        "id": "wpzPjpBmfzli",
        "outputId": "5ea06575-06d2-4705-c7e8-af74b0cc8c6c"
      },
      "execution_count": 19,
      "outputs": [
        {
          "output_type": "display_data",
          "data": {
            "text/plain": [
              "<Figure size 432x288 with 1 Axes>"
            ],
            "image/png": "[encoded data removed]"
          },
          "metadata": {
            "needs_background": "light"
          }
        }
      ]
    },
    {
      "cell_type": "code",
      "source": [
        "#from the above graph we can say that the no.of cluster to be chosen are three"
      ],
      "metadata": {
        "id": "wFszgGZ8gcLc"
      },
      "execution_count": 20,
      "outputs": []
    },
    {
      "cell_type": "code",
      "source": [
        "#kvalue=3\n",
        "#building the cluster algorithm\n",
        "from sklearn.cluster import KMeans\n",
        "clusters_new=KMeans(3,random_state=34)\n",
        "clusters_new.fit(scaled_wine_df)"
      ],
      "metadata": {
        "colab": {
          "base_uri": "https://localhost:8080/"
        },
        "id": "hs1sbLqVgpMN",
        "outputId": "d4e85b25-f5e7-4cc2-e1e6-0595cdea9123"
      },
      "execution_count": 21,
      "outputs": [
        {
          "output_type": "execute_result",
          "data": {
            "text/plain": [
              "KMeans(n_clusters=3, random_state=34)"
            ]
          },
          "metadata": {},
          "execution_count": 21
        }
      ]
    },
    {
      "cell_type": "code",
      "source": [
        "clusters_new.labels_"
      ],
      "metadata": {
        "colab": {
          "base_uri": "https://localhost:8080/"
        },
        "id": "b9RFxiA5hJEK",
        "outputId": "9de90a84-288d-46be-afec-141ef2d83c3a"
      },
      "execution_count": 22,
      "outputs": [
        {
          "output_type": "execute_result",
          "data": {
            "text/plain": [
              "array([1, 1, 1, 1, 1, 1, 1, 1, 1, 1, 1, 1, 1, 1, 1, 1, 1, 1, 1, 1, 1, 1,\n",
              "       1, 1, 1, 1, 1, 1, 1, 1, 1, 1, 1, 1, 1, 1, 1, 1, 1, 1, 1, 1, 1, 1,\n",
              "       1, 1, 1, 1, 1, 1, 1, 1, 1, 1, 1, 1, 1, 1, 1, 2, 2, 0, 2, 2, 2, 2,\n",
              "       2, 2, 0, 2, 2, 2, 2, 1, 2, 2, 2, 2, 1, 2, 2, 2, 2, 0, 2, 2, 2, 2,\n",
              "       2, 2, 2, 2, 2, 2, 2, 1, 2, 2, 2, 2, 2, 2, 2, 2, 2, 2, 2, 2, 2, 2,\n",
              "       2, 2, 2, 2, 2, 2, 2, 2, 0, 2, 2, 2, 2, 2, 2, 2, 2, 2, 2, 2, 0, 0,\n",
              "       0, 0, 0, 0, 0, 0, 0, 0, 0, 0, 0, 0, 0, 0, 0, 0, 0, 0, 0, 0, 0, 0,\n",
              "       0, 0, 0, 0, 0, 0, 0, 0, 0, 0, 0, 0, 0, 0, 0, 0, 0, 0, 0, 0, 0, 0,\n",
              "       0, 0], dtype=int32)"
            ]
          },
          "metadata": {},
          "execution_count": 22
        }
      ]
    },
    {
      "cell_type": "code",
      "source": [
        "#assigning cluster id as per the kmeans algorithm with k value=3 to the dataset\n",
        "wine['k clusterid']=clusters_new.labels_"
      ],
      "metadata": {
        "id": "9f0ZmRl8hTIv"
      },
      "execution_count": 23,
      "outputs": []
    },
    {
      "cell_type": "code",
      "source": [
        "wine"
      ],
      "metadata": {
        "colab": {
          "base_uri": "https://localhost:8080/",
          "height": 424
        },
        "id": "6Hk0cizrhmBA",
        "outputId": "3791603e-5a31-481d-aebe-87d3b6bdd880"
      },
      "execution_count": 24,
      "outputs": [
        {
          "output_type": "execute_result",
          "data": {
            "text/plain": [
              "     Alcohol  Malic   Ash  Alcalinity  Magnesium  Phenols  Flavanoids  \\\n",
              "0      14.23   1.71  2.43        15.6        127     2.80        3.06   \n",
              "1      13.20   1.78  2.14        11.2        100     2.65        2.76   \n",
              "2      13.16   2.36  2.67        18.6        101     2.80        3.24   \n",
              "3      14.37   1.95  2.50        16.8        113     3.85        3.49   \n",
              "4      13.24   2.59  2.87        21.0        118     2.80        2.69   \n",
              "..       ...    ...   ...         ...        ...      ...         ...   \n",
              "173    13.71   5.65  2.45        20.5         95     1.68        0.61   \n",
              "174    13.40   3.91  2.48        23.0        102     1.80        0.75   \n",
              "175    13.27   4.28  2.26        20.0        120     1.59        0.69   \n",
              "176    13.17   2.59  2.37        20.0        120     1.65        0.68   \n",
              "177    14.13   4.10  2.74        24.5         96     2.05        0.76   \n",
              "\n",
              "     Nonflavanoids  Proanthocyanins  Color   Hue  Dilution  Proline  \\\n",
              "0             0.28             2.29   5.64  1.04      3.92     1065   \n",
              "1             0.26             1.28   4.38  1.05      3.40     1050   \n",
              "2             0.30             2.81   5.68  1.03      3.17     1185   \n",
              "3             0.24             2.18   7.80  0.86      3.45     1480   \n",
              "4             0.39             1.82   4.32  1.04      2.93      735   \n",
              "..             ...              ...    ...   ...       ...      ...   \n",
              "173           0.52             1.06   7.70  0.64      1.74      740   \n",
              "174           0.43             1.41   7.30  0.70      1.56      750   \n",
              "175           0.43             1.35  10.20  0.59      1.56      835   \n",
              "176           0.53             1.46   9.30  0.60      1.62      840   \n",
              "177           0.56             1.35   9.20  0.61      1.60      560   \n",
              "\n",
              "     k clusterid  \n",
              "0              1  \n",
              "1              1  \n",
              "2              1  \n",
              "3              1  \n",
              "4              1  \n",
              "..           ...  \n",
              "173            0  \n",
              "174            0  \n",
              "175            0  \n",
              "176            0  \n",
              "177            0  \n",
              "\n",
              "[178 rows x 14 columns]"
            ],
            "text/html": [
              "\n",
              "  <div id=\"df-44a92b13-0e37-427e-94db-388fc139e7c4\">\n",
              "    <div class=\"colab-df-container\">\n",
              "      <div>\n",
              "<style scoped>\n",
              "    .dataframe tbody tr th:only-of-type {\n",
              "        vertical-align: middle;\n",
              "    }\n",
              "\n",
              "    .dataframe tbody tr th {\n",
              "        vertical-align: top;\n",
              "    }\n",
              "\n",
              "    .dataframe thead th {\n",
              "        text-align: right;\n",
              "    }\n",
              "</style>\n",
              "<table border=\"1\" class=\"dataframe\">\n",
              "  <thead>\n",
              "    <tr style=\"text-align: right;\">\n",
              "      <th></th>\n",
              "      <th>Alcohol</th>\n",
              "      <th>Malic</th>\n",
              "      <th>Ash</th>\n",
              "      <th>Alcalinity</th>\n",
              "      <th>Magnesium</th>\n",
              "      <th>Phenols</th>\n",
              "      <th>Flavanoids</th>\n",
              "      <th>Nonflavanoids</th>\n",
              "      <th>Proanthocyanins</th>\n",
              "      <th>Color</th>\n",
              "      <th>Hue</th>\n",
              "      <th>Dilution</th>\n",
              "      <th>Proline</th>\n",
              "      <th>k clusterid</th>\n",
              "    </tr>\n",
              "  </thead>\n",
              "  <tbody>\n",
              "    <tr>\n",
              "      <th>0</th>\n",
              "      <td>14.23</td>\n",
              "      <td>1.71</td>\n",
              "      <td>2.43</td>\n",
              "      <td>15.6</td>\n",
              "      <td>127</td>\n",
              "      <td>2.80</td>\n",
              "      <td>3.06</td>\n",
              "      <td>0.28</td>\n",
              "      <td>2.29</td>\n",
              "      <td>5.64</td>\n",
              "      <td>1.04</td>\n",
              "      <td>3.92</td>\n",
              "      <td>1065</td>\n",
              "      <td>1</td>\n",
              "    </tr>\n",
              "    <tr>\n",
              "      <th>1</th>\n",
              "      <td>13.20</td>\n",
              "      <td>1.78</td>\n",
              "      <td>2.14</td>\n",
              "      <td>11.2</td>\n",
              "      <td>100</td>\n",
              "      <td>2.65</td>\n",
              "      <td>2.76</td>\n",
              "      <td>0.26</td>\n",
              "      <td>1.28</td>\n",
              "      <td>4.38</td>\n",
              "      <td>1.05</td>\n",
              "      <td>3.40</td>\n",
              "      <td>1050</td>\n",
              "      <td>1</td>\n",
              "    </tr>\n",
              "    <tr>\n",
              "      <th>2</th>\n",
              "      <td>13.16</td>\n",
              "      <td>2.36</td>\n",
              "      <td>2.67</td>\n",
              "      <td>18.6</td>\n",
              "      <td>101</td>\n",
              "      <td>2.80</td>\n",
              "      <td>3.24</td>\n",
              "      <td>0.30</td>\n",
              "      <td>2.81</td>\n",
              "      <td>5.68</td>\n",
              "      <td>1.03</td>\n",
              "      <td>3.17</td>\n",
              "      <td>1185</td>\n",
              "      <td>1</td>\n",
              "    </tr>\n",
              "    <tr>\n",
              "      <th>3</th>\n",
              "      <td>14.37</td>\n",
              "      <td>1.95</td>\n",
              "      <td>2.50</td>\n",
              "      <td>16.8</td>\n",
              "      <td>113</td>\n",
              "      <td>3.85</td>\n",
              "      <td>3.49</td>\n",
              "      <td>0.24</td>\n",
              "      <td>2.18</td>\n",
              "      <td>7.80</td>\n",
              "      <td>0.86</td>\n",
              "      <td>3.45</td>\n",
              "      <td>1480</td>\n",
              "      <td>1</td>\n",
              "    </tr>\n",
              "    <tr>\n",
              "      <th>4</th>\n",
              "      <td>13.24</td>\n",
              "      <td>2.59</td>\n",
              "      <td>2.87</td>\n",
              "      <td>21.0</td>\n",
              "      <td>118</td>\n",
              "      <td>2.80</td>\n",
              "      <td>2.69</td>\n",
              "      <td>0.39</td>\n",
              "      <td>1.82</td>\n",
              "      <td>4.32</td>\n",
              "      <td>1.04</td>\n",
              "      <td>2.93</td>\n",
              "      <td>735</td>\n",
              "      <td>1</td>\n",
              "    </tr>\n",
              "    <tr>\n",
              "      <th>...</th>\n",
              "      <td>...</td>\n",
              "      <td>...</td>\n",
              "      <td>...</td>\n",
              "      <td>...</td>\n",
              "      <td>...</td>\n",
              "      <td>...</td>\n",
              "      <td>...</td>\n",
              "      <td>...</td>\n",
              "      <td>...</td>\n",
              "      <td>...</td>\n",
              "      <td>...</td>\n",
              "      <td>...</td>\n",
              "      <td>...</td>\n",
              "      <td>...</td>\n",
              "    </tr>\n",
              "    <tr>\n",
              "      <th>173</th>\n",
              "      <td>13.71</td>\n",
              "      <td>5.65</td>\n",
              "      <td>2.45</td>\n",
              "      <td>20.5</td>\n",
              "      <td>95</td>\n",
              "      <td>1.68</td>\n",
              "      <td>0.61</td>\n",
              "      <td>0.52</td>\n",
              "      <td>1.06</td>\n",
              "      <td>7.70</td>\n",
              "      <td>0.64</td>\n",
              "      <td>1.74</td>\n",
              "      <td>740</td>\n",
              "      <td>0</td>\n",
              "    </tr>\n",
              "    <tr>\n",
              "      <th>174</th>\n",
              "      <td>13.40</td>\n",
              "      <td>3.91</td>\n",
              "      <td>2.48</td>\n",
              "      <td>23.0</td>\n",
              "      <td>102</td>\n",
              "      <td>1.80</td>\n",
              "      <td>0.75</td>\n",
              "      <td>0.43</td>\n",
              "      <td>1.41</td>\n",
              "      <td>7.30</td>\n",
              "      <td>0.70</td>\n",
              "      <td>1.56</td>\n",
              "      <td>750</td>\n",
              "      <td>0</td>\n",
              "    </tr>\n",
              "    <tr>\n",
              "      <th>175</th>\n",
              "      <td>13.27</td>\n",
              "      <td>4.28</td>\n",
              "      <td>2.26</td>\n",
              "      <td>20.0</td>\n",
              "      <td>120</td>\n",
              "      <td>1.59</td>\n",
              "      <td>0.69</td>\n",
              "      <td>0.43</td>\n",
              "      <td>1.35</td>\n",
              "      <td>10.20</td>\n",
              "      <td>0.59</td>\n",
              "      <td>1.56</td>\n",
              "      <td>835</td>\n",
              "      <td>0</td>\n",
              "    </tr>\n",
              "    <tr>\n",
              "      <th>176</th>\n",
              "      <td>13.17</td>\n",
              "      <td>2.59</td>\n",
              "      <td>2.37</td>\n",
              "      <td>20.0</td>\n",
              "      <td>120</td>\n",
              "      <td>1.65</td>\n",
              "      <td>0.68</td>\n",
              "      <td>0.53</td>\n",
              "      <td>1.46</td>\n",
              "      <td>9.30</td>\n",
              "      <td>0.60</td>\n",
              "      <td>1.62</td>\n",
              "      <td>840</td>\n",
              "      <td>0</td>\n",
              "    </tr>\n",
              "    <tr>\n",
              "      <th>177</th>\n",
              "      <td>14.13</td>\n",
              "      <td>4.10</td>\n",
              "      <td>2.74</td>\n",
              "      <td>24.5</td>\n",
              "      <td>96</td>\n",
              "      <td>2.05</td>\n",
              "      <td>0.76</td>\n",
              "      <td>0.56</td>\n",
              "      <td>1.35</td>\n",
              "      <td>9.20</td>\n",
              "      <td>0.61</td>\n",
              "      <td>1.60</td>\n",
              "      <td>560</td>\n",
              "      <td>0</td>\n",
              "    </tr>\n",
              "  </tbody>\n",
              "</table>\n",
              "<p>178 rows × 14 columns</p>\n",
              "</div>\n",
              "      <button class=\"colab-df-convert\" onclick=\"convertToInteractive('df-44a92b13-0e37-427e-94db-388fc139e7c4')\"\n",
              "              title=\"Convert this dataframe to an interactive table.\"\n",
              "              style=\"display:none;\">\n",
              "        \n",
              "  <svg xmlns=\"http://www.w3.org/2000/svg\" height=\"24px\"viewBox=\"0 0 24 24\"\n",
              "       width=\"24px\">\n",
              "    <path d=\"M0 0h24v24H0V0z\" fill=\"none\"/>\n",
              "    <path d=\"M18.56 5.44l.94 2.06.94-2.06 2.06-.94-2.06-.94-.94-2.06-.94 2.06-2.06.94zm-11 1L8.5 8.5l.94-2.06 2.06-.94-2.06-.94L8.5 2.5l-.94 2.06-2.06.94zm10 10l.94 2.06.94-2.06 2.06-.94-2.06-.94-.94-2.06-.94 2.06-2.06.94z\"/><path d=\"M17.41 7.96l-1.37-1.37c-.4-.4-.92-.59-1.43-.59-.52 0-1.04.2-1.43.59L10.3 9.45l-7.72 7.72c-.78.78-.78 2.05 0 2.83L4 21.41c.39.39.9.59 1.41.59.51 0 1.02-.2 1.41-.59l7.78-7.78 2.81-2.81c.8-.78.8-2.07 0-2.86zM5.41 20L4 18.59l7.72-7.72 1.47 1.35L5.41 20z\"/>\n",
              "  </svg>\n",
              "      </button>\n",
              "      \n",
              "  <style>\n",
              "    .colab-df-container {\n",
              "      display:flex;\n",
              "      flex-wrap:wrap;\n",
              "      gap: 12px;\n",
              "    }\n",
              "\n",
              "    .colab-df-convert {\n",
              "      background-color: #E8F0FE;\n",
              "      border: none;\n",
              "      border-radius: 50%;\n",
              "      cursor: pointer;\n",
              "      display: none;\n",
              "      fill: #1967D2;\n",
              "      height: 32px;\n",
              "      padding: 0 0 0 0;\n",
              "      width: 32px;\n",
              "    }\n",
              "\n",
              "    .colab-df-convert:hover {\n",
              "      background-color: #E2EBFA;\n",
              "      box-shadow: 0px 1px 2px rgba(60, 64, 67, 0.3), 0px 1px 3px 1px rgba(60, 64, 67, 0.15);\n",
              "      fill: #174EA6;\n",
              "    }\n",
              "\n",
              "    [theme=dark] .colab-df-convert {\n",
              "      background-color: #3B4455;\n",
              "      fill: #D2E3FC;\n",
              "    }\n",
              "\n",
              "    [theme=dark] .colab-df-convert:hover {\n",
              "      background-color: #434B5C;\n",
              "      box-shadow: 0px 1px 3px 1px rgba(0, 0, 0, 0.15);\n",
              "      filter: drop-shadow(0px 1px 2px rgba(0, 0, 0, 0.3));\n",
              "      fill: #FFFFFF;\n",
              "    }\n",
              "  </style>\n",
              "\n",
              "      <script>\n",
              "        const buttonEl =\n",
              "          document.querySelector('#df-44a92b13-0e37-427e-94db-388fc139e7c4 button.colab-df-convert');\n",
              "        buttonEl.style.display =\n",
              "          google.colab.kernel.accessAllowed ? 'block' : 'none';\n",
              "\n",
              "        async function convertToInteractive(key) {\n",
              "          const element = document.querySelector('#df-44a92b13-0e37-427e-94db-388fc139e7c4');\n",
              "          const dataTable =\n",
              "            await google.colab.kernel.invokeFunction('convertToInteractive',\n",
              "                                                     [key], {});\n",
              "          if (!dataTable) return;\n",
              "\n",
              "          const docLinkHtml = 'Like what you see? Visit the ' +\n",
              "            '<a target=\"_blank\" href=https://colab.research.google.com/notebooks/data_table.ipynb>data table notebook</a>'\n",
              "            + ' to learn more about interactive tables.';\n",
              "          element.innerHTML = '';\n",
              "          dataTable['output_type'] = 'display_data';\n",
              "          await google.colab.output.renderOutput(dataTable, element);\n",
              "          const docLink = document.createElement('div');\n",
              "          docLink.innerHTML = docLinkHtml;\n",
              "          element.appendChild(docLink);\n",
              "        }\n",
              "      </script>\n",
              "    </div>\n",
              "  </div>\n",
              "  "
            ]
          },
          "metadata": {},
          "execution_count": 24
        }
      ]
    },
    {
      "cell_type": "code",
      "source": [
        "wine.groupby('k clusterid').agg(['mean']).reset_index"
      ],
      "metadata": {
        "colab": {
          "base_uri": "https://localhost:8080/"
        },
        "id": "1eVY4rd8hm2W",
        "outputId": "f636a552-9c68-40c4-b89e-208a03b1a592"
      },
      "execution_count": 25,
      "outputs": [
        {
          "output_type": "execute_result",
          "data": {
            "text/plain": [
              "<bound method DataFrame.reset_index of                Alcohol     Malic       Ash Alcalinity   Magnesium   Phenols  \\\n",
              "                  mean      mean      mean       mean        mean      mean   \n",
              "k clusterid                                                                   \n",
              "0            13.138077  3.261731  2.416538  21.159615   98.884615  1.700192   \n",
              "1            13.689194  1.980806  2.445645  17.241935  108.241935  2.826935   \n",
              "2            12.221875  1.928906  2.249219  20.325000   92.203125  2.263281   \n",
              "\n",
              "            Flavanoids Nonflavanoids Proanthocyanins     Color       Hue  \\\n",
              "                  mean          mean            mean      mean      mean   \n",
              "k clusterid                                                                \n",
              "0             0.828077      0.453846        1.131923  7.156538  0.698269   \n",
              "1             2.951129      0.290161        1.936452  5.411613  1.067581   \n",
              "2             2.112188      0.356563        1.629063  3.010625  1.061344   \n",
              "\n",
              "             Dilution      Proline  \n",
              "                 mean         mean  \n",
              "k clusterid                         \n",
              "0            1.701154   621.576923  \n",
              "1            3.141129  1104.822581  \n",
              "2            2.838594   501.968750  >"
            ]
          },
          "metadata": {},
          "execution_count": 25
        }
      ]
    },
    {
      "cell_type": "code",
      "source": [
        "wine['original grouping']=wine_org['Type']"
      ],
      "metadata": {
        "id": "b_MUGNFZiDEV"
      },
      "execution_count": 26,
      "outputs": []
    },
    {
      "cell_type": "code",
      "source": [
        "compare=pd.DataFrame()"
      ],
      "metadata": {
        "id": "0ij6D6nKiXcI"
      },
      "execution_count": 27,
      "outputs": []
    },
    {
      "cell_type": "code",
      "source": [
        "compare['original']=wine['original grouping']\n",
        "compare['k id']=wine['k clusterid']\n",
        "compare"
      ],
      "metadata": {
        "colab": {
          "base_uri": "https://localhost:8080/",
          "height": 424
        },
        "id": "r3lY_uGekRho",
        "outputId": "ec14185e-d79f-4054-8cfa-bdd47a79e4cf"
      },
      "execution_count": 28,
      "outputs": [
        {
          "output_type": "execute_result",
          "data": {
            "text/plain": [
              "     original  k id\n",
              "0           1     1\n",
              "1           1     1\n",
              "2           1     1\n",
              "3           1     1\n",
              "4           1     1\n",
              "..        ...   ...\n",
              "173         3     0\n",
              "174         3     0\n",
              "175         3     0\n",
              "176         3     0\n",
              "177         3     0\n",
              "\n",
              "[178 rows x 2 columns]"
            ],
            "text/html": [
              "\n",
              "  <div id=\"df-337547fa-e9b3-4885-8251-eb74b08d938f\">\n",
              "    <div class=\"colab-df-container\">\n",
              "      <div>\n",
              "<style scoped>\n",
              "    .dataframe tbody tr th:only-of-type {\n",
              "        vertical-align: middle;\n",
              "    }\n",
              "\n",
              "    .dataframe tbody tr th {\n",
              "        vertical-align: top;\n",
              "    }\n",
              "\n",
              "    .dataframe thead th {\n",
              "        text-align: right;\n",
              "    }\n",
              "</style>\n",
              "<table border=\"1\" class=\"dataframe\">\n",
              "  <thead>\n",
              "    <tr style=\"text-align: right;\">\n",
              "      <th></th>\n",
              "      <th>original</th>\n",
              "      <th>k id</th>\n",
              "    </tr>\n",
              "  </thead>\n",
              "  <tbody>\n",
              "    <tr>\n",
              "      <th>0</th>\n",
              "      <td>1</td>\n",
              "      <td>1</td>\n",
              "    </tr>\n",
              "    <tr>\n",
              "      <th>1</th>\n",
              "      <td>1</td>\n",
              "      <td>1</td>\n",
              "    </tr>\n",
              "    <tr>\n",
              "      <th>2</th>\n",
              "      <td>1</td>\n",
              "      <td>1</td>\n",
              "    </tr>\n",
              "    <tr>\n",
              "      <th>3</th>\n",
              "      <td>1</td>\n",
              "      <td>1</td>\n",
              "    </tr>\n",
              "    <tr>\n",
              "      <th>4</th>\n",
              "      <td>1</td>\n",
              "      <td>1</td>\n",
              "    </tr>\n",
              "    <tr>\n",
              "      <th>...</th>\n",
              "      <td>...</td>\n",
              "      <td>...</td>\n",
              "    </tr>\n",
              "    <tr>\n",
              "      <th>173</th>\n",
              "      <td>3</td>\n",
              "      <td>0</td>\n",
              "    </tr>\n",
              "    <tr>\n",
              "      <th>174</th>\n",
              "      <td>3</td>\n",
              "      <td>0</td>\n",
              "    </tr>\n",
              "    <tr>\n",
              "      <th>175</th>\n",
              "      <td>3</td>\n",
              "      <td>0</td>\n",
              "    </tr>\n",
              "    <tr>\n",
              "      <th>176</th>\n",
              "      <td>3</td>\n",
              "      <td>0</td>\n",
              "    </tr>\n",
              "    <tr>\n",
              "      <th>177</th>\n",
              "      <td>3</td>\n",
              "      <td>0</td>\n",
              "    </tr>\n",
              "  </tbody>\n",
              "</table>\n",
              "<p>178 rows × 2 columns</p>\n",
              "</div>\n",
              "      <button class=\"colab-df-convert\" onclick=\"convertToInteractive('df-337547fa-e9b3-4885-8251-eb74b08d938f')\"\n",
              "              title=\"Convert this dataframe to an interactive table.\"\n",
              "              style=\"display:none;\">\n",
              "        \n",
              "  <svg xmlns=\"http://www.w3.org/2000/svg\" height=\"24px\"viewBox=\"0 0 24 24\"\n",
              "       width=\"24px\">\n",
              "    <path d=\"M0 0h24v24H0V0z\" fill=\"none\"/>\n",
              "    <path d=\"M18.56 5.44l.94 2.06.94-2.06 2.06-.94-2.06-.94-.94-2.06-.94 2.06-2.06.94zm-11 1L8.5 8.5l.94-2.06 2.06-.94-2.06-.94L8.5 2.5l-.94 2.06-2.06.94zm10 10l.94 2.06.94-2.06 2.06-.94-2.06-.94-.94-2.06-.94 2.06-2.06.94z\"/><path d=\"M17.41 7.96l-1.37-1.37c-.4-.4-.92-.59-1.43-.59-.52 0-1.04.2-1.43.59L10.3 9.45l-7.72 7.72c-.78.78-.78 2.05 0 2.83L4 21.41c.39.39.9.59 1.41.59.51 0 1.02-.2 1.41-.59l7.78-7.78 2.81-2.81c.8-.78.8-2.07 0-2.86zM5.41 20L4 18.59l7.72-7.72 1.47 1.35L5.41 20z\"/>\n",
              "  </svg>\n",
              "      </button>\n",
              "      \n",
              "  <style>\n",
              "    .colab-df-container {\n",
              "      display:flex;\n",
              "      flex-wrap:wrap;\n",
              "      gap: 12px;\n",
              "    }\n",
              "\n",
              "    .colab-df-convert {\n",
              "      background-color: #E8F0FE;\n",
              "      border: none;\n",
              "      border-radius: 50%;\n",
              "      cursor: pointer;\n",
              "      display: none;\n",
              "      fill: #1967D2;\n",
              "      height: 32px;\n",
              "      padding: 0 0 0 0;\n",
              "      width: 32px;\n",
              "    }\n",
              "\n",
              "    .colab-df-convert:hover {\n",
              "      background-color: #E2EBFA;\n",
              "      box-shadow: 0px 1px 2px rgba(60, 64, 67, 0.3), 0px 1px 3px 1px rgba(60, 64, 67, 0.15);\n",
              "      fill: #174EA6;\n",
              "    }\n",
              "\n",
              "    [theme=dark] .colab-df-convert {\n",
              "      background-color: #3B4455;\n",
              "      fill: #D2E3FC;\n",
              "    }\n",
              "\n",
              "    [theme=dark] .colab-df-convert:hover {\n",
              "      background-color: #434B5C;\n",
              "      box-shadow: 0px 1px 3px 1px rgba(0, 0, 0, 0.15);\n",
              "      filter: drop-shadow(0px 1px 2px rgba(0, 0, 0, 0.3));\n",
              "      fill: #FFFFFF;\n",
              "    }\n",
              "  </style>\n",
              "\n",
              "      <script>\n",
              "        const buttonEl =\n",
              "          document.querySelector('#df-337547fa-e9b3-4885-8251-eb74b08d938f button.colab-df-convert');\n",
              "        buttonEl.style.display =\n",
              "          google.colab.kernel.accessAllowed ? 'block' : 'none';\n",
              "\n",
              "        async function convertToInteractive(key) {\n",
              "          const element = document.querySelector('#df-337547fa-e9b3-4885-8251-eb74b08d938f');\n",
              "          const dataTable =\n",
              "            await google.colab.kernel.invokeFunction('convertToInteractive',\n",
              "                                                     [key], {});\n",
              "          if (!dataTable) return;\n",
              "\n",
              "          const docLinkHtml = 'Like what you see? Visit the ' +\n",
              "            '<a target=\"_blank\" href=https://colab.research.google.com/notebooks/data_table.ipynb>data table notebook</a>'\n",
              "            + ' to learn more about interactive tables.';\n",
              "          element.innerHTML = '';\n",
              "          dataTable['output_type'] = 'display_data';\n",
              "          await google.colab.output.renderOutput(dataTable, element);\n",
              "          const docLink = document.createElement('div');\n",
              "          docLink.innerHTML = docLinkHtml;\n",
              "          element.appendChild(docLink);\n",
              "        }\n",
              "      </script>\n",
              "    </div>\n",
              "  </div>\n",
              "  "
            ]
          },
          "metadata": {},
          "execution_count": 28
        }
      ]
    },
    {
      "cell_type": "code",
      "source": [
        "compare['original'].value_counts() #number of data points in the clusters in the original data set"
      ],
      "metadata": {
        "colab": {
          "base_uri": "https://localhost:8080/"
        },
        "id": "kZcC24g4o-Mf",
        "outputId": "a1ca2c58-7464-4da5-f80c-3dac2ecca18e"
      },
      "execution_count": 32,
      "outputs": [
        {
          "output_type": "execute_result",
          "data": {
            "text/plain": [
              "2    71\n",
              "1    59\n",
              "3    48\n",
              "Name: original, dtype: int64"
            ]
          },
          "metadata": {},
          "execution_count": 32
        }
      ]
    },
    {
      "cell_type": "code",
      "source": [
        "compare['k id'].value_counts() #numbre of data points in the clusters of kmeans clustering technique where cluster 0 corresponds to cluster 3 of the original data set"
      ],
      "metadata": {
        "colab": {
          "base_uri": "https://localhost:8080/"
        },
        "id": "2OjzN3z4qXHb",
        "outputId": "f2c1b817-8ce8-42a9-a8f8-d8ba4359d6ba"
      },
      "execution_count": 33,
      "outputs": [
        {
          "output_type": "execute_result",
          "data": {
            "text/plain": [
              "2    64\n",
              "1    62\n",
              "0    52\n",
              "Name: k id, dtype: int64"
            ]
          },
          "metadata": {},
          "execution_count": 33
        }
      ]
    },
    {
      "cell_type": "code",
      "source": [
        "#from the above three cells it is noticed that \n",
        "#in the original data set the cluster 3 corresponds to cluser 0 of the kmeans clustering and the number of data points in each cluster can be seen inthe above two cells"
      ],
      "metadata": {
        "id": "cp8RHEEWpqOT"
      },
      "execution_count": 31,
      "outputs": []
    }
  ]
}